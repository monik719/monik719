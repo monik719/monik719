{
 "cells": [
  {
   "cell_type": "markdown",
   "metadata": {},
   "source": [
    "# Descripcion del proyecto\n",
    "\n",
    "Se trabaja con un dataser de una empresa emergente que vende productos alimenticios. \n",
    "\n",
    "**objetivo:** investigar el comportamiento del usuario para la aplicación de la empresa.\n",
    "\n",
    "Primero, estudia el embudo de ventas. Descubre cómo los usuarios y las usuarias llegan a la etapa de compra. ¿Cuántos usuarios o usuarias realmente llegan a esta etapa? ¿Cuántos se atascan en etapas anteriores? ¿Qué etapas en particular?\n",
    "\n",
    "Con los resultados de un test A/A/B. Al equipo de diseño le gustaría cambiar las fuentes de toda la aplicación, pero la gerencia teme que los usuarios piensen que el nuevo diseño es intimidante. Por ello, deciden tomar una decisión basada en los resultados de un test A/A/B.\n",
    "\n"
   ]
  },
  {
   "cell_type": "markdown",
   "metadata": {},
   "source": [
    "## Leer el archivo e información general"
   ]
  },
  {
   "cell_type": "code",
   "execution_count": 1,
   "metadata": {
    "tags": [
     "2b1861ea-c3e0-4698-b05b-5c58897896c5"
    ]
   },
   "outputs": [],
   "source": [
    "#Importamos librerias\n",
    "import pandas as pd\n",
    "import datetime\n",
    "from datetime import datetime as dt\n",
    "import seaborn as sns\n",
    "import matplotlib.pyplot as plt\n",
    "from scipy import stats as st\n",
    "import numpy as np\n",
    "import math as mth"
   ]
  },
  {
   "cell_type": "code",
   "execution_count": 2,
   "metadata": {},
   "outputs": [
    {
     "name": "stdout",
     "output_type": "stream",
     "text": [
      "<class 'pandas.core.frame.DataFrame'>\n",
      "RangeIndex: 244126 entries, 0 to 244125\n",
      "Data columns (total 4 columns):\n",
      " #   Column          Non-Null Count   Dtype \n",
      "---  ------          --------------   ----- \n",
      " 0   EventName       244126 non-null  object\n",
      " 1   DeviceIDHash    244126 non-null  int64 \n",
      " 2   EventTimestamp  244126 non-null  int64 \n",
      " 3   ExpId           244126 non-null  int64 \n",
      "dtypes: int64(3), object(1)\n",
      "memory usage: 7.5+ MB\n"
     ]
    }
   ],
   "source": [
    "data = pd.read_csv('/datasets/logs_exp_us.csv', sep='\\t')\n",
    "data.info()"
   ]
  },
  {
   "cell_type": "code",
   "execution_count": 3,
   "metadata": {},
   "outputs": [
    {
     "name": "stdout",
     "output_type": "stream",
     "text": [
      "<class 'pandas.core.frame.DataFrame'>\n",
      "RangeIndex: 244126 entries, 0 to 244125\n",
      "Data columns (total 4 columns):\n",
      " #   Column          Non-Null Count   Dtype \n",
      "---  ------          --------------   ----- \n",
      " 0   EventName       244126 non-null  object\n",
      " 1   DeviceIDHash    244126 non-null  int64 \n",
      " 2   EventTimestamp  244126 non-null  int64 \n",
      " 3   ExpId           244126 non-null  int64 \n",
      "dtypes: int64(3), object(1)\n",
      "memory usage: 7.5+ MB\n"
     ]
    },
    {
     "data": {
      "text/html": [
       "<div>\n",
       "<style scoped>\n",
       "    .dataframe tbody tr th:only-of-type {\n",
       "        vertical-align: middle;\n",
       "    }\n",
       "\n",
       "    .dataframe tbody tr th {\n",
       "        vertical-align: top;\n",
       "    }\n",
       "\n",
       "    .dataframe thead th {\n",
       "        text-align: right;\n",
       "    }\n",
       "</style>\n",
       "<table border=\"1\" class=\"dataframe\">\n",
       "  <thead>\n",
       "    <tr style=\"text-align: right;\">\n",
       "      <th></th>\n",
       "      <th>EventName</th>\n",
       "      <th>DeviceIDHash</th>\n",
       "      <th>EventTimestamp</th>\n",
       "      <th>ExpId</th>\n",
       "    </tr>\n",
       "  </thead>\n",
       "  <tbody>\n",
       "    <tr>\n",
       "      <th>0</th>\n",
       "      <td>MainScreenAppear</td>\n",
       "      <td>4575588528974610257</td>\n",
       "      <td>1564029816</td>\n",
       "      <td>246</td>\n",
       "    </tr>\n",
       "    <tr>\n",
       "      <th>1</th>\n",
       "      <td>MainScreenAppear</td>\n",
       "      <td>7416695313311560658</td>\n",
       "      <td>1564053102</td>\n",
       "      <td>246</td>\n",
       "    </tr>\n",
       "    <tr>\n",
       "      <th>2</th>\n",
       "      <td>PaymentScreenSuccessful</td>\n",
       "      <td>3518123091307005509</td>\n",
       "      <td>1564054127</td>\n",
       "      <td>248</td>\n",
       "    </tr>\n",
       "    <tr>\n",
       "      <th>3</th>\n",
       "      <td>CartScreenAppear</td>\n",
       "      <td>3518123091307005509</td>\n",
       "      <td>1564054127</td>\n",
       "      <td>248</td>\n",
       "    </tr>\n",
       "    <tr>\n",
       "      <th>4</th>\n",
       "      <td>PaymentScreenSuccessful</td>\n",
       "      <td>6217807653094995999</td>\n",
       "      <td>1564055322</td>\n",
       "      <td>248</td>\n",
       "    </tr>\n",
       "  </tbody>\n",
       "</table>\n",
       "</div>"
      ],
      "text/plain": [
       "                 EventName         DeviceIDHash  EventTimestamp  ExpId\n",
       "0         MainScreenAppear  4575588528974610257      1564029816    246\n",
       "1         MainScreenAppear  7416695313311560658      1564053102    246\n",
       "2  PaymentScreenSuccessful  3518123091307005509      1564054127    248\n",
       "3         CartScreenAppear  3518123091307005509      1564054127    248\n",
       "4  PaymentScreenSuccessful  6217807653094995999      1564055322    248"
      ]
     },
     "execution_count": 3,
     "metadata": {},
     "output_type": "execute_result"
    }
   ],
   "source": [
    "#Lectura general de los datos\n",
    "data = pd.read_csv('/datasets/logs_exp_us.csv', sep='\\t')\n",
    "\n",
    "#Información general\n",
    "data.info()\n",
    "\n",
    "# 5 primeras filas del archivo\n",
    "data.head()"
   ]
  },
  {
   "cell_type": "markdown",
   "metadata": {},
   "source": [
    "## Preparar los datos para el analisis"
   ]
  },
  {
   "cell_type": "code",
   "execution_count": 4,
   "metadata": {},
   "outputs": [],
   "source": [
    "# Renombramos columnas\n",
    "data = data.rename(columns={'EventName': 'nombre_event', 'DeviceIDHash': 'id_usuario', 'EventTimestamp': 'hora_event', 'ExpId': 'numero_experimento'})\n",
    "\n",
    "# Convertimos la columna 'hora_event' a datetime\n",
    "data['hora_event'] = pd.to_datetime(data['hora_event'], unit='s')\n",
    "\n",
    "#mostramos las filas con valores duplicados\n",
    "dupli = data[data.duplicated()]\n",
    "\n",
    "#Agregamos columna de fecha\n",
    "data['date'] = data['hora_event'].dt.date\n",
    "data['date'] = pd.to_datetime(data['date'])\n",
    " "
   ]
  },
  {
   "cell_type": "code",
   "execution_count": 5,
   "metadata": {},
   "outputs": [
    {
     "name": "stdout",
     "output_type": "stream",
     "text": [
      "<class 'pandas.core.frame.DataFrame'>\n",
      "RangeIndex: 244126 entries, 0 to 244125\n",
      "Data columns (total 5 columns):\n",
      " #   Column              Non-Null Count   Dtype         \n",
      "---  ------              --------------   -----         \n",
      " 0   nombre_event        244126 non-null  object        \n",
      " 1   id_usuario          244126 non-null  int64         \n",
      " 2   hora_event          244126 non-null  datetime64[ns]\n",
      " 3   numero_experimento  244126 non-null  int64         \n",
      " 4   date                244126 non-null  datetime64[ns]\n",
      "dtypes: datetime64[ns](2), int64(2), object(1)\n",
      "memory usage: 9.3+ MB\n"
     ]
    }
   ],
   "source": [
    "data.info()"
   ]
  },
  {
   "cell_type": "code",
   "execution_count": 6,
   "metadata": {},
   "outputs": [
    {
     "data": {
      "text/html": [
       "<div>\n",
       "<style scoped>\n",
       "    .dataframe tbody tr th:only-of-type {\n",
       "        vertical-align: middle;\n",
       "    }\n",
       "\n",
       "    .dataframe tbody tr th {\n",
       "        vertical-align: top;\n",
       "    }\n",
       "\n",
       "    .dataframe thead th {\n",
       "        text-align: right;\n",
       "    }\n",
       "</style>\n",
       "<table border=\"1\" class=\"dataframe\">\n",
       "  <thead>\n",
       "    <tr style=\"text-align: right;\">\n",
       "      <th></th>\n",
       "      <th>nombre_event</th>\n",
       "      <th>id_usuario</th>\n",
       "      <th>hora_event</th>\n",
       "      <th>numero_experimento</th>\n",
       "      <th>date</th>\n",
       "    </tr>\n",
       "  </thead>\n",
       "  <tbody>\n",
       "    <tr>\n",
       "      <th>0</th>\n",
       "      <td>MainScreenAppear</td>\n",
       "      <td>4575588528974610257</td>\n",
       "      <td>2019-07-25 04:43:36</td>\n",
       "      <td>246</td>\n",
       "      <td>2019-07-25</td>\n",
       "    </tr>\n",
       "    <tr>\n",
       "      <th>1</th>\n",
       "      <td>MainScreenAppear</td>\n",
       "      <td>7416695313311560658</td>\n",
       "      <td>2019-07-25 11:11:42</td>\n",
       "      <td>246</td>\n",
       "      <td>2019-07-25</td>\n",
       "    </tr>\n",
       "  </tbody>\n",
       "</table>\n",
       "</div>"
      ],
      "text/plain": [
       "       nombre_event           id_usuario          hora_event  \\\n",
       "0  MainScreenAppear  4575588528974610257 2019-07-25 04:43:36   \n",
       "1  MainScreenAppear  7416695313311560658 2019-07-25 11:11:42   \n",
       "\n",
       "   numero_experimento       date  \n",
       "0                 246 2019-07-25  \n",
       "1                 246 2019-07-25  "
      ]
     },
     "execution_count": 6,
     "metadata": {},
     "output_type": "execute_result"
    }
   ],
   "source": [
    "data.head(2)"
   ]
  },
  {
   "cell_type": "markdown",
   "metadata": {},
   "source": [
    "## Estudiar y comprobar los datos"
   ]
  },
  {
   "cell_type": "markdown",
   "metadata": {},
   "source": [
    "### ¿Cuántos eventos hay en los registros?"
   ]
  },
  {
   "cell_type": "code",
   "execution_count": 7,
   "metadata": {},
   "outputs": [
    {
     "data": {
      "text/plain": [
       "MainScreenAppear           119205\n",
       "OffersScreenAppear          46825\n",
       "CartScreenAppear            42731\n",
       "PaymentScreenSuccessful     34313\n",
       "Tutorial                     1052\n",
       "Name: nombre_event, dtype: int64"
      ]
     },
     "execution_count": 7,
     "metadata": {},
     "output_type": "execute_result"
    }
   ],
   "source": [
    "data['nombre_event'].value_counts()"
   ]
  },
  {
   "cell_type": "markdown",
   "metadata": {},
   "source": [
    "Eventos:\n",
    "   - MainScreenAppear        :  Aparece la pantalla principal\n",
    "   - OffersScreenAppear      :  Aparece la pantalla de ofertas\n",
    "   - CartScreenAppear        :  Aparece la pantalla del carrito\n",
    "   - PaymentScreenSuccessful :  Pantalla de pago exitosa\n",
    "   - Tutorial                :  Tutorial"
   ]
  },
  {
   "cell_type": "markdown",
   "metadata": {},
   "source": [
    "### ¿Cuántos usuarios hay en los registros?"
   ]
  },
  {
   "cell_type": "code",
   "execution_count": 8,
   "metadata": {},
   "outputs": [
    {
     "name": "stdout",
     "output_type": "stream",
     "text": [
      "Usuarios en los registros: 7551\n",
      "\n",
      "Usuarios por cada evento\n"
     ]
    },
    {
     "data": {
      "text/html": [
       "<div>\n",
       "<style scoped>\n",
       "    .dataframe tbody tr th:only-of-type {\n",
       "        vertical-align: middle;\n",
       "    }\n",
       "\n",
       "    .dataframe tbody tr th {\n",
       "        vertical-align: top;\n",
       "    }\n",
       "\n",
       "    .dataframe thead th {\n",
       "        text-align: right;\n",
       "    }\n",
       "</style>\n",
       "<table border=\"1\" class=\"dataframe\">\n",
       "  <thead>\n",
       "    <tr style=\"text-align: right;\">\n",
       "      <th></th>\n",
       "      <th>nombre_event</th>\n",
       "      <th>id_usuario</th>\n",
       "    </tr>\n",
       "  </thead>\n",
       "  <tbody>\n",
       "    <tr>\n",
       "      <th>1</th>\n",
       "      <td>MainScreenAppear</td>\n",
       "      <td>7439</td>\n",
       "    </tr>\n",
       "    <tr>\n",
       "      <th>2</th>\n",
       "      <td>OffersScreenAppear</td>\n",
       "      <td>4613</td>\n",
       "    </tr>\n",
       "    <tr>\n",
       "      <th>0</th>\n",
       "      <td>CartScreenAppear</td>\n",
       "      <td>3749</td>\n",
       "    </tr>\n",
       "    <tr>\n",
       "      <th>3</th>\n",
       "      <td>PaymentScreenSuccessful</td>\n",
       "      <td>3547</td>\n",
       "    </tr>\n",
       "    <tr>\n",
       "      <th>4</th>\n",
       "      <td>Tutorial</td>\n",
       "      <td>847</td>\n",
       "    </tr>\n",
       "  </tbody>\n",
       "</table>\n",
       "</div>"
      ],
      "text/plain": [
       "              nombre_event  id_usuario\n",
       "1         MainScreenAppear        7439\n",
       "2       OffersScreenAppear        4613\n",
       "0         CartScreenAppear        3749\n",
       "3  PaymentScreenSuccessful        3547\n",
       "4                 Tutorial         847"
      ]
     },
     "execution_count": 8,
     "metadata": {},
     "output_type": "execute_result"
    }
   ],
   "source": [
    "print(\"Usuarios en los registros:\", data['id_usuario'].nunique())\n",
    "print()\n",
    "#Usuario por evento\n",
    "print(\"Usuarios por cada evento\")\n",
    "usuarios = data.groupby('nombre_event').agg({'id_usuario': 'nunique'}).reset_index()\n",
    "usuarios.sort_values(by = 'id_usuario', ascending=False)"
   ]
  },
  {
   "cell_type": "markdown",
   "metadata": {},
   "source": [
    "De 7439 usuarios que entraron a la pantalla principal solo el 62% ingreso a la pantalla de ofertas.\n",
    "De 3749 usuarios que ingresaron a la pantalla de carrito, el 94.6% completo el pago exitoso."
   ]
  },
  {
   "cell_type": "markdown",
   "metadata": {},
   "source": [
    "### ¿Cuál es el promedio de eventos por usuario?"
   ]
  },
  {
   "cell_type": "code",
   "execution_count": 9,
   "metadata": {
    "scrolled": true
   },
   "outputs": [
    {
     "name": "stdout",
     "output_type": "stream",
     "text": [
      "El promedio de eventos por usuario es 32\n"
     ]
    }
   ],
   "source": [
    "num_events = data.shape[0]\n",
    "num_users = data['id_usuario'].nunique()\n",
    "avg_events_per_user = num_events / num_users\n",
    "print(f\"El promedio de eventos por usuario es {avg_events_per_user:.0f}\")"
   ]
  },
  {
   "cell_type": "markdown",
   "metadata": {},
   "source": [
    "### ¿Qué periodo de tiempo cubren los datos? "
   ]
  },
  {
   "cell_type": "code",
   "execution_count": 10,
   "metadata": {},
   "outputs": [
    {
     "name": "stdout",
     "output_type": "stream",
     "text": [
      "2019-07-25 00:00:00\n"
     ]
    },
    {
     "data": {
      "text/plain": [
       "Timestamp('2019-08-07 00:00:00')"
      ]
     },
     "execution_count": 10,
     "metadata": {},
     "output_type": "execute_result"
    }
   ],
   "source": [
    "#Buscamos fecha max y mn\n",
    "print(data['date'].min())\n",
    "data['date'].max()"
   ]
  },
  {
   "cell_type": "markdown",
   "metadata": {},
   "source": [
    "El periodo de tiempo que cubren los datos es de 14 dia, desde 2019-07-25 a 2019-08-07 "
   ]
  },
  {
   "cell_type": "code",
   "execution_count": 11,
   "metadata": {},
   "outputs": [
    {
     "data": {
      "text/plain": [
       "248    85747\n",
       "246    80304\n",
       "247    78075\n",
       "Name: numero_experimento, dtype: int64"
      ]
     },
     "execution_count": 11,
     "metadata": {},
     "output_type": "execute_result"
    }
   ],
   "source": [
    "data['numero_experimento'].value_counts()"
   ]
  },
  {
   "cell_type": "code",
   "execution_count": 12,
   "metadata": {},
   "outputs": [
    {
     "data": {
      "image/png": "[encoded data removed]",
      "text/plain": [
       "<Figure size 640x480 with 1 Axes>"
      ]
     },
     "metadata": {},
     "output_type": "display_data"
    }
   ],
   "source": [
    "#Histograma por fecha y hora\n",
    "# Trazar un histograma por fecha y hora\n",
    "data['hora_event'].hist(bins=14)\n",
    "plt.xlabel('Fecha')\n",
    "plt.ylabel('Frecuencia')\n",
    "plt.title('Histograma de eventos por fecha')\n",
    "plt.xticks(rotation=90)\n",
    "plt.show()"
   ]
  },
  {
   "cell_type": "markdown",
   "metadata": {},
   "source": [
    "Podemos visualizar que la mayoria de datos se concentra en las fechas del 1 al 7 de agosto. 241298 (mas del 99%) filas pertenecen al mes de agosto y 2828 filas al mes de julio. Por lo que trabajaremos con los datos del solo el mes de agosto ya que los demas datos podrian sesgar el panorama. Ya con esta información con los datos que trabajaremos solo cubre **Una semana**"
   ]
  },
  {
   "cell_type": "code",
   "execution_count": 13,
   "metadata": {},
   "outputs": [],
   "source": [
    "#Dataset sin valores qu sesgen la información\n",
    "data_filtrado = data[data['date'] >= '2019-08-01']"
   ]
  },
  {
   "cell_type": "code",
   "execution_count": 14,
   "metadata": {},
   "outputs": [],
   "source": [
    "data_filtrado.duplicated().sum()\n",
    "\n",
    "#mostramos las filas con valores duplicados\n",
    "duplicados = data_filtrado[data_filtrado.duplicated()]\n",
    "duplicados.head(2)\n",
    "\n",
    "#Eliminamos datos duplicados\n",
    "data_filtrado = data_filtrado.drop_duplicates()"
   ]
  },
  {
   "cell_type": "code",
   "execution_count": 15,
   "metadata": {},
   "outputs": [
    {
     "name": "stdout",
     "output_type": "stream",
     "text": [
      "<class 'pandas.core.frame.DataFrame'>\n",
      "Int64Index: 240887 entries, 2828 to 244125\n",
      "Data columns (total 5 columns):\n",
      " #   Column              Non-Null Count   Dtype         \n",
      "---  ------              --------------   -----         \n",
      " 0   nombre_event        240887 non-null  object        \n",
      " 1   id_usuario          240887 non-null  int64         \n",
      " 2   hora_event          240887 non-null  datetime64[ns]\n",
      " 3   numero_experimento  240887 non-null  int64         \n",
      " 4   date                240887 non-null  datetime64[ns]\n",
      "dtypes: datetime64[ns](2), int64(2), object(1)\n",
      "memory usage: 11.0+ MB\n"
     ]
    }
   ],
   "source": [
    "data_filtrado.info()"
   ]
  },
  {
   "cell_type": "markdown",
   "metadata": {},
   "source": [
    "### ¿Perdiste muchos eventos y usuarios al excluir los datos más antiguos?"
   ]
  },
  {
   "cell_type": "code",
   "execution_count": 16,
   "metadata": {},
   "outputs": [
    {
     "data": {
      "text/plain": [
       "MainScreenAppear           119205\n",
       "OffersScreenAppear          46825\n",
       "CartScreenAppear            42731\n",
       "PaymentScreenSuccessful     34313\n",
       "Tutorial                     1052\n",
       "Name: nombre_event, dtype: int64"
      ]
     },
     "execution_count": 16,
     "metadata": {},
     "output_type": "execute_result"
    }
   ],
   "source": [
    "data['nombre_event'].value_counts()"
   ]
  },
  {
   "cell_type": "code",
   "execution_count": 17,
   "metadata": {},
   "outputs": [
    {
     "data": {
      "text/plain": [
       "MainScreenAppear           117328\n",
       "OffersScreenAppear          46333\n",
       "CartScreenAppear            42303\n",
       "PaymentScreenSuccessful     33918\n",
       "Tutorial                     1005\n",
       "Name: nombre_event, dtype: int64"
      ]
     },
     "execution_count": 17,
     "metadata": {},
     "output_type": "execute_result"
    }
   ],
   "source": [
    "data_filtrado['nombre_event'].value_counts()"
   ]
  },
  {
   "cell_type": "code",
   "execution_count": 18,
   "metadata": {},
   "outputs": [
    {
     "name": "stdout",
     "output_type": "stream",
     "text": [
      "Total de eventos del dataset original: 244126\n",
      "Total de eventos del dataset filtrado: 240887\n"
     ]
    }
   ],
   "source": [
    "#Calculamos la totalidad de eventos para los dateset\n",
    "print(\"Total de eventos del dataset original:\",data['nombre_event'].count())\n",
    "print(\"Total de eventos del dataset filtrado:\", data_filtrado['nombre_event'].count())\n"
   ]
  },
  {
   "cell_type": "markdown",
   "metadata": {},
   "source": [
    "Realmente, No se perdieron muchos eventos solo **2826 eventos** . De los que se perdieron la mayoria (1773) era de \"MainScreenAppear\"."
   ]
  },
  {
   "cell_type": "markdown",
   "metadata": {},
   "source": [
    "### Asegúrate de tener usuarios y usuarias de los tres grupos experimentales"
   ]
  },
  {
   "cell_type": "code",
   "execution_count": 19,
   "metadata": {},
   "outputs": [
    {
     "data": {
      "text/html": [
       "<div>\n",
       "<style scoped>\n",
       "    .dataframe tbody tr th:only-of-type {\n",
       "        vertical-align: middle;\n",
       "    }\n",
       "\n",
       "    .dataframe tbody tr th {\n",
       "        vertical-align: top;\n",
       "    }\n",
       "\n",
       "    .dataframe thead th {\n",
       "        text-align: right;\n",
       "    }\n",
       "</style>\n",
       "<table border=\"1\" class=\"dataframe\">\n",
       "  <thead>\n",
       "    <tr style=\"text-align: right;\">\n",
       "      <th></th>\n",
       "      <th>nombre_event</th>\n",
       "      <th>id_usuario</th>\n",
       "      <th>hora_event</th>\n",
       "      <th>numero_experimento</th>\n",
       "      <th>date</th>\n",
       "    </tr>\n",
       "  </thead>\n",
       "  <tbody>\n",
       "    <tr>\n",
       "      <th>2828</th>\n",
       "      <td>Tutorial</td>\n",
       "      <td>3737462046622621720</td>\n",
       "      <td>2019-08-01 00:07:28</td>\n",
       "      <td>246</td>\n",
       "      <td>2019-08-01</td>\n",
       "    </tr>\n",
       "    <tr>\n",
       "      <th>2829</th>\n",
       "      <td>MainScreenAppear</td>\n",
       "      <td>3737462046622621720</td>\n",
       "      <td>2019-08-01 00:08:00</td>\n",
       "      <td>246</td>\n",
       "      <td>2019-08-01</td>\n",
       "    </tr>\n",
       "  </tbody>\n",
       "</table>\n",
       "</div>"
      ],
      "text/plain": [
       "          nombre_event           id_usuario          hora_event  \\\n",
       "2828          Tutorial  3737462046622621720 2019-08-01 00:07:28   \n",
       "2829  MainScreenAppear  3737462046622621720 2019-08-01 00:08:00   \n",
       "\n",
       "      numero_experimento       date  \n",
       "2828                 246 2019-08-01  \n",
       "2829                 246 2019-08-01  "
      ]
     },
     "execution_count": 19,
     "metadata": {},
     "output_type": "execute_result"
    }
   ],
   "source": [
    "data_filtrado.head(2)"
   ]
  },
  {
   "cell_type": "code",
   "execution_count": 20,
   "metadata": {},
   "outputs": [
    {
     "name": "stdout",
     "output_type": "stream",
     "text": [
      "Usuarios por grupo experimental:\n",
      "   exp_id  users_count\n",
      "0     246         2484\n",
      "1     247         2513\n",
      "2     248         2537\n"
     ]
    }
   ],
   "source": [
    "#Cantidad de eventos para cada experimento\n",
    "users_per_group = data_filtrado.groupby('numero_experimento')['id_usuario'].nunique().reset_index()\n",
    "users_per_group.columns = ['exp_id', 'users_count']\n",
    "print(\"Usuarios por grupo experimental:\")\n",
    "print(users_per_group)"
   ]
  },
  {
   "cell_type": "markdown",
   "metadata": {},
   "source": [
    "## Estudiar el embudo de eventos"
   ]
  },
  {
   "cell_type": "markdown",
   "metadata": {},
   "source": [
    "### Observa qué eventos hay en los registros y su frecuencia de suceso. Ordénalos por frecuencia"
   ]
  },
  {
   "cell_type": "code",
   "execution_count": 21,
   "metadata": {},
   "outputs": [
    {
     "name": "stdout",
     "output_type": "stream",
     "text": [
      "Frecuencia de eventos:\n",
      "                      event   count\n",
      "0         MainScreenAppear  117328\n",
      "1       OffersScreenAppear   46333\n",
      "2         CartScreenAppear   42303\n",
      "3  PaymentScreenSuccessful   33918\n",
      "4                 Tutorial    1005\n"
     ]
    }
   ],
   "source": [
    "event_counts = data_filtrado['nombre_event'].value_counts().reset_index()\n",
    "event_counts.columns = ['event', 'count']\n",
    "print(\"Frecuencia de eventos:\\n\", event_counts)"
   ]
  },
  {
   "cell_type": "markdown",
   "metadata": {},
   "source": [
    "### Encuentra la cantidad de usuarios que realizaron cada una de estas acciones. Ordena los eventos por el número de usuarios. Calcula la proporción de usuarios que realizaron la acción al menos una vez."
   ]
  },
  {
   "cell_type": "code",
   "execution_count": 22,
   "metadata": {},
   "outputs": [
    {
     "name": "stdout",
     "output_type": "stream",
     "text": [
      "\n",
      "Cantidad de usuarios por evento\n",
      "                     evento  cant_usuarios\n",
      "1         MainScreenAppear           7419\n",
      "2       OffersScreenAppear           4593\n",
      "0         CartScreenAppear           3734\n",
      "3  PaymentScreenSuccessful           3539\n",
      "4                 Tutorial            840\n"
     ]
    }
   ],
   "source": [
    "#Cantidad de usuario por evento\n",
    "usuarios_por_evento = data_filtrado.groupby('nombre_event')['id_usuario'].nunique().reset_index()\n",
    "usuarios_por_evento.columns = ['evento', 'cant_usuarios']\n",
    "\n",
    "#Eventos ordenados por el numero de usuarios\n",
    "usuarios_por_evento = usuarios_por_evento.sort_values(by=['cant_usuarios'], ascending=False)\n",
    "print('\\nCantidad de usuarios por evento\\n', usuarios_por_evento)\n"
   ]
  },
  {
   "cell_type": "code",
   "execution_count": 23,
   "metadata": {},
   "outputs": [],
   "source": [
    "#Proporción de usuarios que realizaron la acción al menos una vez\n",
    "usuario = data_filtrado.pivot_table(\n",
    "    index='id_usuario', \n",
    "    columns='nombre_event', \n",
    "    values='hora_event',\n",
    "    aggfunc='min')\n"
   ]
  },
  {
   "cell_type": "code",
   "execution_count": 24,
   "metadata": {},
   "outputs": [
    {
     "name": "stdout",
     "output_type": "stream",
     "text": [
      "Pantalla pricipal: 7419\n",
      "Pantalla ofertas: 4201\n",
      "Carrito: 1767\n",
      "Pago exitoso: 454\n",
      "Tutorial 1\n"
     ]
    }
   ],
   "source": [
    "paso_1 = ~usuario['MainScreenAppear'].isna()\n",
    "paso_2 = paso_1 & (usuario['OffersScreenAppear'] > usuario['MainScreenAppear'])\n",
    "paso_3 = paso_2 & (usuario['CartScreenAppear'] > usuario['OffersScreenAppear'])\n",
    "paso_4 = paso_3 & (usuario['PaymentScreenSuccessful'] > usuario['CartScreenAppear'])\n",
    "paso_5 = paso_4 & (usuario['Tutorial'] > usuario['PaymentScreenSuccessful'])\n",
    "\n",
    "p_principal = usuario[paso_1].shape[0]\n",
    "p_ofertas = usuario[paso_2].shape[0]\n",
    "p_carrito = usuario[paso_3].shape[0]\n",
    "p_pago_exitoso = usuario[paso_4].shape[0]\n",
    "p_tutorial =  usuario[paso_5].shape[0]\n",
    "\n",
    "print('Pantalla pricipal:', p_principal)\n",
    "print('Pantalla ofertas:', p_ofertas)\n",
    "print('Carrito:', p_carrito)\n",
    "print('Pago exitoso:', p_pago_exitoso)\n",
    "print('Tutorial', p_tutorial)"
   ]
  },
  {
   "cell_type": "markdown",
   "metadata": {},
   "source": [
    "Conclusión: No todos los usuarios siguen la ruta predestinada"
   ]
  },
  {
   "cell_type": "code",
   "execution_count": 25,
   "metadata": {},
   "outputs": [
    {
     "name": "stdout",
     "output_type": "stream",
     "text": [
      "\n",
      "Usuarios por evento:\n",
      "                     evento  cant_usuarios  proporcion\n",
      "1         MainScreenAppear           7419    0.984736\n",
      "2       OffersScreenAppear           4593    0.609636\n",
      "0         CartScreenAppear           3734    0.495620\n",
      "3  PaymentScreenSuccessful           3539    0.469737\n",
      "4                 Tutorial            840    0.111495\n"
     ]
    }
   ],
   "source": [
    "# Proporción de usuarios por evento.\n",
    "total_users = data_filtrado['id_usuario'].nunique()\n",
    "usuarios_por_evento['proporcion'] = usuarios_por_evento['cant_usuarios'] / total_users\n",
    "\n",
    "print(\"\\nUsuarios por evento:\\n\", usuarios_por_evento)"
   ]
  },
  {
   "cell_type": "markdown",
   "metadata": {},
   "source": [
    "### ¿En qué orden crees que ocurrieron las acciones? ¿Todas son parte de una sola secuencia? No es necesario tenerlas en cuenta al calcular el embudo."
   ]
  },
  {
   "cell_type": "markdown",
   "metadata": {},
   "source": [
    "No creo que tutorial se deba tomar en cuenta"
   ]
  },
  {
   "cell_type": "code",
   "execution_count": 26,
   "metadata": {},
   "outputs": [
    {
     "name": "stdout",
     "output_type": "stream",
     "text": [
      "<class 'pandas.core.frame.DataFrame'>\n",
      "Int64Index: 239882 entries, 2829 to 244125\n",
      "Data columns (total 5 columns):\n",
      " #   Column              Non-Null Count   Dtype         \n",
      "---  ------              --------------   -----         \n",
      " 0   nombre_event        239882 non-null  object        \n",
      " 1   id_usuario          239882 non-null  int64         \n",
      " 2   hora_event          239882 non-null  datetime64[ns]\n",
      " 3   numero_experimento  239882 non-null  int64         \n",
      " 4   date                239882 non-null  datetime64[ns]\n",
      "dtypes: datetime64[ns](2), int64(2), object(1)\n",
      "memory usage: 11.0+ MB\n"
     ]
    }
   ],
   "source": [
    "# Eliminamos el evento 'Tutorial'\n",
    "data_filtrado = data_filtrado[data_filtrado['nombre_event'] != 'Tutorial']\n",
    "data_filtrado.info()"
   ]
  },
  {
   "cell_type": "markdown",
   "metadata": {},
   "source": [
    "### Utiliza el embudo de eventos para encontrar la proporción de usuarios que pasan de una etapa a la siguiente. (Por ejemplo, para la secuencia de eventos A → B → C, calcula la proporción de usuarios en la etapa B a la cantidad de usuarios en la etapa A y la proporción de usuarios en la etapa C a la cantidad en la etapa B)."
   ]
  },
  {
   "cell_type": "code",
   "execution_count": 27,
   "metadata": {},
   "outputs": [
    {
     "name": "stdout",
     "output_type": "stream",
     "text": [
      "\n",
      "Embudo de eventos:\n",
      "                      event  users  proportion\n",
      "0         MainScreenAppear   7419    1.000000\n",
      "1       OffersScreenAppear   4201    0.566249\n",
      "2         CartScreenAppear   1767    0.238172\n",
      "3  PaymentScreenSuccessful    454    0.061194\n",
      "4                 Tutorial      1    0.000135\n"
     ]
    }
   ],
   "source": [
    "# Crear el embudo de eventos\n",
    "funnel = pd.DataFrame({\n",
    "    'event': ['MainScreenAppear', 'OffersScreenAppear', 'CartScreenAppear', 'PaymentScreenSuccessful', 'Tutorial'],\n",
    "    'users': [p_principal, p_ofertas, p_carrito, p_pago_exitoso, p_tutorial]\n",
    "})\n",
    "\n",
    "# Calcular proporciones\n",
    "funnel['proportion'] = funnel['users'] / p_principal\n",
    "print(\"\\nEmbudo de eventos:\\n\", funnel)"
   ]
  },
  {
   "cell_type": "code",
   "execution_count": 28,
   "metadata": {},
   "outputs": [
    {
     "name": "stdout",
     "output_type": "stream",
     "text": [
      "Proporción de usuarios que pasan de 'a' a 'b': 0.57\n",
      "Proporción de usuarios que pasan de 'b' a 'c': 0.42\n",
      "Proporción de usuarios que pasan de 'c' a 'd': 0.26\n"
     ]
    }
   ],
   "source": [
    "# Calcular proporciones\n",
    "proporcion_b_a = p_ofertas / p_principal\n",
    "proporcion_c_b = p_carrito / p_ofertas\n",
    "proporcion_d_c = p_pago_exitoso / p_carrito\n",
    "\n",
    "\n",
    "# Mostrar resultados\n",
    "print(f\"Proporción de usuarios que pasan de 'a' a 'b': {proporcion_b_a:.2f}\")\n",
    "print(f\"Proporción de usuarios que pasan de 'b' a 'c': {proporcion_c_b:.2f}\")\n",
    "print(f\"Proporción de usuarios que pasan de 'c' a 'd': {proporcion_d_c:.2f}\")"
   ]
  },
  {
   "cell_type": "markdown",
   "metadata": {},
   "source": [
    "###  ¿En qué etapa pierdes más usuarios y usuarias?"
   ]
  },
  {
   "cell_type": "markdown",
   "metadata": {},
   "source": [
    "En la etapa d ( Pantalla de pago exitosa)"
   ]
  },
  {
   "cell_type": "markdown",
   "metadata": {},
   "source": [
    "### ¿Qué porcentaje de usuarios hace todo el viaje desde su primer evento hasta el pago?"
   ]
  },
  {
   "cell_type": "markdown",
   "metadata": {},
   "source": [
    "solo el 6.12% de los usuarios"
   ]
  },
  {
   "cell_type": "markdown",
   "metadata": {},
   "source": [
    "##  Estudiar los resultados del experimento"
   ]
  },
  {
   "cell_type": "markdown",
   "metadata": {},
   "source": [
    "### ¿Cuántos usuarios hay en cada grupo?"
   ]
  },
  {
   "cell_type": "code",
   "execution_count": 29,
   "metadata": {},
   "outputs": [
    {
     "name": "stdout",
     "output_type": "stream",
     "text": [
      "\n",
      "Cantidad de usuarios por cada grupo:\n",
      "    numero_experimento  cantidad_users\n",
      "0                 246            2483\n",
      "1                 247            2512\n",
      "2                 248            2535\n"
     ]
    }
   ],
   "source": [
    "user_por_group = data_filtrado.groupby('numero_experimento')['id_usuario'].nunique().reset_index()\n",
    "user_por_group.columns = ['numero_experimento', 'cantidad_users']\n",
    "print('\\nCantidad de usuarios por cada grupo:\\n', user_por_group)"
   ]
  },
  {
   "cell_type": "markdown",
   "metadata": {},
   "source": [
    "### Tenemos dos grupos de control en el test A/A, donde comprobamos nuestros mecanismos y cálculos. Observa si hay una diferencia estadísticamente significativa entre las muestras 246 y 247."
   ]
  },
  {
   "cell_type": "code",
   "execution_count": null,
   "metadata": {},
   "outputs": [],
   "source": []
  },
  {
   "cell_type": "code",
   "execution_count": 30,
   "metadata": {},
   "outputs": [],
   "source": [
    "# Contar usuarios únicos por evento y grupo experimental\n",
    "users_per_event_group = data_filtrado.groupby(['numero_experimento', 'nombre_event'])['id_usuario'].nunique().unstack(fill_value=0)\n",
    "\n",
    "# verificar datos para los grupos 246 y 247\n",
    "group_246_events = users_per_event_group.loc[246]\n",
    "group_247_events = users_per_event_group.loc[247]\n"
   ]
  },
  {
   "cell_type": "code",
   "execution_count": null,
   "metadata": {},
   "outputs": [],
   "source": []
  },
  {
   "cell_type": "code",
   "execution_count": 31,
   "metadata": {},
   "outputs": [
    {
     "name": "stdout",
     "output_type": "stream",
     "text": [
      "\n",
      "Datos de eventos para el grupo 246:\n",
      " nombre_event\n",
      "CartScreenAppear           1266\n",
      "MainScreenAppear           2450\n",
      "OffersScreenAppear         1542\n",
      "PaymentScreenSuccessful    1200\n",
      "Name: 246, dtype: int64\n",
      "\n",
      "Datos de eventos para el grupo 247:\n",
      " nombre_event\n",
      "CartScreenAppear           1238\n",
      "MainScreenAppear           2476\n",
      "OffersScreenAppear         1520\n",
      "PaymentScreenSuccessful    1158\n",
      "Name: 247, dtype: int64\n"
     ]
    }
   ],
   "source": [
    "# selecciona el evento popular\n",
    "popular_event = data_filtrado['nombre_event'].mode()[0]\n",
    "\n",
    "# datos para los grupos 246 y 247\n",
    "group_246_data = data_filtrado[data_filtrado['numero_experimento'] == 246]\n",
    "group_247_data = data_filtrado[data_filtrado['numero_experimento'] == 247]\n",
    "\n",
    "# cantidad de usuarios que realizaron el evento más popular en cada grupo\n",
    "users_246_event = group_246_data[group_246_data['nombre_event'] == popular_event]['id_usuario'].nunique()\n",
    "users_247_event = group_247_data[group_247_data['nombre_event'] == popular_event]['id_usuario'].nunique()\n",
    "\n",
    "# número total de usuarios en cada grupo\n",
    "total_users_246 = group_246_data['id_usuario'].nunique()\n",
    "total_users_247 = group_247_data['id_usuario'].nunique()\n",
    "\n",
    "print(\"\\nDatos de eventos para el grupo 246:\\n\", group_246_events)\n",
    "print(\"\\nDatos de eventos para el grupo 247:\\n\", group_247_events)"
   ]
  },
  {
   "cell_type": "code",
   "execution_count": 32,
   "metadata": {},
   "outputs": [
    {
     "name": "stdout",
     "output_type": "stream",
     "text": [
      "p-value:  0.7526703436483038\n",
      "No se pudo rechazar la hipótesis nula: no hay razón para pensar que las proporciones son diferentes\n"
     ]
    }
   ],
   "source": [
    "alpha = .05 # nivel de significación\n",
    "\n",
    "counts = np.array([users_246_event, users_247_event])\n",
    "nobs = np.array([total_users_246, total_users_247])\n",
    "\n",
    "# proporción de éxito\n",
    "p1 = counts[0]/nobs[0]\n",
    "p2 = counts[1]/nobs[1]\n",
    "\n",
    "# proporción de éxito en el dataset unido:\n",
    "p_combined = (counts[0] + counts[1]) / (nobs[0] + nobs[1])\n",
    "\n",
    "# la diferencia entre las proporciones de los datasets\n",
    "difference = p1 - p2\n",
    "\n",
    "# calcula la estadística en desviaciones estándar de la distribución normal estándar\n",
    "z_value = difference / mth.sqrt(p_combined * (1 - p_combined) * (1/nobs[0] + 1/nobs[1]))\n",
    "\n",
    "# establece la distribución normal estándar (media 0, desviación estándar 1)\n",
    "distr = st.norm(0, 1)\n",
    "\n",
    "p_value = (1 - distr.cdf(abs(z_value))) * 2\n",
    "\n",
    "print('p-value: ', p_value)\n",
    "\n",
    "if (p_value < alpha):\n",
    "    print(\"Rechazar la hipótesis nula: hay una diferencia significativa entre las proporciones\")\n",
    "else:\n",
    "    print(\"No se pudo rechazar la hipótesis nula: no hay razón para pensar que las proporciones son diferentes\")"
   ]
  },
  {
   "cell_type": "markdown",
   "metadata": {},
   "source": [
    "**Conclusión:** No hay diferencia significativa entre los grupos 246 y 247"
   ]
  },
  {
   "cell_type": "markdown",
   "metadata": {},
   "source": [
    "### Repetir el procedimiento para todos los eventos"
   ]
  },
  {
   "cell_type": "code",
   "execution_count": 33,
   "metadata": {},
   "outputs": [],
   "source": [
    "def compare_proportions(group1_data, group2_data, event):\n",
    "    \n",
    "    # cantidad de usuarios que realizaron el evento en cada grupo\n",
    "    users_group1_event = group1_data[group1_data['nombre_event'] == event]['id_usuario'].nunique()\n",
    "    users_group2_event = group2_data[group2_data['nombre_event'] == event]['id_usuario'].nunique()\n",
    "\n",
    "    # número total de usuarios en cada grupo\n",
    "    total_users_group1 = group1_data['id_usuario'].nunique()\n",
    "    total_users_group2 = group2_data['id_usuario'].nunique()\n",
    "\n",
    "    # proporción de usuarios que realizaron el evento en cada grupo\n",
    "    p1 = users_group1_event / total_users_group1\n",
    "    p2 = users_group2_event / total_users_group2\n",
    "\n",
    "    # proporción de usuarios que realizaron el evento en el dataset unido\n",
    "    p_combined = (users_group1_event + users_group2_event) / (total_users_group1 + total_users_group2)\n",
    "\n",
    "    # diferencia entre las proporciones de los datasets\n",
    "    difference = p1 - p2\n",
    "\n",
    "    # estadística Z\n",
    "    z_value = difference / mth.sqrt(p_combined * (1 - p_combined) * (1/total_users_group1 + 1/total_users_group2))\n",
    "\n",
    "    # p-value\n",
    "    p_value = (1 - st.norm(0, 1).cdf(abs(z_value))) * 2\n",
    "\n",
    "    return p1, p2, p_value"
   ]
  },
  {
   "cell_type": "code",
   "execution_count": 34,
   "metadata": {},
   "outputs": [
    {
     "name": "stdout",
     "output_type": "stream",
     "text": [
      "Evento: MainScreenAppear\n",
      "Proporción grupo 246: 0.99\n",
      "Proporción grupo 247: 0.99\n",
      "p-value: 0.7527\n",
      "No se pudo rechazar la hipótesis nula: no hay razón para pensar que las proporciones son diferentes\n",
      "\n",
      "Evento: OffersScreenAppear\n",
      "Proporción grupo 246: 0.62\n",
      "Proporción grupo 247: 0.61\n",
      "p-value: 0.2479\n",
      "No se pudo rechazar la hipótesis nula: no hay razón para pensar que las proporciones son diferentes\n",
      "\n",
      "Evento: CartScreenAppear\n",
      "Proporción grupo 246: 0.51\n",
      "Proporción grupo 247: 0.49\n",
      "p-value: 0.2287\n",
      "No se pudo rechazar la hipótesis nula: no hay razón para pensar que las proporciones son diferentes\n",
      "\n",
      "Evento: PaymentScreenSuccessful\n",
      "Proporción grupo 246: 0.48\n",
      "Proporción grupo 247: 0.46\n",
      "p-value: 0.1145\n",
      "No se pudo rechazar la hipótesis nula: no hay razón para pensar que las proporciones son diferentes\n",
      "\n"
     ]
    }
   ],
   "source": [
    "alpha = .05  # 5%\n",
    "\n",
    "events = data_filtrado['nombre_event'].unique()\n",
    "\n",
    "for event in events:\n",
    "    p1, p2, p_value = compare_proportions(group_246_data, group_247_data, event)\n",
    "    print(f\"Evento: {event}\")\n",
    "    print(f\"Proporción grupo 246: {p1:.2f}\")\n",
    "    print(f\"Proporción grupo 247: {p2:.2f}\")\n",
    "    print(f\"p-value: {p_value:.4f}\")\n",
    "    if p_value < alpha:\n",
    "        print(\"Rechazar la hipótesis nula: hay una diferencia significativa entre las proporciones\")\n",
    "    else:\n",
    "        print(\"No se pudo rechazar la hipótesis nula: no hay razón para pensar que las proporciones son diferentes\")\n",
    "    print()"
   ]
  },
  {
   "cell_type": "markdown",
   "metadata": {},
   "source": [
    "### Grupo 248"
   ]
  },
  {
   "cell_type": "code",
   "execution_count": 35,
   "metadata": {},
   "outputs": [
    {
     "name": "stdout",
     "output_type": "stream",
     "text": [
      "Evento: MainScreenAppear\n",
      "Proporción grupo 246: 0.99\n",
      "Proporción grupo 248: 0.98\n",
      "p-value: 0.3487\n",
      "No se pudo rechazar la hipótesis nula: no hay razón para pensar que las proporciones son diferentes\n",
      "\n",
      "Evento: OffersScreenAppear\n",
      "Proporción grupo 246: 0.61\n",
      "Proporción grupo 248: 0.60\n",
      "p-value: 0.4458\n",
      "No se pudo rechazar la hipótesis nula: no hay razón para pensar que las proporciones son diferentes\n",
      "\n",
      "Evento: CartScreenAppear\n",
      "Proporción grupo 246: 0.50\n",
      "Proporción grupo 248: 0.49\n",
      "p-value: 0.1868\n",
      "No se pudo rechazar la hipótesis nula: no hay razón para pensar que las proporciones son diferentes\n",
      "\n",
      "Evento: PaymentScreenSuccessful\n",
      "Proporción grupo 246: 0.47\n",
      "Proporción grupo 248: 0.47\n",
      "p-value: 0.6108\n",
      "No se pudo rechazar la hipótesis nula: no hay razón para pensar que las proporciones son diferentes\n",
      "\n"
     ]
    }
   ],
   "source": [
    "# datos para el grupo 248\n",
    "group_248_data = data_filtrado[data_filtrado['numero_experimento'] == 248]\n",
    "\n",
    "alpha = .05\n",
    "\n",
    "events = data_filtrado['nombre_event'].unique()\n",
    "\n",
    "for event in events:\n",
    "    p1, p2, p_value = compare_proportions(pd.concat([group_246_data, group_247_data], axis=0), group_248_data, event)\n",
    "    print(f\"Evento: {event}\")\n",
    "    print(f\"Proporción grupo 246: {p1:.2f}\")\n",
    "    print(f\"Proporción grupo 248: {p2:.2f}\")\n",
    "    print(f\"p-value: {p_value:.4f}\")\n",
    "    if p_value < alpha:\n",
    "        print(\"Rechazar la hipótesis nula: hay una diferencia significativa entre las proporciones\")\n",
    "    else:\n",
    "        print(\"No se pudo rechazar la hipótesis nula: no hay razón para pensar que las proporciones son diferentes\")\n",
    "    print()"
   ]
  },
  {
   "cell_type": "markdown",
   "metadata": {},
   "source": [
    "**Conclusión:** Al no haber diferencia significativa entre los grupos 246 y 247 se unen y se comparan con los resultados de 248 en dode se evidencia que en ningun evento de ningun experimento hay una diferencia significativa."
   ]
  },
  {
   "cell_type": "markdown",
   "metadata": {},
   "source": [
    "### Nivel de significacion 0.1"
   ]
  },
  {
   "cell_type": "code",
   "execution_count": 36,
   "metadata": {},
   "outputs": [
    {
     "name": "stdout",
     "output_type": "stream",
     "text": [
      "Evento: MainScreenAppear\n",
      "Proporción grupo 246: 0.99\n",
      "Proporción grupo 248: 0.98\n",
      "p-value: 0.3487\n",
      "No se pudo rechazar la hipótesis nula: no hay razón para pensar que las proporciones son diferentes\n",
      "\n",
      "Evento: OffersScreenAppear\n",
      "Proporción grupo 246: 0.61\n",
      "Proporción grupo 248: 0.60\n",
      "p-value: 0.4458\n",
      "No se pudo rechazar la hipótesis nula: no hay razón para pensar que las proporciones son diferentes\n",
      "\n",
      "Evento: CartScreenAppear\n",
      "Proporción grupo 246: 0.50\n",
      "Proporción grupo 248: 0.49\n",
      "p-value: 0.1868\n",
      "No se pudo rechazar la hipótesis nula: no hay razón para pensar que las proporciones son diferentes\n",
      "\n",
      "Evento: PaymentScreenSuccessful\n",
      "Proporción grupo 246: 0.47\n",
      "Proporción grupo 248: 0.47\n",
      "p-value: 0.6108\n",
      "No se pudo rechazar la hipótesis nula: no hay razón para pensar que las proporciones son diferentes\n",
      "\n"
     ]
    }
   ],
   "source": [
    "alpha = 0.05 / 5  # 5% por evento\n",
    "\n",
    "for event in events:\n",
    "    p1, p2, p_value = compare_proportions(pd.concat([group_246_data, group_247_data], axis=0), group_248_data, event)\n",
    "    print(f\"Evento: {event}\")\n",
    "    print(f\"Proporción grupo 246: {p1:.2f}\")\n",
    "    print(f\"Proporción grupo 248: {p2:.2f}\")\n",
    "    print(f\"p-value: {p_value:.4f}\")\n",
    "    if p_value < alpha:\n",
    "        print(\"Rechazar la hipótesis nula: hay una diferencia significativa entre las proporciones\")\n",
    "    else:\n",
    "        print(\"No se pudo rechazar la hipótesis nula: no hay razón para pensar que las proporciones son diferentes\")\n",
    "    print()"
   ]
  },
  {
   "cell_type": "markdown",
   "metadata": {},
   "source": [
    "## Conclusiones generales:\n",
    "\n",
    "- Entre los grupos 246 y 247 No hay una diferencia significativa, estableciendo un margen del 0.05%\n",
    "- Al no haber diferencia entre los grupos A A, se toma la decision de unirlos y compararlos con el grupo 248, en donde tampoco se ve reflejado una diferencia significativa en ningun evento de los grupos.\n",
    "\n",
    "- Se bajo el nivel de significación (margen del 0.01) y tampoco de ve una diferencia significativa en ninguno de los eventos en ninguno de los grupos.\n",
    "\n",
    "Por lo tanto, los usuarios no muestran "
   ]
  }
 ],
 "metadata": {
  "ExecuteTimeLog": [
   {
    "duration": 162,
    "start_time": "2024-09-17T16:55:24.967Z"
   },
   {
    "duration": 345,
    "start_time": "2024-09-17T16:55:27.123Z"
   },
   {
    "duration": 251,
    "start_time": "2024-09-17T16:55:28.402Z"
   },
   {
    "duration": 199,
    "start_time": "2024-09-17T16:55:53.563Z"
   },
   {
    "duration": 306,
    "start_time": "2024-09-17T16:56:48.779Z"
   },
   {
    "duration": 300,
    "start_time": "2024-09-17T16:59:17.923Z"
   },
   {
    "duration": 202,
    "start_time": "2024-09-17T17:00:45.143Z"
   },
   {
    "duration": 747,
    "start_time": "2024-09-17T17:02:47.429Z"
   },
   {
    "duration": 579,
    "start_time": "2024-09-17T17:04:06.041Z"
   },
   {
    "duration": 15,
    "start_time": "2024-09-17T17:04:44.851Z"
   },
   {
    "duration": 7,
    "start_time": "2024-09-17T17:09:01.373Z"
   },
   {
    "duration": 622,
    "start_time": "2024-09-17T17:10:16.277Z"
   },
   {
    "duration": 6,
    "start_time": "2024-09-17T17:10:31.015Z"
   },
   {
    "duration": 590,
    "start_time": "2024-09-17T17:10:46.957Z"
   },
   {
    "duration": 790,
    "start_time": "2024-09-17T17:11:27.042Z"
   },
   {
    "duration": 54,
    "start_time": "2024-09-17T17:12:01.920Z"
   },
   {
    "duration": 779,
    "start_time": "2024-09-17T17:16:45.556Z"
   },
   {
    "duration": 3,
    "start_time": "2024-09-17T17:25:02.492Z"
   },
   {
    "duration": 891,
    "start_time": "2024-09-17T17:25:05.319Z"
   },
   {
    "duration": 813,
    "start_time": "2024-09-17T17:25:41.034Z"
   },
   {
    "duration": 916,
    "start_time": "2024-09-17T17:25:57.262Z"
   },
   {
    "duration": 62,
    "start_time": "2024-09-17T17:26:21.301Z"
   },
   {
    "duration": 7,
    "start_time": "2024-09-17T17:26:36.929Z"
   },
   {
    "duration": 813,
    "start_time": "2024-09-17T17:26:54.273Z"
   },
   {
    "duration": 8,
    "start_time": "2024-09-17T17:26:56.983Z"
   },
   {
    "duration": 64,
    "start_time": "2024-09-17T17:27:24.340Z"
   },
   {
    "duration": 310,
    "start_time": "2024-09-17T17:30:26.473Z"
   },
   {
    "duration": 304,
    "start_time": "2024-09-17T17:30:42.515Z"
   },
   {
    "duration": 291,
    "start_time": "2024-09-17T20:21:20.999Z"
   },
   {
    "duration": 738,
    "start_time": "2024-09-17T20:21:22.576Z"
   },
   {
    "duration": 504,
    "start_time": "2024-09-17T20:21:24.164Z"
   },
   {
    "duration": 196,
    "start_time": "2024-09-17T20:21:56.013Z"
   },
   {
    "duration": 11,
    "start_time": "2024-09-17T20:21:59.595Z"
   },
   {
    "duration": 43,
    "start_time": "2024-09-17T20:22:45.025Z"
   },
   {
    "duration": 41,
    "start_time": "2024-09-17T20:23:07.368Z"
   },
   {
    "duration": 175,
    "start_time": "2024-09-17T20:23:18.495Z"
   },
   {
    "duration": 165,
    "start_time": "2024-09-17T20:23:25.779Z"
   },
   {
    "duration": 183,
    "start_time": "2024-09-17T20:29:43.777Z"
   },
   {
    "duration": 207,
    "start_time": "2024-09-17T23:49:26.035Z"
   },
   {
    "duration": 302,
    "start_time": "2024-09-17T23:49:30.929Z"
   },
   {
    "duration": 836,
    "start_time": "2024-09-17T23:49:32.054Z"
   },
   {
    "duration": 405,
    "start_time": "2024-09-17T23:49:34.671Z"
   },
   {
    "duration": 18,
    "start_time": "2024-09-17T23:49:48.324Z"
   },
   {
    "duration": 21,
    "start_time": "2024-09-17T23:50:42.901Z"
   },
   {
    "duration": 23,
    "start_time": "2024-09-17T23:50:50.606Z"
   },
   {
    "duration": 20,
    "start_time": "2024-09-17T23:50:57.020Z"
   },
   {
    "duration": 35,
    "start_time": "2024-09-17T23:51:08.957Z"
   },
   {
    "duration": 24,
    "start_time": "2024-09-17T23:51:28.921Z"
   },
   {
    "duration": 40,
    "start_time": "2024-09-17T23:59:30.531Z"
   },
   {
    "duration": 10,
    "start_time": "2024-09-17T23:59:45.045Z"
   },
   {
    "duration": 73,
    "start_time": "2024-09-18T00:01:01.418Z"
   },
   {
    "duration": 3,
    "start_time": "2024-09-18T00:02:48.977Z"
   },
   {
    "duration": 61,
    "start_time": "2024-09-18T00:02:51.936Z"
   },
   {
    "duration": 75,
    "start_time": "2024-09-18T00:12:59.829Z"
   },
   {
    "duration": 103,
    "start_time": "2024-09-18T00:17:56.928Z"
   },
   {
    "duration": 8,
    "start_time": "2024-09-18T00:17:59.052Z"
   },
   {
    "duration": 70,
    "start_time": "2024-09-18T00:19:52.160Z"
   },
   {
    "duration": 55,
    "start_time": "2024-09-18T00:19:56.544Z"
   },
   {
    "duration": 11,
    "start_time": "2024-09-18T00:20:06.912Z"
   },
   {
    "duration": 277,
    "start_time": "2024-09-18T00:20:18.306Z"
   },
   {
    "duration": 650,
    "start_time": "2024-09-18T00:20:18.585Z"
   },
   {
    "duration": 412,
    "start_time": "2024-09-18T00:20:19.237Z"
   },
   {
    "duration": 11,
    "start_time": "2024-09-18T00:20:19.651Z"
   },
   {
    "duration": 42,
    "start_time": "2024-09-18T00:20:19.665Z"
   },
   {
    "duration": 109,
    "start_time": "2024-09-18T00:20:19.709Z"
   },
   {
    "duration": 12,
    "start_time": "2024-09-18T00:20:19.819Z"
   },
   {
    "duration": 30,
    "start_time": "2024-09-18T00:44:45.348Z"
   },
   {
    "duration": 38,
    "start_time": "2024-09-18T00:53:09.594Z"
   },
   {
    "duration": 40,
    "start_time": "2024-09-18T01:01:29.491Z"
   },
   {
    "duration": 103,
    "start_time": "2024-09-18T01:03:35.017Z"
   },
   {
    "duration": 91,
    "start_time": "2024-09-18T01:03:40.981Z"
   },
   {
    "duration": 85,
    "start_time": "2024-09-18T01:03:54.569Z"
   },
   {
    "duration": 738,
    "start_time": "2024-09-18T01:10:17.591Z"
   },
   {
    "duration": 290,
    "start_time": "2024-09-18T02:10:23.879Z"
   },
   {
    "duration": 770,
    "start_time": "2024-09-18T02:10:24.171Z"
   },
   {
    "duration": 487,
    "start_time": "2024-09-18T02:10:24.943Z"
   },
   {
    "duration": 8,
    "start_time": "2024-09-18T02:10:25.432Z"
   },
   {
    "duration": 28,
    "start_time": "2024-09-18T02:10:25.443Z"
   },
   {
    "duration": 58,
    "start_time": "2024-09-18T02:10:25.472Z"
   },
   {
    "duration": 92,
    "start_time": "2024-09-18T02:10:25.534Z"
   },
   {
    "duration": 602,
    "start_time": "2024-09-18T02:10:25.627Z"
   },
   {
    "duration": 8,
    "start_time": "2024-09-18T02:12:51.220Z"
   },
   {
    "duration": 9,
    "start_time": "2024-09-18T02:18:56.731Z"
   },
   {
    "duration": 67,
    "start_time": "2024-09-18T02:21:51.528Z"
   },
   {
    "duration": 74,
    "start_time": "2024-09-18T02:23:22.722Z"
   },
   {
    "duration": 80,
    "start_time": "2024-09-18T02:23:55.526Z"
   },
   {
    "duration": 82,
    "start_time": "2024-09-18T02:24:51.037Z"
   },
   {
    "duration": 71,
    "start_time": "2024-09-18T02:25:10.806Z"
   },
   {
    "duration": 69,
    "start_time": "2024-09-18T02:25:35.391Z"
   },
   {
    "duration": 5,
    "start_time": "2024-09-18T02:58:11.695Z"
   },
   {
    "duration": 6,
    "start_time": "2024-09-18T02:58:26.175Z"
   },
   {
    "duration": 6,
    "start_time": "2024-09-18T02:58:40.323Z"
   },
   {
    "duration": 6,
    "start_time": "2024-09-18T02:59:02.151Z"
   },
   {
    "duration": 44,
    "start_time": "2024-09-18T02:59:27.391Z"
   },
   {
    "duration": 11,
    "start_time": "2024-09-18T03:00:15.626Z"
   },
   {
    "duration": 45,
    "start_time": "2024-09-18T03:00:18.636Z"
   },
   {
    "duration": 8,
    "start_time": "2024-09-18T03:00:33.282Z"
   },
   {
    "duration": 7,
    "start_time": "2024-09-18T03:01:45.049Z"
   },
   {
    "duration": 254,
    "start_time": "2024-09-18T03:05:14.168Z"
   },
   {
    "duration": 283,
    "start_time": "2024-09-18T16:39:24.908Z"
   },
   {
    "duration": 684,
    "start_time": "2024-09-18T16:39:25.193Z"
   },
   {
    "duration": 466,
    "start_time": "2024-09-18T16:39:25.879Z"
   },
   {
    "duration": 7,
    "start_time": "2024-09-18T16:39:26.348Z"
   },
   {
    "duration": 27,
    "start_time": "2024-09-18T16:39:26.357Z"
   },
   {
    "duration": 89,
    "start_time": "2024-09-18T16:39:26.386Z"
   },
   {
    "duration": 84,
    "start_time": "2024-09-18T16:39:26.477Z"
   },
   {
    "duration": 10,
    "start_time": "2024-09-18T16:39:26.562Z"
   },
   {
    "duration": 5,
    "start_time": "2024-09-18T16:39:26.574Z"
   },
   {
    "duration": 6,
    "start_time": "2024-09-18T16:39:26.582Z"
   },
   {
    "duration": 35,
    "start_time": "2024-09-18T16:39:26.589Z"
   },
   {
    "duration": 7,
    "start_time": "2024-09-18T16:39:26.625Z"
   },
   {
    "duration": 118,
    "start_time": "2024-09-18T16:45:02.652Z"
   },
   {
    "duration": 10,
    "start_time": "2024-09-18T16:46:23.614Z"
   },
   {
    "duration": 61,
    "start_time": "2024-09-18T16:49:01.687Z"
   },
   {
    "duration": 70,
    "start_time": "2024-09-18T16:49:27.732Z"
   },
   {
    "duration": 103,
    "start_time": "2024-09-18T16:50:45.611Z"
   },
   {
    "duration": 18,
    "start_time": "2024-09-18T17:19:10.088Z"
   },
   {
    "duration": 10,
    "start_time": "2024-09-18T17:40:28.042Z"
   },
   {
    "duration": 42,
    "start_time": "2024-09-18T17:42:49.953Z"
   },
   {
    "duration": 11,
    "start_time": "2024-09-18T17:43:04.238Z"
   },
   {
    "duration": 7,
    "start_time": "2024-09-18T17:43:35.836Z"
   },
   {
    "duration": 11,
    "start_time": "2024-09-18T17:43:54.871Z"
   },
   {
    "duration": 2,
    "start_time": "2024-09-18T17:45:08.823Z"
   },
   {
    "duration": 11,
    "start_time": "2024-09-18T17:46:33.663Z"
   },
   {
    "duration": 309,
    "start_time": "2024-09-19T00:05:01.355Z"
   },
   {
    "duration": 791,
    "start_time": "2024-09-19T00:05:01.666Z"
   },
   {
    "duration": 7,
    "start_time": "2024-09-19T00:05:02.459Z"
   },
   {
    "duration": 0,
    "start_time": "2024-09-19T00:05:02.468Z"
   },
   {
    "duration": 0,
    "start_time": "2024-09-19T00:05:02.469Z"
   },
   {
    "duration": 0,
    "start_time": "2024-09-19T00:05:02.471Z"
   },
   {
    "duration": 0,
    "start_time": "2024-09-19T00:05:02.473Z"
   },
   {
    "duration": 0,
    "start_time": "2024-09-19T00:05:02.474Z"
   },
   {
    "duration": 0,
    "start_time": "2024-09-19T00:05:02.475Z"
   },
   {
    "duration": 0,
    "start_time": "2024-09-19T00:05:02.476Z"
   },
   {
    "duration": 0,
    "start_time": "2024-09-19T00:05:02.477Z"
   },
   {
    "duration": 0,
    "start_time": "2024-09-19T00:05:02.505Z"
   },
   {
    "duration": 0,
    "start_time": "2024-09-19T00:05:02.506Z"
   },
   {
    "duration": 0,
    "start_time": "2024-09-19T00:05:02.509Z"
   },
   {
    "duration": 563,
    "start_time": "2024-09-19T00:05:12.665Z"
   },
   {
    "duration": 332,
    "start_time": "2024-09-19T00:05:35.924Z"
   },
   {
    "duration": 322,
    "start_time": "2024-09-19T00:05:47.171Z"
   },
   {
    "duration": 5,
    "start_time": "2024-09-19T00:10:28.155Z"
   },
   {
    "duration": 269,
    "start_time": "2024-09-19T00:10:39.988Z"
   },
   {
    "duration": 8,
    "start_time": "2024-09-19T00:10:43.677Z"
   },
   {
    "duration": 263,
    "start_time": "2024-09-19T00:13:10.561Z"
   },
   {
    "duration": 9,
    "start_time": "2024-09-19T00:13:13.587Z"
   },
   {
    "duration": 7,
    "start_time": "2024-09-19T00:13:15.257Z"
   },
   {
    "duration": 305,
    "start_time": "2024-09-19T00:13:25.150Z"
   },
   {
    "duration": 725,
    "start_time": "2024-09-19T00:13:25.458Z"
   },
   {
    "duration": 482,
    "start_time": "2024-09-19T00:13:26.185Z"
   },
   {
    "duration": 50,
    "start_time": "2024-09-19T00:13:26.668Z"
   },
   {
    "duration": 7,
    "start_time": "2024-09-19T00:13:26.721Z"
   },
   {
    "duration": 30,
    "start_time": "2024-09-19T00:13:26.729Z"
   },
   {
    "duration": 99,
    "start_time": "2024-09-19T00:13:26.761Z"
   },
   {
    "duration": 97,
    "start_time": "2024-09-19T00:13:26.861Z"
   },
   {
    "duration": 10,
    "start_time": "2024-09-19T00:13:26.960Z"
   },
   {
    "duration": 5,
    "start_time": "2024-09-19T00:13:26.972Z"
   },
   {
    "duration": 27,
    "start_time": "2024-09-19T00:13:26.979Z"
   },
   {
    "duration": 11,
    "start_time": "2024-09-19T00:13:27.008Z"
   },
   {
    "duration": 7,
    "start_time": "2024-09-19T00:13:27.021Z"
   },
   {
    "duration": 2732,
    "start_time": "2024-09-19T00:19:30.445Z"
   },
   {
    "duration": 43,
    "start_time": "2024-09-19T00:21:49.457Z"
   },
   {
    "duration": 29,
    "start_time": "2024-09-19T00:21:59.512Z"
   },
   {
    "duration": 4,
    "start_time": "2024-09-19T00:36:32.548Z"
   },
   {
    "duration": 3,
    "start_time": "2024-09-19T00:36:48.557Z"
   },
   {
    "duration": 7,
    "start_time": "2024-09-19T00:36:56.622Z"
   },
   {
    "duration": 301,
    "start_time": "2024-09-19T00:37:30.437Z"
   },
   {
    "duration": 3,
    "start_time": "2024-09-19T00:37:42.325Z"
   },
   {
    "duration": 5,
    "start_time": "2024-09-19T00:37:53.076Z"
   },
   {
    "duration": 4,
    "start_time": "2024-09-19T00:38:09.365Z"
   },
   {
    "duration": 22,
    "start_time": "2024-09-19T00:44:04.246Z"
   },
   {
    "duration": 49,
    "start_time": "2024-09-19T00:44:12.862Z"
   },
   {
    "duration": 2639,
    "start_time": "2024-09-19T02:27:41.626Z"
   },
   {
    "duration": 906,
    "start_time": "2024-09-19T02:27:44.267Z"
   },
   {
    "duration": 463,
    "start_time": "2024-09-19T02:27:48.079Z"
   },
   {
    "duration": 277,
    "start_time": "2024-09-19T02:27:48.900Z"
   },
   {
    "duration": 350,
    "start_time": "2024-09-19T02:28:28.657Z"
   },
   {
    "duration": 2,
    "start_time": "2024-09-19T02:29:38.558Z"
   },
   {
    "duration": 137,
    "start_time": "2024-09-19T02:29:45.251Z"
   },
   {
    "duration": 616,
    "start_time": "2024-09-19T02:31:31.047Z"
   },
   {
    "duration": 2562,
    "start_time": "2024-09-19T12:30:48.239Z"
   },
   {
    "duration": 853,
    "start_time": "2024-09-19T12:30:50.804Z"
   },
   {
    "duration": 504,
    "start_time": "2024-09-19T12:30:51.660Z"
   },
   {
    "duration": 52,
    "start_time": "2024-09-19T12:30:52.166Z"
   },
   {
    "duration": 7,
    "start_time": "2024-09-19T12:30:52.221Z"
   },
   {
    "duration": 31,
    "start_time": "2024-09-19T12:30:52.230Z"
   },
   {
    "duration": 103,
    "start_time": "2024-09-19T12:30:52.263Z"
   },
   {
    "duration": 93,
    "start_time": "2024-09-19T12:30:52.367Z"
   },
   {
    "duration": 9,
    "start_time": "2024-09-19T12:30:52.463Z"
   },
   {
    "duration": 28,
    "start_time": "2024-09-19T12:30:52.473Z"
   },
   {
    "duration": 33,
    "start_time": "2024-09-19T12:30:52.503Z"
   },
   {
    "duration": 35,
    "start_time": "2024-09-19T12:30:52.538Z"
   },
   {
    "duration": 158,
    "start_time": "2024-09-19T12:30:52.575Z"
   },
   {
    "duration": 8,
    "start_time": "2024-09-19T12:30:52.735Z"
   },
   {
    "duration": 146,
    "start_time": "2024-09-19T12:31:32.010Z"
   },
   {
    "duration": 152,
    "start_time": "2024-09-19T12:31:51.627Z"
   },
   {
    "duration": 923,
    "start_time": "2024-09-19T12:34:54.704Z"
   },
   {
    "duration": 939,
    "start_time": "2024-09-19T12:35:29.407Z"
   },
   {
    "duration": 7,
    "start_time": "2024-09-19T12:36:03.401Z"
   },
   {
    "duration": 7,
    "start_time": "2024-09-19T12:38:09.020Z"
   },
   {
    "duration": 33,
    "start_time": "2024-09-19T12:38:23.691Z"
   },
   {
    "duration": 14,
    "start_time": "2024-09-19T12:38:54.152Z"
   },
   {
    "duration": 44,
    "start_time": "2024-09-19T12:39:22.270Z"
   },
   {
    "duration": 28,
    "start_time": "2024-09-19T12:42:45.366Z"
   },
   {
    "duration": 26,
    "start_time": "2024-09-19T12:48:00.484Z"
   },
   {
    "duration": 26,
    "start_time": "2024-09-19T12:52:29.651Z"
   },
   {
    "duration": 28,
    "start_time": "2024-09-19T12:52:48.753Z"
   },
   {
    "duration": 9,
    "start_time": "2024-09-19T12:56:38.582Z"
   },
   {
    "duration": 26,
    "start_time": "2024-09-19T12:57:01.385Z"
   },
   {
    "duration": 27,
    "start_time": "2024-09-19T12:57:13.873Z"
   },
   {
    "duration": 13,
    "start_time": "2024-09-19T12:59:55.871Z"
   },
   {
    "duration": 23,
    "start_time": "2024-09-19T13:00:21.534Z"
   },
   {
    "duration": 22,
    "start_time": "2024-09-19T13:01:38.778Z"
   },
   {
    "duration": 22,
    "start_time": "2024-09-19T13:03:02.768Z"
   },
   {
    "duration": 26,
    "start_time": "2024-09-19T13:05:57.317Z"
   },
   {
    "duration": 2,
    "start_time": "2024-09-19T13:08:12.337Z"
   },
   {
    "duration": 26,
    "start_time": "2024-09-19T13:28:42.909Z"
   },
   {
    "duration": 73,
    "start_time": "2024-09-19T13:35:23.853Z"
   },
   {
    "duration": 69,
    "start_time": "2024-09-19T13:35:52.719Z"
   },
   {
    "duration": 70,
    "start_time": "2024-09-19T13:37:46.185Z"
   },
   {
    "duration": 72,
    "start_time": "2024-09-19T13:38:01.099Z"
   },
   {
    "duration": 69,
    "start_time": "2024-09-19T13:38:12.258Z"
   },
   {
    "duration": 182,
    "start_time": "2024-09-19T13:49:58.877Z"
   },
   {
    "duration": 374,
    "start_time": "2024-09-19T13:51:17.137Z"
   },
   {
    "duration": 368,
    "start_time": "2024-09-19T13:51:26.247Z"
   },
   {
    "duration": 365,
    "start_time": "2024-09-19T13:51:38.712Z"
   },
   {
    "duration": 8,
    "start_time": "2024-09-19T13:52:21.584Z"
   },
   {
    "duration": 25,
    "start_time": "2024-09-19T13:52:50.155Z"
   },
   {
    "duration": 411,
    "start_time": "2024-09-19T13:53:49.389Z"
   },
   {
    "duration": 27,
    "start_time": "2024-09-19T13:54:02.644Z"
   },
   {
    "duration": 561,
    "start_time": "2024-09-19T13:55:27.772Z"
   },
   {
    "duration": 43,
    "start_time": "2024-09-19T13:55:33.158Z"
   },
   {
    "duration": 27,
    "start_time": "2024-09-19T13:55:44.532Z"
   },
   {
    "duration": 27,
    "start_time": "2024-09-19T13:55:54.026Z"
   },
   {
    "duration": 26,
    "start_time": "2024-09-19T13:56:01.677Z"
   },
   {
    "duration": 23,
    "start_time": "2024-09-19T13:56:07.358Z"
   },
   {
    "duration": 463,
    "start_time": "2024-09-19T13:57:05.870Z"
   },
   {
    "duration": 23,
    "start_time": "2024-09-19T13:57:18.274Z"
   },
   {
    "duration": 26,
    "start_time": "2024-09-19T13:58:02.139Z"
   },
   {
    "duration": 25,
    "start_time": "2024-09-19T13:58:05.091Z"
   },
   {
    "duration": 84,
    "start_time": "2024-09-19T14:00:22.456Z"
   },
   {
    "duration": 11,
    "start_time": "2024-09-19T14:03:59.826Z"
   },
   {
    "duration": 8,
    "start_time": "2024-09-19T14:25:06.835Z"
   },
   {
    "duration": 4,
    "start_time": "2024-09-19T14:27:08.551Z"
   },
   {
    "duration": 3,
    "start_time": "2024-09-19T14:28:10.643Z"
   },
   {
    "duration": 4,
    "start_time": "2024-09-19T14:30:33.670Z"
   },
   {
    "duration": 62,
    "start_time": "2024-09-19T14:43:07.337Z"
   },
   {
    "duration": 26,
    "start_time": "2024-09-19T14:52:39.642Z"
   },
   {
    "duration": 33,
    "start_time": "2024-09-19T14:55:43.620Z"
   },
   {
    "duration": 80,
    "start_time": "2024-09-19T14:55:54.423Z"
   },
   {
    "duration": 22,
    "start_time": "2024-09-19T14:56:32.887Z"
   },
   {
    "duration": 64,
    "start_time": "2024-09-19T14:57:05.737Z"
   },
   {
    "duration": 2570,
    "start_time": "2024-09-19T16:14:10.576Z"
   },
   {
    "duration": 815,
    "start_time": "2024-09-19T16:14:13.151Z"
   },
   {
    "duration": 685,
    "start_time": "2024-09-19T16:14:13.968Z"
   },
   {
    "duration": 53,
    "start_time": "2024-09-19T16:14:14.655Z"
   },
   {
    "duration": 8,
    "start_time": "2024-09-19T16:14:14.710Z"
   },
   {
    "duration": 30,
    "start_time": "2024-09-19T16:14:14.719Z"
   },
   {
    "duration": 95,
    "start_time": "2024-09-19T16:14:14.751Z"
   },
   {
    "duration": 130,
    "start_time": "2024-09-19T16:14:14.848Z"
   },
   {
    "duration": 13,
    "start_time": "2024-09-19T16:14:14.980Z"
   },
   {
    "duration": 6,
    "start_time": "2024-09-19T16:14:14.995Z"
   },
   {
    "duration": 30,
    "start_time": "2024-09-19T16:14:15.002Z"
   },
   {
    "duration": 53,
    "start_time": "2024-09-19T16:14:15.034Z"
   },
   {
    "duration": 221,
    "start_time": "2024-09-19T16:14:15.089Z"
   },
   {
    "duration": 20,
    "start_time": "2024-09-19T16:14:15.313Z"
   },
   {
    "duration": 563,
    "start_time": "2024-09-19T16:14:15.335Z"
   },
   {
    "duration": 45,
    "start_time": "2024-09-19T16:14:15.900Z"
   },
   {
    "duration": 42,
    "start_time": "2024-09-19T16:14:15.947Z"
   },
   {
    "duration": 25,
    "start_time": "2024-09-19T16:14:15.991Z"
   },
   {
    "duration": 22,
    "start_time": "2024-09-19T16:14:16.017Z"
   },
   {
    "duration": 46,
    "start_time": "2024-09-19T16:14:16.041Z"
   },
   {
    "duration": 25,
    "start_time": "2024-09-19T16:14:16.089Z"
   },
   {
    "duration": 81,
    "start_time": "2024-09-19T16:14:16.116Z"
   },
   {
    "duration": 89,
    "start_time": "2024-09-19T16:14:16.198Z"
   },
   {
    "duration": 9,
    "start_time": "2024-09-19T16:14:16.289Z"
   },
   {
    "duration": 90,
    "start_time": "2024-09-19T16:14:16.300Z"
   },
   {
    "duration": 3,
    "start_time": "2024-09-19T16:14:16.392Z"
   },
   {
    "duration": 61,
    "start_time": "2024-09-19T16:14:16.397Z"
   },
   {
    "duration": 8,
    "start_time": "2024-09-19T16:14:16.461Z"
   },
   {
    "duration": 38,
    "start_time": "2024-09-19T16:19:09.474Z"
   },
   {
    "duration": 39,
    "start_time": "2024-09-19T16:20:26.962Z"
   },
   {
    "duration": 74,
    "start_time": "2024-09-19T16:20:29.557Z"
   },
   {
    "duration": 257,
    "start_time": "2024-09-19T16:20:38.929Z"
   },
   {
    "duration": 76,
    "start_time": "2024-09-19T16:20:45.787Z"
   },
   {
    "duration": 116,
    "start_time": "2024-09-19T16:21:36.399Z"
   },
   {
    "duration": 107,
    "start_time": "2024-09-19T16:22:10.163Z"
   },
   {
    "duration": 115,
    "start_time": "2024-09-19T16:22:18.109Z"
   },
   {
    "duration": 149,
    "start_time": "2024-09-19T16:25:02.667Z"
   },
   {
    "duration": 2488,
    "start_time": "2024-09-20T23:04:03.942Z"
   },
   {
    "duration": 895,
    "start_time": "2024-09-20T23:04:06.432Z"
   },
   {
    "duration": 472,
    "start_time": "2024-09-20T23:04:07.330Z"
   },
   {
    "duration": 43,
    "start_time": "2024-09-20T23:04:07.804Z"
   },
   {
    "duration": 21,
    "start_time": "2024-09-20T23:04:07.849Z"
   },
   {
    "duration": 29,
    "start_time": "2024-09-20T23:04:07.872Z"
   },
   {
    "duration": 118,
    "start_time": "2024-09-20T23:04:07.903Z"
   },
   {
    "duration": 46,
    "start_time": "2024-09-20T23:04:08.024Z"
   },
   {
    "duration": 6,
    "start_time": "2024-09-20T23:04:08.072Z"
   },
   {
    "duration": 27,
    "start_time": "2024-09-20T23:04:08.082Z"
   },
   {
    "duration": 182,
    "start_time": "2024-09-20T23:04:08.110Z"
   },
   {
    "duration": 24,
    "start_time": "2024-09-20T23:04:08.294Z"
   },
   {
    "duration": 560,
    "start_time": "2024-09-20T23:04:08.320Z"
   },
   {
    "duration": 42,
    "start_time": "2024-09-20T23:04:08.882Z"
   },
   {
    "duration": 45,
    "start_time": "2024-09-20T23:04:08.926Z"
   },
   {
    "duration": 24,
    "start_time": "2024-09-20T23:04:08.973Z"
   },
   {
    "duration": 20,
    "start_time": "2024-09-20T23:04:09.000Z"
   },
   {
    "duration": 494,
    "start_time": "2024-09-20T23:04:09.022Z"
   },
   {
    "duration": 0,
    "start_time": "2024-09-20T23:04:09.518Z"
   },
   {
    "duration": 0,
    "start_time": "2024-09-20T23:04:09.520Z"
   },
   {
    "duration": 0,
    "start_time": "2024-09-20T23:04:09.521Z"
   },
   {
    "duration": 0,
    "start_time": "2024-09-20T23:04:09.522Z"
   },
   {
    "duration": 0,
    "start_time": "2024-09-20T23:04:09.523Z"
   },
   {
    "duration": 0,
    "start_time": "2024-09-20T23:04:09.524Z"
   },
   {
    "duration": 0,
    "start_time": "2024-09-20T23:04:09.525Z"
   },
   {
    "duration": 0,
    "start_time": "2024-09-20T23:04:09.527Z"
   },
   {
    "duration": 42,
    "start_time": "2024-09-20T23:05:31.123Z"
   },
   {
    "duration": 7,
    "start_time": "2024-09-20T23:05:56.270Z"
   },
   {
    "duration": 130,
    "start_time": "2024-09-20T23:06:27.851Z"
   },
   {
    "duration": 45,
    "start_time": "2024-09-20T23:09:27.715Z"
   },
   {
    "duration": 41,
    "start_time": "2024-09-20T23:09:46.395Z"
   },
   {
    "duration": 750,
    "start_time": "2024-09-20T23:09:55.434Z"
   },
   {
    "duration": 795,
    "start_time": "2024-09-20T23:09:56.186Z"
   },
   {
    "duration": 496,
    "start_time": "2024-09-20T23:09:56.983Z"
   },
   {
    "duration": 42,
    "start_time": "2024-09-20T23:09:57.481Z"
   },
   {
    "duration": 9,
    "start_time": "2024-09-20T23:09:57.526Z"
   },
   {
    "duration": 46,
    "start_time": "2024-09-20T23:09:57.536Z"
   },
   {
    "duration": 115,
    "start_time": "2024-09-20T23:09:57.583Z"
   },
   {
    "duration": 37,
    "start_time": "2024-09-20T23:09:57.700Z"
   },
   {
    "duration": 7,
    "start_time": "2024-09-20T23:09:57.739Z"
   },
   {
    "duration": 47,
    "start_time": "2024-09-20T23:09:57.747Z"
   },
   {
    "duration": 169,
    "start_time": "2024-09-20T23:09:57.795Z"
   },
   {
    "duration": 27,
    "start_time": "2024-09-20T23:09:57.965Z"
   },
   {
    "duration": 542,
    "start_time": "2024-09-20T23:09:57.994Z"
   },
   {
    "duration": 49,
    "start_time": "2024-09-20T23:09:58.540Z"
   },
   {
    "duration": 25,
    "start_time": "2024-09-20T23:09:58.591Z"
   },
   {
    "duration": 25,
    "start_time": "2024-09-20T23:09:58.617Z"
   },
   {
    "duration": 38,
    "start_time": "2024-09-20T23:09:58.644Z"
   },
   {
    "duration": 8,
    "start_time": "2024-09-20T23:09:58.684Z"
   },
   {
    "duration": 552,
    "start_time": "2024-09-20T23:09:58.694Z"
   },
   {
    "duration": 0,
    "start_time": "2024-09-20T23:09:59.248Z"
   },
   {
    "duration": 0,
    "start_time": "2024-09-20T23:09:59.249Z"
   },
   {
    "duration": 0,
    "start_time": "2024-09-20T23:09:59.250Z"
   },
   {
    "duration": 0,
    "start_time": "2024-09-20T23:09:59.252Z"
   },
   {
    "duration": 0,
    "start_time": "2024-09-20T23:09:59.253Z"
   },
   {
    "duration": 0,
    "start_time": "2024-09-20T23:09:59.254Z"
   },
   {
    "duration": 1,
    "start_time": "2024-09-20T23:09:59.269Z"
   },
   {
    "duration": 0,
    "start_time": "2024-09-20T23:09:59.271Z"
   },
   {
    "duration": 0,
    "start_time": "2024-09-20T23:09:59.273Z"
   },
   {
    "duration": 63,
    "start_time": "2024-09-20T23:10:44.256Z"
   },
   {
    "duration": 59,
    "start_time": "2024-09-20T23:11:02.820Z"
   },
   {
    "duration": 25,
    "start_time": "2024-09-20T23:11:18.700Z"
   },
   {
    "duration": 14,
    "start_time": "2024-09-20T23:12:26.693Z"
   },
   {
    "duration": 47,
    "start_time": "2024-09-20T23:12:31.478Z"
   },
   {
    "duration": 27,
    "start_time": "2024-09-20T23:12:38.524Z"
   },
   {
    "duration": 67,
    "start_time": "2024-09-20T23:13:48.935Z"
   },
   {
    "duration": 86,
    "start_time": "2024-09-20T23:13:52.123Z"
   },
   {
    "duration": 11,
    "start_time": "2024-09-20T23:14:04.348Z"
   },
   {
    "duration": 85,
    "start_time": "2024-09-20T23:19:10.203Z"
   },
   {
    "duration": 73,
    "start_time": "2024-09-20T23:19:35.083Z"
   },
   {
    "duration": 80,
    "start_time": "2024-09-20T23:20:01.257Z"
   },
   {
    "duration": 80,
    "start_time": "2024-09-20T23:20:06.951Z"
   },
   {
    "duration": 78,
    "start_time": "2024-09-20T23:20:18.462Z"
   },
   {
    "duration": 68,
    "start_time": "2024-09-20T23:20:49.677Z"
   },
   {
    "duration": 246,
    "start_time": "2024-09-20T23:22:36.583Z"
   },
   {
    "duration": 68,
    "start_time": "2024-09-20T23:22:52.129Z"
   },
   {
    "duration": 47,
    "start_time": "2024-09-20T23:22:55.139Z"
   },
   {
    "duration": 38,
    "start_time": "2024-09-20T23:23:11.919Z"
   },
   {
    "duration": 67,
    "start_time": "2024-09-20T23:24:29.914Z"
   },
   {
    "duration": 67,
    "start_time": "2024-09-20T23:24:57.251Z"
   },
   {
    "duration": 68,
    "start_time": "2024-09-20T23:25:26.149Z"
   },
   {
    "duration": 3,
    "start_time": "2024-09-20T23:27:28.179Z"
   },
   {
    "duration": 16,
    "start_time": "2024-09-20T23:34:41.384Z"
   },
   {
    "duration": 6,
    "start_time": "2024-09-20T23:34:54.069Z"
   },
   {
    "duration": 2584,
    "start_time": "2024-09-21T03:20:14.107Z"
   },
   {
    "duration": 759,
    "start_time": "2024-09-21T03:20:16.693Z"
   },
   {
    "duration": 465,
    "start_time": "2024-09-21T03:20:17.454Z"
   },
   {
    "duration": 51,
    "start_time": "2024-09-21T03:20:17.920Z"
   },
   {
    "duration": 7,
    "start_time": "2024-09-21T03:20:17.973Z"
   },
   {
    "duration": 28,
    "start_time": "2024-09-21T03:20:17.982Z"
   },
   {
    "duration": 122,
    "start_time": "2024-09-21T03:20:18.012Z"
   },
   {
    "duration": 47,
    "start_time": "2024-09-21T03:20:18.136Z"
   },
   {
    "duration": 5,
    "start_time": "2024-09-21T03:20:18.185Z"
   },
   {
    "duration": 27,
    "start_time": "2024-09-21T03:20:18.192Z"
   },
   {
    "duration": 228,
    "start_time": "2024-09-21T03:20:18.222Z"
   },
   {
    "duration": 29,
    "start_time": "2024-09-21T03:20:18.451Z"
   },
   {
    "duration": 533,
    "start_time": "2024-09-21T03:20:18.481Z"
   },
   {
    "duration": 41,
    "start_time": "2024-09-21T03:20:19.017Z"
   },
   {
    "duration": 33,
    "start_time": "2024-09-21T03:20:19.059Z"
   },
   {
    "duration": 23,
    "start_time": "2024-09-21T03:20:19.094Z"
   },
   {
    "duration": 20,
    "start_time": "2024-09-21T03:20:19.119Z"
   },
   {
    "duration": 30,
    "start_time": "2024-09-21T03:20:19.140Z"
   },
   {
    "duration": 58,
    "start_time": "2024-09-21T03:20:19.172Z"
   },
   {
    "duration": 38,
    "start_time": "2024-09-21T03:20:19.232Z"
   },
   {
    "duration": 68,
    "start_time": "2024-09-21T03:20:19.272Z"
   },
   {
    "duration": 93,
    "start_time": "2024-09-21T03:20:19.341Z"
   },
   {
    "duration": 10,
    "start_time": "2024-09-21T03:20:19.436Z"
   },
   {
    "duration": 55,
    "start_time": "2024-09-21T03:20:19.447Z"
   },
   {
    "duration": 82,
    "start_time": "2024-09-21T03:20:19.505Z"
   },
   {
    "duration": 6,
    "start_time": "2024-09-21T03:20:19.589Z"
   },
   {
    "duration": 3,
    "start_time": "2024-09-21T03:20:19.597Z"
   },
   {
    "duration": 77,
    "start_time": "2024-09-21T03:20:19.602Z"
   },
   {
    "duration": 8,
    "start_time": "2024-09-21T03:20:19.680Z"
   },
   {
    "duration": 8,
    "start_time": "2024-09-21T03:25:02.383Z"
   },
   {
    "duration": 840,
    "start_time": "2024-09-21T03:27:00.209Z"
   },
   {
    "duration": 152,
    "start_time": "2024-09-21T03:27:45.902Z"
   },
   {
    "duration": 144,
    "start_time": "2024-09-21T03:28:31.188Z"
   },
   {
    "duration": 2521,
    "start_time": "2024-09-21T19:12:57.081Z"
   },
   {
    "duration": 829,
    "start_time": "2024-09-21T19:12:59.603Z"
   },
   {
    "duration": 523,
    "start_time": "2024-09-21T19:13:00.434Z"
   },
   {
    "duration": 42,
    "start_time": "2024-09-21T19:13:00.960Z"
   },
   {
    "duration": 7,
    "start_time": "2024-09-21T19:13:01.004Z"
   },
   {
    "duration": 49,
    "start_time": "2024-09-21T19:13:01.013Z"
   },
   {
    "duration": 125,
    "start_time": "2024-09-21T19:13:01.064Z"
   },
   {
    "duration": 39,
    "start_time": "2024-09-21T19:13:01.190Z"
   },
   {
    "duration": 17,
    "start_time": "2024-09-21T19:13:01.231Z"
   },
   {
    "duration": 29,
    "start_time": "2024-09-21T19:13:01.250Z"
   },
   {
    "duration": 176,
    "start_time": "2024-09-21T19:13:01.281Z"
   },
   {
    "duration": 24,
    "start_time": "2024-09-21T19:13:01.459Z"
   },
   {
    "duration": 561,
    "start_time": "2024-09-21T19:13:01.485Z"
   },
   {
    "duration": 41,
    "start_time": "2024-09-21T19:13:02.048Z"
   },
   {
    "duration": 27,
    "start_time": "2024-09-21T19:13:02.090Z"
   },
   {
    "duration": 41,
    "start_time": "2024-09-21T19:13:02.119Z"
   },
   {
    "duration": 26,
    "start_time": "2024-09-21T19:13:02.162Z"
   },
   {
    "duration": 9,
    "start_time": "2024-09-21T19:13:03.534Z"
   },
   {
    "duration": 59,
    "start_time": "2024-09-21T19:13:03.547Z"
   },
   {
    "duration": 32,
    "start_time": "2024-09-21T19:13:05.172Z"
   },
   {
    "duration": 69,
    "start_time": "2024-09-21T19:13:05.206Z"
   },
   {
    "duration": 87,
    "start_time": "2024-09-21T19:13:05.277Z"
   },
   {
    "duration": 10,
    "start_time": "2024-09-21T19:13:05.366Z"
   },
   {
    "duration": 39,
    "start_time": "2024-09-21T19:13:05.378Z"
   },
   {
    "duration": 86,
    "start_time": "2024-09-21T19:13:05.419Z"
   },
   {
    "duration": 6,
    "start_time": "2024-09-21T19:13:08.785Z"
   },
   {
    "duration": 3,
    "start_time": "2024-09-21T19:13:08.815Z"
   },
   {
    "duration": 59,
    "start_time": "2024-09-21T19:13:08.820Z"
   },
   {
    "duration": 9,
    "start_time": "2024-09-21T19:13:08.881Z"
   },
   {
    "duration": 848,
    "start_time": "2024-09-21T19:13:10.081Z"
   },
   {
    "duration": 0,
    "start_time": "2024-09-21T19:13:10.931Z"
   },
   {
    "duration": 0,
    "start_time": "2024-09-21T19:13:10.933Z"
   },
   {
    "duration": 0,
    "start_time": "2024-09-21T19:13:10.934Z"
   },
   {
    "duration": 9,
    "start_time": "2024-09-21T19:15:22.478Z"
   },
   {
    "duration": 97,
    "start_time": "2024-09-21T19:15:47.061Z"
   },
   {
    "duration": 98,
    "start_time": "2024-09-21T19:15:52.899Z"
   },
   {
    "duration": 108,
    "start_time": "2024-09-21T19:18:10.883Z"
   },
   {
    "duration": 140,
    "start_time": "2024-09-21T19:18:38.503Z"
   },
   {
    "duration": 147,
    "start_time": "2024-09-21T19:19:39.369Z"
   },
   {
    "duration": 98,
    "start_time": "2024-09-21T19:23:48.695Z"
   },
   {
    "duration": 96,
    "start_time": "2024-09-21T19:24:01.974Z"
   },
   {
    "duration": 95,
    "start_time": "2024-09-21T19:29:27.452Z"
   },
   {
    "duration": 93,
    "start_time": "2024-09-21T19:30:30.652Z"
   },
   {
    "duration": 238,
    "start_time": "2024-09-21T19:30:44.304Z"
   },
   {
    "duration": 92,
    "start_time": "2024-09-21T19:31:24.380Z"
   },
   {
    "duration": 94,
    "start_time": "2024-09-21T19:31:33.801Z"
   },
   {
    "duration": 93,
    "start_time": "2024-09-21T19:31:45.300Z"
   },
   {
    "duration": 96,
    "start_time": "2024-09-21T19:32:18.940Z"
   },
   {
    "duration": 134,
    "start_time": "2024-09-21T19:32:22.373Z"
   },
   {
    "duration": 19,
    "start_time": "2024-09-21T19:32:26.382Z"
   },
   {
    "duration": 3,
    "start_time": "2024-09-21T19:33:12.940Z"
   },
   {
    "duration": 5,
    "start_time": "2024-09-21T19:33:23.324Z"
   },
   {
    "duration": 4,
    "start_time": "2024-09-21T19:33:33.283Z"
   },
   {
    "duration": 16,
    "start_time": "2024-09-21T19:33:42.403Z"
   },
   {
    "duration": 234,
    "start_time": "2024-09-21T19:34:04.728Z"
   },
   {
    "duration": 2535,
    "start_time": "2024-09-21T20:23:41.943Z"
   },
   {
    "duration": 826,
    "start_time": "2024-09-21T20:23:44.480Z"
   },
   {
    "duration": 487,
    "start_time": "2024-09-21T20:23:45.308Z"
   },
   {
    "duration": 50,
    "start_time": "2024-09-21T20:23:45.798Z"
   },
   {
    "duration": 7,
    "start_time": "2024-09-21T20:23:45.850Z"
   },
   {
    "duration": 30,
    "start_time": "2024-09-21T20:23:45.859Z"
   },
   {
    "duration": 125,
    "start_time": "2024-09-21T20:23:45.890Z"
   },
   {
    "duration": 41,
    "start_time": "2024-09-21T20:23:46.018Z"
   },
   {
    "duration": 6,
    "start_time": "2024-09-21T20:23:46.061Z"
   },
   {
    "duration": 25,
    "start_time": "2024-09-21T20:23:46.070Z"
   },
   {
    "duration": 183,
    "start_time": "2024-09-21T20:23:46.097Z"
   },
   {
    "duration": 23,
    "start_time": "2024-09-21T20:23:46.282Z"
   },
   {
    "duration": 535,
    "start_time": "2024-09-21T20:23:46.308Z"
   },
   {
    "duration": 42,
    "start_time": "2024-09-21T20:23:46.845Z"
   },
   {
    "duration": 24,
    "start_time": "2024-09-21T20:23:46.888Z"
   },
   {
    "duration": 40,
    "start_time": "2024-09-21T20:23:46.914Z"
   },
   {
    "duration": 20,
    "start_time": "2024-09-21T20:23:46.957Z"
   },
   {
    "duration": 8,
    "start_time": "2024-09-21T20:23:46.979Z"
   },
   {
    "duration": 81,
    "start_time": "2024-09-21T20:23:46.989Z"
   },
   {
    "duration": 25,
    "start_time": "2024-09-21T20:23:47.071Z"
   },
   {
    "duration": 78,
    "start_time": "2024-09-21T20:23:47.098Z"
   },
   {
    "duration": 88,
    "start_time": "2024-09-21T20:23:47.178Z"
   },
   {
    "duration": 8,
    "start_time": "2024-09-21T20:23:47.268Z"
   },
   {
    "duration": 37,
    "start_time": "2024-09-21T20:23:47.278Z"
   },
   {
    "duration": 84,
    "start_time": "2024-09-21T20:23:47.317Z"
   },
   {
    "duration": 6,
    "start_time": "2024-09-21T20:23:47.403Z"
   },
   {
    "duration": 4,
    "start_time": "2024-09-21T20:23:47.410Z"
   },
   {
    "duration": 82,
    "start_time": "2024-09-21T20:23:47.419Z"
   },
   {
    "duration": 8,
    "start_time": "2024-09-21T20:23:47.503Z"
   },
   {
    "duration": 102,
    "start_time": "2024-09-21T20:23:47.513Z"
   },
   {
    "duration": 92,
    "start_time": "2024-09-21T20:23:47.617Z"
   },
   {
    "duration": 131,
    "start_time": "2024-09-21T20:23:47.711Z"
   },
   {
    "duration": 7,
    "start_time": "2024-09-21T20:23:47.844Z"
   },
   {
    "duration": 4,
    "start_time": "2024-09-21T20:23:47.853Z"
   },
   {
    "duration": 694,
    "start_time": "2024-09-21T20:23:47.860Z"
   },
   {
    "duration": 0,
    "start_time": "2024-09-21T20:23:48.556Z"
   },
   {
    "duration": 0,
    "start_time": "2024-09-21T20:23:48.558Z"
   },
   {
    "duration": 0,
    "start_time": "2024-09-21T20:23:48.559Z"
   },
   {
    "duration": 5,
    "start_time": "2024-09-21T20:24:50.540Z"
   },
   {
    "duration": 48,
    "start_time": "2024-09-21T20:24:59.024Z"
   },
   {
    "duration": 51,
    "start_time": "2024-09-21T20:25:46.976Z"
   },
   {
    "duration": 4,
    "start_time": "2024-09-21T20:29:16.659Z"
   },
   {
    "duration": 51,
    "start_time": "2024-09-21T20:29:20.487Z"
   },
   {
    "duration": 52,
    "start_time": "2024-09-21T20:29:32.859Z"
   },
   {
    "duration": 43,
    "start_time": "2024-09-21T20:29:41.438Z"
   },
   {
    "duration": 23,
    "start_time": "2024-09-21T20:30:01.580Z"
   },
   {
    "duration": 5,
    "start_time": "2024-09-21T20:30:28.500Z"
   },
   {
    "duration": 7,
    "start_time": "2024-09-21T20:35:15.780Z"
   },
   {
    "duration": 130,
    "start_time": "2024-09-21T20:36:00.103Z"
   },
   {
    "duration": 91,
    "start_time": "2024-09-21T20:36:43.845Z"
   },
   {
    "duration": 95,
    "start_time": "2024-09-21T20:37:42.257Z"
   },
   {
    "duration": 42,
    "start_time": "2024-09-21T20:37:52.163Z"
   },
   {
    "duration": 8,
    "start_time": "2024-09-21T20:38:29.921Z"
   },
   {
    "duration": 98,
    "start_time": "2024-09-21T20:38:32.551Z"
   },
   {
    "duration": 95,
    "start_time": "2024-09-21T20:38:40.285Z"
   },
   {
    "duration": 525,
    "start_time": "2024-09-21T20:39:01.086Z"
   },
   {
    "duration": 146,
    "start_time": "2024-09-21T20:39:14.024Z"
   },
   {
    "duration": 147,
    "start_time": "2024-09-21T20:39:25.535Z"
   },
   {
    "duration": 95,
    "start_time": "2024-09-21T20:39:29.527Z"
   },
   {
    "duration": 97,
    "start_time": "2024-09-21T20:47:14.253Z"
   },
   {
    "duration": 98,
    "start_time": "2024-09-21T20:47:39.714Z"
   },
   {
    "duration": 6,
    "start_time": "2024-09-21T20:48:21.443Z"
   },
   {
    "duration": 222,
    "start_time": "2024-09-21T20:48:51.082Z"
   },
   {
    "duration": 6,
    "start_time": "2024-09-21T20:49:02.250Z"
   },
   {
    "duration": 4,
    "start_time": "2024-09-21T20:49:09.115Z"
   },
   {
    "duration": 271,
    "start_time": "2024-09-21T20:49:20.370Z"
   },
   {
    "duration": 17,
    "start_time": "2024-09-21T20:49:36.400Z"
   },
   {
    "duration": 8,
    "start_time": "2024-09-21T20:50:34.602Z"
   },
   {
    "duration": 643,
    "start_time": "2024-09-21T20:50:53.650Z"
   },
   {
    "duration": 606,
    "start_time": "2024-09-21T20:51:00.963Z"
   },
   {
    "duration": 64,
    "start_time": "2024-09-21T20:58:27.581Z"
   },
   {
    "duration": 58,
    "start_time": "2024-09-21T20:59:18.922Z"
   },
   {
    "duration": 63,
    "start_time": "2024-09-21T20:59:47.837Z"
   },
   {
    "duration": 61,
    "start_time": "2024-09-21T21:00:06.832Z"
   },
   {
    "duration": 3232,
    "start_time": "2024-09-23T02:53:54.788Z"
   },
   {
    "duration": 830,
    "start_time": "2024-09-23T02:53:58.022Z"
   },
   {
    "duration": 497,
    "start_time": "2024-09-23T02:53:58.854Z"
   },
   {
    "duration": 43,
    "start_time": "2024-09-23T02:53:59.353Z"
   },
   {
    "duration": 17,
    "start_time": "2024-09-23T02:53:59.397Z"
   },
   {
    "duration": 27,
    "start_time": "2024-09-23T02:53:59.415Z"
   },
   {
    "duration": 123,
    "start_time": "2024-09-23T02:53:59.445Z"
   },
   {
    "duration": 40,
    "start_time": "2024-09-23T02:53:59.570Z"
   },
   {
    "duration": 6,
    "start_time": "2024-09-23T02:53:59.612Z"
   },
   {
    "duration": 26,
    "start_time": "2024-09-23T02:53:59.621Z"
   },
   {
    "duration": 195,
    "start_time": "2024-09-23T02:53:59.649Z"
   },
   {
    "duration": 23,
    "start_time": "2024-09-23T02:53:59.846Z"
   },
   {
    "duration": 555,
    "start_time": "2024-09-23T02:53:59.871Z"
   },
   {
    "duration": 41,
    "start_time": "2024-09-23T02:54:00.428Z"
   },
   {
    "duration": 24,
    "start_time": "2024-09-23T02:54:00.470Z"
   },
   {
    "duration": 35,
    "start_time": "2024-09-23T02:54:00.496Z"
   },
   {
    "duration": 20,
    "start_time": "2024-09-23T02:54:00.533Z"
   },
   {
    "duration": 8,
    "start_time": "2024-09-23T02:54:00.554Z"
   },
   {
    "duration": 86,
    "start_time": "2024-09-23T02:54:00.563Z"
   },
   {
    "duration": 25,
    "start_time": "2024-09-23T02:54:00.651Z"
   },
   {
    "duration": 79,
    "start_time": "2024-09-23T02:54:00.678Z"
   },
   {
    "duration": 87,
    "start_time": "2024-09-23T02:54:00.758Z"
   },
   {
    "duration": 10,
    "start_time": "2024-09-23T02:54:00.846Z"
   },
   {
    "duration": 52,
    "start_time": "2024-09-23T02:54:00.857Z"
   },
   {
    "duration": 70,
    "start_time": "2024-09-23T02:54:00.910Z"
   },
   {
    "duration": 6,
    "start_time": "2024-09-23T02:54:00.982Z"
   },
   {
    "duration": 21,
    "start_time": "2024-09-23T02:54:00.990Z"
   },
   {
    "duration": 59,
    "start_time": "2024-09-23T02:54:01.015Z"
   },
   {
    "duration": 106,
    "start_time": "2024-09-23T02:54:01.076Z"
   },
   {
    "duration": 221,
    "start_time": "2024-09-23T02:54:01.183Z"
   },
   {
    "duration": 7,
    "start_time": "2024-09-23T02:54:01.406Z"
   },
   {
    "duration": 5,
    "start_time": "2024-09-23T02:54:01.415Z"
   },
   {
    "duration": 269,
    "start_time": "2024-09-23T02:54:01.422Z"
   },
   {
    "duration": 680,
    "start_time": "2024-09-23T02:54:01.693Z"
   },
   {
    "duration": 623,
    "start_time": "2024-09-23T02:54:02.376Z"
   },
   {
    "duration": 2600,
    "start_time": "2024-09-24T00:54:41.250Z"
   },
   {
    "duration": 750,
    "start_time": "2024-09-24T00:54:48.131Z"
   },
   {
    "duration": 135,
    "start_time": "2024-09-24T00:55:13.486Z"
   },
   {
    "duration": 114,
    "start_time": "2024-09-24T00:55:35.728Z"
   },
   {
    "duration": 117,
    "start_time": "2024-09-24T00:56:11.362Z"
   },
   {
    "duration": 45,
    "start_time": "2024-09-24T00:56:31.431Z"
   },
   {
    "duration": 111,
    "start_time": "2024-09-24T00:57:00.856Z"
   },
   {
    "duration": 787,
    "start_time": "2024-09-28T18:49:46.229Z"
   },
   {
    "duration": 133,
    "start_time": "2024-09-28T18:49:47.018Z"
   },
   {
    "duration": 122,
    "start_time": "2024-09-28T18:49:47.153Z"
   },
   {
    "duration": 111,
    "start_time": "2024-09-28T18:49:47.277Z"
   },
   {
    "duration": 16,
    "start_time": "2024-09-28T18:49:47.390Z"
   },
   {
    "duration": 6,
    "start_time": "2024-09-28T18:49:47.408Z"
   },
   {
    "duration": 18,
    "start_time": "2024-09-28T18:49:47.415Z"
   },
   {
    "duration": 70,
    "start_time": "2024-09-28T18:49:47.434Z"
   },
   {
    "duration": 6,
    "start_time": "2024-09-28T18:49:47.505Z"
   },
   {
    "duration": 5,
    "start_time": "2024-09-28T18:49:47.515Z"
   },
   {
    "duration": 6,
    "start_time": "2024-09-28T18:49:47.521Z"
   },
   {
    "duration": 191,
    "start_time": "2024-09-28T18:49:47.529Z"
   },
   {
    "duration": 12,
    "start_time": "2024-09-28T18:49:47.722Z"
   },
   {
    "duration": 133,
    "start_time": "2024-09-28T18:49:47.736Z"
   },
   {
    "duration": 21,
    "start_time": "2024-09-28T18:49:47.871Z"
   },
   {
    "duration": 18,
    "start_time": "2024-09-28T18:49:47.893Z"
   },
   {
    "duration": 17,
    "start_time": "2024-09-28T18:49:47.913Z"
   },
   {
    "duration": 15,
    "start_time": "2024-09-28T18:49:47.932Z"
   },
   {
    "duration": 38,
    "start_time": "2024-09-28T18:49:47.949Z"
   },
   {
    "duration": 23,
    "start_time": "2024-09-28T18:49:47.988Z"
   },
   {
    "duration": 20,
    "start_time": "2024-09-28T18:49:48.012Z"
   },
   {
    "duration": 55,
    "start_time": "2024-09-28T18:49:48.034Z"
   },
   {
    "duration": 43,
    "start_time": "2024-09-28T18:49:48.091Z"
   },
   {
    "duration": 11,
    "start_time": "2024-09-28T18:49:48.136Z"
   },
   {
    "duration": 7,
    "start_time": "2024-09-28T18:49:48.149Z"
   },
   {
    "duration": 45,
    "start_time": "2024-09-28T18:49:48.158Z"
   },
   {
    "duration": 6,
    "start_time": "2024-09-28T18:49:48.205Z"
   },
   {
    "duration": 4,
    "start_time": "2024-09-28T18:49:48.215Z"
   },
   {
    "duration": 22,
    "start_time": "2024-09-28T18:49:48.220Z"
   },
   {
    "duration": 873,
    "start_time": "2024-09-28T18:49:48.244Z"
   },
   {
    "duration": 0,
    "start_time": "2024-09-28T18:49:49.119Z"
   },
   {
    "duration": 0,
    "start_time": "2024-09-28T18:49:49.120Z"
   },
   {
    "duration": 0,
    "start_time": "2024-09-28T18:49:49.121Z"
   },
   {
    "duration": 0,
    "start_time": "2024-09-28T18:49:49.122Z"
   },
   {
    "duration": 0,
    "start_time": "2024-09-28T18:49:49.124Z"
   },
   {
    "duration": 0,
    "start_time": "2024-09-28T18:49:49.125Z"
   },
   {
    "duration": 68,
    "start_time": "2024-09-28T18:50:17.448Z"
   },
   {
    "duration": 7,
    "start_time": "2024-09-28T18:50:18.163Z"
   },
   {
    "duration": 4,
    "start_time": "2024-09-28T18:50:20.124Z"
   },
   {
    "duration": 37,
    "start_time": "2024-09-28T18:50:20.785Z"
   },
   {
    "duration": 37,
    "start_time": "2024-09-28T18:50:22.291Z"
   },
   {
    "duration": 26,
    "start_time": "2024-09-28T18:50:23.597Z"
   },
   {
    "duration": 422,
    "start_time": "2024-09-28T18:50:54.916Z"
   },
   {
    "duration": 105,
    "start_time": "2024-09-28T18:51:00.335Z"
   },
   {
    "duration": 64,
    "start_time": "2024-09-28T18:51:04.583Z"
   },
   {
    "duration": 106,
    "start_time": "2024-09-28T18:52:10.416Z"
   },
   {
    "duration": 6,
    "start_time": "2024-09-28T18:52:32.074Z"
   },
   {
    "duration": 97,
    "start_time": "2024-09-28T18:52:55.789Z"
   },
   {
    "duration": 2536,
    "start_time": "2024-09-30T21:42:33.763Z"
   },
   {
    "duration": 179,
    "start_time": "2024-09-30T21:42:36.301Z"
   },
   {
    "duration": 134,
    "start_time": "2024-09-30T21:42:36.482Z"
   },
   {
    "duration": 118,
    "start_time": "2024-09-30T21:42:36.618Z"
   },
   {
    "duration": 16,
    "start_time": "2024-09-30T21:42:36.739Z"
   },
   {
    "duration": 19,
    "start_time": "2024-09-30T21:42:36.756Z"
   },
   {
    "duration": 19,
    "start_time": "2024-09-30T21:42:36.778Z"
   },
   {
    "duration": 43,
    "start_time": "2024-09-30T21:42:36.799Z"
   },
   {
    "duration": 29,
    "start_time": "2024-09-30T21:42:36.844Z"
   },
   {
    "duration": 7,
    "start_time": "2024-09-30T21:42:36.876Z"
   },
   {
    "duration": 6,
    "start_time": "2024-09-30T21:42:36.884Z"
   },
   {
    "duration": 187,
    "start_time": "2024-09-30T21:42:36.892Z"
   },
   {
    "duration": 12,
    "start_time": "2024-09-30T21:42:37.082Z"
   },
   {
    "duration": 135,
    "start_time": "2024-09-30T21:42:37.097Z"
   },
   {
    "duration": 16,
    "start_time": "2024-09-30T21:42:37.234Z"
   },
   {
    "duration": 26,
    "start_time": "2024-09-30T21:42:37.251Z"
   },
   {
    "duration": 17,
    "start_time": "2024-09-30T21:42:37.279Z"
   },
   {
    "duration": 16,
    "start_time": "2024-09-30T21:42:37.299Z"
   },
   {
    "duration": 7,
    "start_time": "2024-09-30T21:42:37.317Z"
   },
   {
    "duration": 48,
    "start_time": "2024-09-30T21:42:37.325Z"
   },
   {
    "duration": 19,
    "start_time": "2024-09-30T21:42:37.375Z"
   },
   {
    "duration": 37,
    "start_time": "2024-09-30T21:42:37.395Z"
   },
   {
    "duration": 59,
    "start_time": "2024-09-30T21:42:37.433Z"
   },
   {
    "duration": 7,
    "start_time": "2024-09-30T21:42:37.494Z"
   },
   {
    "duration": 7,
    "start_time": "2024-09-30T21:42:37.503Z"
   },
   {
    "duration": 29,
    "start_time": "2024-09-30T21:42:37.511Z"
   },
   {
    "duration": 28,
    "start_time": "2024-09-30T21:42:37.542Z"
   },
   {
    "duration": 4,
    "start_time": "2024-09-30T21:42:37.572Z"
   },
   {
    "duration": 21,
    "start_time": "2024-09-30T21:42:37.578Z"
   },
   {
    "duration": 238,
    "start_time": "2024-09-30T21:42:37.601Z"
   },
   {
    "duration": 0,
    "start_time": "2024-09-30T21:42:37.841Z"
   },
   {
    "duration": 0,
    "start_time": "2024-09-30T21:42:37.842Z"
   },
   {
    "duration": 0,
    "start_time": "2024-09-30T21:42:37.843Z"
   },
   {
    "duration": 0,
    "start_time": "2024-09-30T21:42:37.844Z"
   },
   {
    "duration": 0,
    "start_time": "2024-09-30T21:42:37.846Z"
   },
   {
    "duration": 0,
    "start_time": "2024-09-30T21:42:37.846Z"
   },
   {
    "duration": 0,
    "start_time": "2024-09-30T21:42:37.847Z"
   },
   {
    "duration": 647,
    "start_time": "2024-09-30T21:43:44.068Z"
   },
   {
    "duration": 53,
    "start_time": "2024-09-30T21:44:03.203Z"
   },
   {
    "duration": 33,
    "start_time": "2024-09-30T21:44:22.772Z"
   },
   {
    "duration": 6,
    "start_time": "2024-09-30T21:45:15.041Z"
   },
   {
    "duration": 6,
    "start_time": "2024-09-30T21:46:00.837Z"
   },
   {
    "duration": 6,
    "start_time": "2024-09-30T21:46:04.034Z"
   },
   {
    "duration": 59,
    "start_time": "2024-09-30T21:46:07.185Z"
   },
   {
    "duration": 57,
    "start_time": "2024-09-30T21:46:11.209Z"
   },
   {
    "duration": 121,
    "start_time": "2024-09-30T21:46:24.777Z"
   },
   {
    "duration": 104,
    "start_time": "2024-09-30T21:46:28.695Z"
   },
   {
    "duration": 780,
    "start_time": "2024-10-01T03:54:51.087Z"
   },
   {
    "duration": 161,
    "start_time": "2024-10-01T03:54:51.869Z"
   },
   {
    "duration": 115,
    "start_time": "2024-10-01T03:54:52.033Z"
   },
   {
    "duration": 116,
    "start_time": "2024-10-01T03:54:52.151Z"
   },
   {
    "duration": 19,
    "start_time": "2024-10-01T03:54:52.269Z"
   },
   {
    "duration": 7,
    "start_time": "2024-10-01T03:54:52.290Z"
   },
   {
    "duration": 17,
    "start_time": "2024-10-01T03:54:52.299Z"
   },
   {
    "duration": 61,
    "start_time": "2024-10-01T03:54:52.318Z"
   },
   {
    "duration": 6,
    "start_time": "2024-10-01T03:54:52.381Z"
   },
   {
    "duration": 5,
    "start_time": "2024-10-01T03:54:52.390Z"
   },
   {
    "duration": 5,
    "start_time": "2024-10-01T03:54:52.397Z"
   },
   {
    "duration": 193,
    "start_time": "2024-10-01T03:54:52.404Z"
   },
   {
    "duration": 12,
    "start_time": "2024-10-01T03:54:52.599Z"
   },
   {
    "duration": 133,
    "start_time": "2024-10-01T03:54:52.613Z"
   },
   {
    "duration": 16,
    "start_time": "2024-10-01T03:54:52.748Z"
   },
   {
    "duration": 18,
    "start_time": "2024-10-01T03:54:52.766Z"
   },
   {
    "duration": 17,
    "start_time": "2024-10-01T03:54:52.786Z"
   },
   {
    "duration": 39,
    "start_time": "2024-10-01T03:54:52.805Z"
   },
   {
    "duration": 7,
    "start_time": "2024-10-01T03:54:52.845Z"
   },
   {
    "duration": 23,
    "start_time": "2024-10-01T03:54:52.853Z"
   },
   {
    "duration": 23,
    "start_time": "2024-10-01T03:54:52.878Z"
   },
   {
    "duration": 62,
    "start_time": "2024-10-01T03:54:52.905Z"
   },
   {
    "duration": 40,
    "start_time": "2024-10-01T03:54:52.969Z"
   },
   {
    "duration": 9,
    "start_time": "2024-10-01T03:54:53.010Z"
   },
   {
    "duration": 23,
    "start_time": "2024-10-01T03:54:53.020Z"
   },
   {
    "duration": 32,
    "start_time": "2024-10-01T03:54:53.045Z"
   },
   {
    "duration": 7,
    "start_time": "2024-10-01T03:54:53.079Z"
   },
   {
    "duration": 3,
    "start_time": "2024-10-01T03:54:53.090Z"
   },
   {
    "duration": 52,
    "start_time": "2024-10-01T03:54:53.096Z"
   },
   {
    "duration": 41,
    "start_time": "2024-10-01T03:54:53.149Z"
   },
   {
    "duration": 37,
    "start_time": "2024-10-01T03:54:53.191Z"
   },
   {
    "duration": 22,
    "start_time": "2024-10-01T03:54:53.229Z"
   },
   {
    "duration": 5,
    "start_time": "2024-10-01T03:54:53.252Z"
   },
   {
    "duration": 58,
    "start_time": "2024-10-01T03:54:53.261Z"
   },
   {
    "duration": 137,
    "start_time": "2024-10-01T03:54:53.321Z"
   },
   {
    "duration": 121,
    "start_time": "2024-10-01T03:54:53.460Z"
   }
  ],
  "kernelspec": {
   "display_name": "Python 3 (ipykernel)",
   "language": "python",
   "name": "python3"
  },
  "language_info": {
   "codemirror_mode": {
    "name": "ipython",
    "version": 3
   },
   "file_extension": ".py",
   "mimetype": "text/x-python",
   "name": "python",
   "nbconvert_exporter": "python",
   "pygments_lexer": "ipython3",
   "version": "3.9.19"
  },
  "toc": {
   "base_numbering": 1,
   "nav_menu": {},
   "number_sections": true,
   "sideBar": true,
   "skip_h1_title": true,
   "title_cell": "Table of Contents",
   "title_sidebar": "Contents",
   "toc_cell": false,
   "toc_position": {
    "height": "calc(100% - 180px)",
    "left": "10px",
    "top": "150px",
    "width": "237.148px"
   },
   "toc_section_display": true,
   "toc_window_display": true
  }
 },
 "nbformat": 4,
 "nbformat_minor": 2
}
