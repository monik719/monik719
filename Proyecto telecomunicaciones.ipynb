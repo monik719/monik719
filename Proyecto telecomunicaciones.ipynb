{
 "cells": [
  {
   "cell_type": "markdown",
   "metadata": {},
   "source": [
    "# Telecomunicaciones: identificar operadores ineficaces\n",
    "**Objetivo:** Identificar los operadores menos eficacez del servicio de telefonía virtual CallMeMayb.\n",
    "\n",
    "Se considera que un operador es ineficaz si tiene una gran cantidad de llamadas entrantes perdidas (internas y externas) y un tiempo de espera prolongado para las llamadas entrantes. Además, si se supone que un operador debe realizar llamadas salientes, un número reducido de ellas también será un signo de ineficacia"
   ]
  },
  {
   "cell_type": "markdown",
   "metadata": {},
   "source": [
    "## Cargas el datset"
   ]
  },
  {
   "cell_type": "code",
   "execution_count": 1,
   "metadata": {},
   "outputs": [],
   "source": [
    "#Importar librerias\n",
    "import pandas as pd\n",
    "from datetime import datetime \n",
    "import pytz\n",
    "import seaborn as sns\n",
    "import matplotlib.pyplot as plt\n",
    "import numpy as np\n",
    "from scipy.stats import pearsonr"
   ]
  },
  {
   "cell_type": "code",
   "execution_count": 2,
   "metadata": {},
   "outputs": [
    {
     "name": "stdout",
     "output_type": "stream",
     "text": [
      "<class 'pandas.core.frame.DataFrame'>\n",
      "RangeIndex: 53902 entries, 0 to 53901\n",
      "Data columns (total 9 columns):\n",
      " #   Column               Non-Null Count  Dtype  \n",
      "---  ------               --------------  -----  \n",
      " 0   user_id              53902 non-null  int64  \n",
      " 1   date                 53902 non-null  object \n",
      " 2   direction            53902 non-null  object \n",
      " 3   internal             53785 non-null  object \n",
      " 4   operator_id          45730 non-null  float64\n",
      " 5   is_missed_call       53902 non-null  bool   \n",
      " 6   calls_count          53902 non-null  int64  \n",
      " 7   call_duration        53902 non-null  int64  \n",
      " 8   total_call_duration  53902 non-null  int64  \n",
      "dtypes: bool(1), float64(1), int64(4), object(3)\n",
      "memory usage: 3.3+ MB\n"
     ]
    },
    {
     "data": {
      "text/plain": [
       "0"
      ]
     },
     "execution_count": 2,
     "metadata": {},
     "output_type": "execute_result"
    }
   ],
   "source": [
    "# Lectura de los datos\n",
    "data = pd.read_csv('/datasets/telecom_dataset_us.csv')\n",
    "df_clientes = pd.read_csv('/datasets/telecom_clients_us.csv')\n",
    "\n",
    "#Información general\n",
    "data.info()\n",
    "\n",
    "#Verificación de datos duplicados \n",
    "data.duplicated().sum()\n",
    "df_clientes.duplicated().sum()"
   ]
  },
  {
   "cell_type": "markdown",
   "metadata": {},
   "source": [
    "## Preprosesamiento de los datos"
   ]
  },
  {
   "cell_type": "code",
   "execution_count": 3,
   "metadata": {},
   "outputs": [
    {
     "name": "stdout",
     "output_type": "stream",
     "text": [
      "<class 'pandas.core.frame.DataFrame'>\n",
      "RangeIndex: 53902 entries, 0 to 53901\n",
      "Data columns (total 9 columns):\n",
      " #   Column               Non-Null Count  Dtype  \n",
      "---  ------               --------------  -----  \n",
      " 0   user_id              53902 non-null  int64  \n",
      " 1   date                 53902 non-null  object \n",
      " 2   direction            53902 non-null  object \n",
      " 3   internal             53785 non-null  object \n",
      " 4   operator_id          45730 non-null  float64\n",
      " 5   is_missed_call       53902 non-null  bool   \n",
      " 6   calls_count          53902 non-null  int64  \n",
      " 7   call_duration        53902 non-null  int64  \n",
      " 8   total_call_duration  53902 non-null  int64  \n",
      "dtypes: bool(1), float64(1), int64(4), object(3)\n",
      "memory usage: 3.3+ MB\n",
      "<class 'pandas.core.frame.DataFrame'>\n",
      "RangeIndex: 732 entries, 0 to 731\n",
      "Data columns (total 3 columns):\n",
      " #   Column       Non-Null Count  Dtype \n",
      "---  ------       --------------  ----- \n",
      " 0   user_id      732 non-null    int64 \n",
      " 1   tariff_plan  732 non-null    object\n",
      " 2   date_start   732 non-null    object\n",
      "dtypes: int64(1), object(2)\n",
      "memory usage: 17.3+ KB\n"
     ]
    },
    {
     "data": {
      "text/plain": [
       "0"
      ]
     },
     "execution_count": 3,
     "metadata": {},
     "output_type": "execute_result"
    }
   ],
   "source": [
    "#Información general\n",
    "data.info()\n",
    "df_clientes.info()\n",
    "\n",
    "#Las primeras 5 filas de los datset\n",
    "data.head()\n",
    "df_clientes.head()\n",
    "\n",
    "#Verificación de datos duplicados \n",
    "data.duplicated().sum()\n",
    "df_clientes.duplicated().sum()"
   ]
  },
  {
   "cell_type": "code",
   "execution_count": 4,
   "metadata": {},
   "outputs": [
    {
     "data": {
      "text/plain": [
       "(307, 269)"
      ]
     },
     "execution_count": 4,
     "metadata": {},
     "output_type": "execute_result"
    }
   ],
   "source": [
    "data['user_id'].nunique(), data[data.duplicated()]['user_id'].nunique()"
   ]
  },
  {
   "cell_type": "code",
   "execution_count": 5,
   "metadata": {},
   "outputs": [
    {
     "data": {
      "text/html": [
       "<div>\n",
       "<style scoped>\n",
       "    .dataframe tbody tr th:only-of-type {\n",
       "        vertical-align: middle;\n",
       "    }\n",
       "\n",
       "    .dataframe tbody tr th {\n",
       "        vertical-align: top;\n",
       "    }\n",
       "\n",
       "    .dataframe thead th {\n",
       "        text-align: right;\n",
       "    }\n",
       "</style>\n",
       "<table border=\"1\" class=\"dataframe\">\n",
       "  <thead>\n",
       "    <tr style=\"text-align: right;\">\n",
       "      <th></th>\n",
       "      <th>user_id</th>\n",
       "      <th>date</th>\n",
       "      <th>direction</th>\n",
       "      <th>internal</th>\n",
       "      <th>operator_id</th>\n",
       "      <th>is_missed_call</th>\n",
       "      <th>calls_count</th>\n",
       "      <th>call_duration</th>\n",
       "      <th>total_call_duration</th>\n",
       "    </tr>\n",
       "  </thead>\n",
       "  <tbody>\n",
       "    <tr>\n",
       "      <th>0</th>\n",
       "      <td>166377</td>\n",
       "      <td>2019-08-04 00:00:00+03:00</td>\n",
       "      <td>in</td>\n",
       "      <td>False</td>\n",
       "      <td>NaN</td>\n",
       "      <td>True</td>\n",
       "      <td>2</td>\n",
       "      <td>0</td>\n",
       "      <td>4</td>\n",
       "    </tr>\n",
       "    <tr>\n",
       "      <th>1</th>\n",
       "      <td>166377</td>\n",
       "      <td>2019-08-05 00:00:00+03:00</td>\n",
       "      <td>out</td>\n",
       "      <td>True</td>\n",
       "      <td>880022.0</td>\n",
       "      <td>True</td>\n",
       "      <td>3</td>\n",
       "      <td>0</td>\n",
       "      <td>5</td>\n",
       "    </tr>\n",
       "  </tbody>\n",
       "</table>\n",
       "</div>"
      ],
      "text/plain": [
       "   user_id                       date direction internal  operator_id  \\\n",
       "0   166377  2019-08-04 00:00:00+03:00        in    False          NaN   \n",
       "1   166377  2019-08-05 00:00:00+03:00       out     True     880022.0   \n",
       "\n",
       "   is_missed_call  calls_count  call_duration  total_call_duration  \n",
       "0            True            2              0                    4  \n",
       "1            True            3              0                    5  "
      ]
     },
     "execution_count": 5,
     "metadata": {},
     "output_type": "execute_result"
    }
   ],
   "source": [
    "data[data['user_id'] == 166377].head(2)"
   ]
  },
  {
   "cell_type": "code",
   "execution_count": 6,
   "metadata": {},
   "outputs": [],
   "source": [
    "# Verificar valores ausentes\n",
    "data.isna().sum()\n",
    "\n",
    "# Convertir al tipo de dato deseado\n",
    "#el objeto datetime con zona horaria \n",
    "data['date'] = datetime.strptime('2019-08-04 00:00:00+03:00', '%Y-%m-%d %H:%M:%S%z')\n",
    "df_clientes['date_start'] = pd.to_datetime(df_clientes['date_start'])\n",
    "\n",
    "#Eliminamos duplicados\n",
    "data = data.drop_duplicates()\n",
    "\n"
   ]
  },
  {
   "cell_type": "markdown",
   "metadata": {},
   "source": [
    "## Analisis exploratorio de los datos\n"
   ]
  },
  {
   "cell_type": "markdown",
   "metadata": {},
   "source": [
    "**TENER EN CUENTA** un operador es ineficaz si tiene una gran cantidad de llamadas entrantes perdidas (internas y externas) y un tiempo de espera prolongado para las llamadas entrantes.\n",
    "\n",
    "Además, si se supone que un operador debe realizar llamadas salientes, un número reducido de ellas también será un signo de ineficacia."
   ]
  },
  {
   "cell_type": "markdown",
   "metadata": {},
   "source": [
    "### Descripción de los datos"
   ]
  },
  {
   "cell_type": "code",
   "execution_count": 7,
   "metadata": {
    "scrolled": true
   },
   "outputs": [
    {
     "name": "stderr",
     "output_type": "stream",
     "text": [
      "/tmp/ipykernel_50/4002528891.py:10: SettingWithCopyWarning: \n",
      "A value is trying to be set on a copy of a slice from a DataFrame.\n",
      "Try using .loc[row_indexer,col_indexer] = value instead\n",
      "\n",
      "See the caveats in the documentation: https://pandas.pydata.org/pandas-docs/stable/user_guide/indexing.html#returning-a-view-versus-a-copy\n",
      "  call_in['fecha'] = call_in['date'].dt.date\n"
     ]
    },
    {
     "data": {
      "text/html": [
       "<div>\n",
       "<style scoped>\n",
       "    .dataframe tbody tr th:only-of-type {\n",
       "        vertical-align: middle;\n",
       "    }\n",
       "\n",
       "    .dataframe tbody tr th {\n",
       "        vertical-align: top;\n",
       "    }\n",
       "\n",
       "    .dataframe thead th {\n",
       "        text-align: right;\n",
       "    }\n",
       "</style>\n",
       "<table border=\"1\" class=\"dataframe\">\n",
       "  <thead>\n",
       "    <tr style=\"text-align: right;\">\n",
       "      <th></th>\n",
       "      <th>user_id</th>\n",
       "      <th>operator_id</th>\n",
       "      <th>calls_count</th>\n",
       "      <th>call_duration</th>\n",
       "      <th>total_call_duration</th>\n",
       "    </tr>\n",
       "  </thead>\n",
       "  <tbody>\n",
       "    <tr>\n",
       "      <th>count</th>\n",
       "      <td>18996.000000</td>\n",
       "      <td>12677.000000</td>\n",
       "      <td>18996.000000</td>\n",
       "      <td>18996.000000</td>\n",
       "      <td>18996.000000</td>\n",
       "    </tr>\n",
       "    <tr>\n",
       "      <th>mean</th>\n",
       "      <td>167286.839545</td>\n",
       "      <td>916640.924036</td>\n",
       "      <td>10.331333</td>\n",
       "      <td>518.274742</td>\n",
       "      <td>649.035850</td>\n",
       "    </tr>\n",
       "    <tr>\n",
       "      <th>std</th>\n",
       "      <td>584.586453</td>\n",
       "      <td>20210.296646</td>\n",
       "      <td>52.756197</td>\n",
       "      <td>1352.130541</td>\n",
       "      <td>1518.662291</td>\n",
       "    </tr>\n",
       "    <tr>\n",
       "      <th>min</th>\n",
       "      <td>166377.000000</td>\n",
       "      <td>879896.000000</td>\n",
       "      <td>1.000000</td>\n",
       "      <td>0.000000</td>\n",
       "      <td>0.000000</td>\n",
       "    </tr>\n",
       "    <tr>\n",
       "      <th>25%</th>\n",
       "      <td>166833.000000</td>\n",
       "      <td>901178.000000</td>\n",
       "      <td>1.000000</td>\n",
       "      <td>0.000000</td>\n",
       "      <td>45.000000</td>\n",
       "    </tr>\n",
       "    <tr>\n",
       "      <th>50%</th>\n",
       "      <td>167158.000000</td>\n",
       "      <td>913788.000000</td>\n",
       "      <td>3.000000</td>\n",
       "      <td>69.000000</td>\n",
       "      <td>162.000000</td>\n",
       "    </tr>\n",
       "    <tr>\n",
       "      <th>75%</th>\n",
       "      <td>167799.000000</td>\n",
       "      <td>936984.000000</td>\n",
       "      <td>7.000000</td>\n",
       "      <td>479.000000</td>\n",
       "      <td>635.000000</td>\n",
       "    </tr>\n",
       "    <tr>\n",
       "      <th>max</th>\n",
       "      <td>168606.000000</td>\n",
       "      <td>973286.000000</td>\n",
       "      <td>2168.000000</td>\n",
       "      <td>33897.000000</td>\n",
       "      <td>42667.000000</td>\n",
       "    </tr>\n",
       "  </tbody>\n",
       "</table>\n",
       "</div>"
      ],
      "text/plain": [
       "             user_id    operator_id   calls_count  call_duration  \\\n",
       "count   18996.000000   12677.000000  18996.000000   18996.000000   \n",
       "mean   167286.839545  916640.924036     10.331333     518.274742   \n",
       "std       584.586453   20210.296646     52.756197    1352.130541   \n",
       "min    166377.000000  879896.000000      1.000000       0.000000   \n",
       "25%    166833.000000  901178.000000      1.000000       0.000000   \n",
       "50%    167158.000000  913788.000000      3.000000      69.000000   \n",
       "75%    167799.000000  936984.000000      7.000000     479.000000   \n",
       "max    168606.000000  973286.000000   2168.000000   33897.000000   \n",
       "\n",
       "       total_call_duration  \n",
       "count         18996.000000  \n",
       "mean            649.035850  \n",
       "std            1518.662291  \n",
       "min               0.000000  \n",
       "25%              45.000000  \n",
       "50%             162.000000  \n",
       "75%             635.000000  \n",
       "max           42667.000000  "
      ]
     },
     "execution_count": 7,
     "metadata": {},
     "output_type": "execute_result"
    }
   ],
   "source": [
    "#dataset para llamadas entrantes\n",
    "call_in = data[data['direction'] == 'in']\n",
    "call_in['is_missed_call'].value_counts()\n",
    "\n",
    "#dataset para llamadas salientes\n",
    "call_out = data[data['direction'] == 'out']\n",
    "call_out['is_missed_call'].value_counts()\n",
    "\n",
    "#Añadir la columna fecha al dataset\n",
    "call_in['fecha'] = call_in['date'].dt.date\n",
    "\n",
    "#Descripcion de los datos\n",
    "call_in.describe()"
   ]
  },
  {
   "cell_type": "code",
   "execution_count": 8,
   "metadata": {},
   "outputs": [
    {
     "data": {
      "text/plain": [
       "(754, 1092)"
      ]
     },
     "execution_count": 8,
     "metadata": {},
     "output_type": "execute_result"
    }
   ],
   "source": [
    "call_in['operator_id'].nunique(), data['operator_id'].nunique()"
   ]
  },
  {
   "cell_type": "markdown",
   "metadata": {},
   "source": [
    "### Visualizar las distribuciones: Mediante histogramas y graficos de dispersion, llamadas perdidas, duracion de la llamada y tiempo de espera"
   ]
  },
  {
   "cell_type": "code",
   "execution_count": 9,
   "metadata": {},
   "outputs": [
    {
     "data": {
      "text/html": [
       "<div>\n",
       "<style scoped>\n",
       "    .dataframe tbody tr th:only-of-type {\n",
       "        vertical-align: middle;\n",
       "    }\n",
       "\n",
       "    .dataframe tbody tr th {\n",
       "        vertical-align: top;\n",
       "    }\n",
       "\n",
       "    .dataframe thead th {\n",
       "        text-align: right;\n",
       "    }\n",
       "</style>\n",
       "<table border=\"1\" class=\"dataframe\">\n",
       "  <thead>\n",
       "    <tr style=\"text-align: right;\">\n",
       "      <th></th>\n",
       "      <th>user_id</th>\n",
       "      <th>date</th>\n",
       "      <th>direction</th>\n",
       "      <th>internal</th>\n",
       "      <th>operator_id</th>\n",
       "      <th>is_missed_call</th>\n",
       "      <th>calls_count</th>\n",
       "      <th>call_duration</th>\n",
       "      <th>total_call_duration</th>\n",
       "      <th>fecha</th>\n",
       "    </tr>\n",
       "  </thead>\n",
       "  <tbody>\n",
       "    <tr>\n",
       "      <th>0</th>\n",
       "      <td>166377</td>\n",
       "      <td>2019-08-04 00:00:00+03:00</td>\n",
       "      <td>in</td>\n",
       "      <td>False</td>\n",
       "      <td>NaN</td>\n",
       "      <td>True</td>\n",
       "      <td>2</td>\n",
       "      <td>0</td>\n",
       "      <td>4</td>\n",
       "      <td>2019-08-04</td>\n",
       "    </tr>\n",
       "    <tr>\n",
       "      <th>7</th>\n",
       "      <td>166377</td>\n",
       "      <td>2019-08-04 00:00:00+03:00</td>\n",
       "      <td>in</td>\n",
       "      <td>False</td>\n",
       "      <td>NaN</td>\n",
       "      <td>True</td>\n",
       "      <td>6</td>\n",
       "      <td>0</td>\n",
       "      <td>35</td>\n",
       "      <td>2019-08-04</td>\n",
       "    </tr>\n",
       "  </tbody>\n",
       "</table>\n",
       "</div>"
      ],
      "text/plain": [
       "   user_id                      date direction internal  operator_id  \\\n",
       "0   166377 2019-08-04 00:00:00+03:00        in    False          NaN   \n",
       "7   166377 2019-08-04 00:00:00+03:00        in    False          NaN   \n",
       "\n",
       "   is_missed_call  calls_count  call_duration  total_call_duration       fecha  \n",
       "0            True            2              0                    4  2019-08-04  \n",
       "7            True            6              0                   35  2019-08-04  "
      ]
     },
     "execution_count": 9,
     "metadata": {},
     "output_type": "execute_result"
    }
   ],
   "source": [
    "call_in.head(2)"
   ]
  },
  {
   "cell_type": "code",
   "execution_count": 10,
   "metadata": {},
   "outputs": [
    {
     "data": {
      "text/plain": [
       "<AxesSubplot:>"
      ]
     },
     "execution_count": 10,
     "metadata": {},
     "output_type": "execute_result"
    },
    {
     "data": {
      "image/png": "[encoded data removed]",
      "text/plain": [
       "<Figure size 640x480 with 1 Axes>"
      ]
     },
     "metadata": {},
     "output_type": "display_data"
    }
   ],
   "source": [
    "df_clientes['date_start'].hist()"
   ]
  },
  {
   "cell_type": "code",
   "execution_count": 11,
   "metadata": {},
   "outputs": [
    {
     "data": {
      "text/plain": [
       "(Timestamp('2019-08-01 00:00:00'), Timestamp('2019-10-31 00:00:00'))"
      ]
     },
     "execution_count": 11,
     "metadata": {},
     "output_type": "execute_result"
    }
   ],
   "source": [
    "df_clientes['date_start'].min(), df_clientes['date_start'].max()"
   ]
  },
  {
   "cell_type": "code",
   "execution_count": 12,
   "metadata": {},
   "outputs": [
    {
     "name": "stdout",
     "output_type": "stream",
     "text": [
      "Usuarios unicos en los dataset clientes y data 732 307\n"
     ]
    }
   ],
   "source": [
    "print('Usuarios unicos en los dataset clientes y data', df_clientes['user_id'].nunique(), data['user_id'].nunique())"
   ]
  },
  {
   "cell_type": "code",
   "execution_count": 13,
   "metadata": {},
   "outputs": [
    {
     "data": {
      "text/plain": [
       "1092"
      ]
     },
     "execution_count": 13,
     "metadata": {},
     "output_type": "execute_result"
    }
   ],
   "source": [
    "data['operator_id'].nunique()"
   ]
  },
  {
   "cell_type": "code",
   "execution_count": 14,
   "metadata": {},
   "outputs": [
    {
     "data": {
      "text/html": [
       "<div>\n",
       "<style scoped>\n",
       "    .dataframe tbody tr th:only-of-type {\n",
       "        vertical-align: middle;\n",
       "    }\n",
       "\n",
       "    .dataframe tbody tr th {\n",
       "        vertical-align: top;\n",
       "    }\n",
       "\n",
       "    .dataframe thead th {\n",
       "        text-align: right;\n",
       "    }\n",
       "</style>\n",
       "<table border=\"1\" class=\"dataframe\">\n",
       "  <thead>\n",
       "    <tr style=\"text-align: right;\">\n",
       "      <th></th>\n",
       "      <th>user_id</th>\n",
       "      <th>date</th>\n",
       "      <th>direction</th>\n",
       "      <th>internal</th>\n",
       "      <th>operator_id</th>\n",
       "      <th>is_missed_call</th>\n",
       "      <th>calls_count</th>\n",
       "      <th>call_duration</th>\n",
       "      <th>total_call_duration</th>\n",
       "    </tr>\n",
       "  </thead>\n",
       "  <tbody>\n",
       "    <tr>\n",
       "      <th>0</th>\n",
       "      <td>166377</td>\n",
       "      <td>2019-08-04 00:00:00+03:00</td>\n",
       "      <td>in</td>\n",
       "      <td>False</td>\n",
       "      <td>NaN</td>\n",
       "      <td>True</td>\n",
       "      <td>2</td>\n",
       "      <td>0</td>\n",
       "      <td>4</td>\n",
       "    </tr>\n",
       "    <tr>\n",
       "      <th>1</th>\n",
       "      <td>166377</td>\n",
       "      <td>2019-08-04 00:00:00+03:00</td>\n",
       "      <td>out</td>\n",
       "      <td>True</td>\n",
       "      <td>880022.0</td>\n",
       "      <td>True</td>\n",
       "      <td>3</td>\n",
       "      <td>0</td>\n",
       "      <td>5</td>\n",
       "    </tr>\n",
       "    <tr>\n",
       "      <th>2</th>\n",
       "      <td>166377</td>\n",
       "      <td>2019-08-04 00:00:00+03:00</td>\n",
       "      <td>out</td>\n",
       "      <td>True</td>\n",
       "      <td>880020.0</td>\n",
       "      <td>True</td>\n",
       "      <td>1</td>\n",
       "      <td>0</td>\n",
       "      <td>1</td>\n",
       "    </tr>\n",
       "    <tr>\n",
       "      <th>3</th>\n",
       "      <td>166377</td>\n",
       "      <td>2019-08-04 00:00:00+03:00</td>\n",
       "      <td>out</td>\n",
       "      <td>True</td>\n",
       "      <td>880020.0</td>\n",
       "      <td>False</td>\n",
       "      <td>1</td>\n",
       "      <td>10</td>\n",
       "      <td>18</td>\n",
       "    </tr>\n",
       "    <tr>\n",
       "      <th>4</th>\n",
       "      <td>166377</td>\n",
       "      <td>2019-08-04 00:00:00+03:00</td>\n",
       "      <td>out</td>\n",
       "      <td>False</td>\n",
       "      <td>880022.0</td>\n",
       "      <td>True</td>\n",
       "      <td>3</td>\n",
       "      <td>0</td>\n",
       "      <td>25</td>\n",
       "    </tr>\n",
       "  </tbody>\n",
       "</table>\n",
       "</div>"
      ],
      "text/plain": [
       "   user_id                      date direction internal  operator_id  \\\n",
       "0   166377 2019-08-04 00:00:00+03:00        in    False          NaN   \n",
       "1   166377 2019-08-04 00:00:00+03:00       out     True     880022.0   \n",
       "2   166377 2019-08-04 00:00:00+03:00       out     True     880020.0   \n",
       "3   166377 2019-08-04 00:00:00+03:00       out     True     880020.0   \n",
       "4   166377 2019-08-04 00:00:00+03:00       out    False     880022.0   \n",
       "\n",
       "   is_missed_call  calls_count  call_duration  total_call_duration  \n",
       "0            True            2              0                    4  \n",
       "1            True            3              0                    5  \n",
       "2            True            1              0                    1  \n",
       "3           False            1             10                   18  \n",
       "4            True            3              0                   25  "
      ]
     },
     "execution_count": 14,
     "metadata": {},
     "output_type": "execute_result"
    }
   ],
   "source": [
    "data.head()"
   ]
  },
  {
   "cell_type": "markdown",
   "metadata": {},
   "source": [
    "**Estamos manejando datos de un solo dia en data y de dos meses en df_clientes**"
   ]
  },
  {
   "cell_type": "code",
   "execution_count": 64,
   "metadata": {},
   "outputs": [
    {
     "data": {
      "text/plain": [
       "False    27522\n",
       "True     19675\n",
       "Name: is_missed_call, dtype: int64"
      ]
     },
     "execution_count": 64,
     "metadata": {},
     "output_type": "execute_result"
    }
   ],
   "source": [
    "#Cantidad de llamadas perdidas\n",
    "data['is_missed_call'].value_counts()"
   ]
  },
  {
   "cell_type": "markdown",
   "metadata": {},
   "source": [
    "**Conclusion:** Mas llamdas contestadas que perdidas"
   ]
  },
  {
   "cell_type": "code",
   "execution_count": 16,
   "metadata": {},
   "outputs": [
    {
     "data": {
      "text/plain": [
       "(0, 46474, 300.818526601267)"
      ]
     },
     "execution_count": 16,
     "metadata": {},
     "output_type": "execute_result"
    },
    {
     "data": {
      "image/png": "[encoded data removed]",
      "text/plain": [
       "<Figure size 640x480 with 1 Axes>"
      ]
     },
     "metadata": {},
     "output_type": "display_data"
    }
   ],
   "source": [
    "# Distribucion de los tiempos de espera\n",
    "\n",
    "data['tiempo_espera'] = data['total_call_duration'] - data['call_duration']\n",
    "data['tiempo_espera'].hist(bins=300)\n",
    "data['tiempo_espera'].min(), data['tiempo_espera'].max(), data['tiempo_espera'].mean()"
   ]
  },
  {
   "cell_type": "code",
   "execution_count": 17,
   "metadata": {},
   "outputs": [
    {
     "data": {
      "text/plain": [
       "<AxesSubplot:xlabel='tiempo_espera', ylabel='Count'>"
      ]
     },
     "execution_count": 17,
     "metadata": {},
     "output_type": "execute_result"
    },
    {
     "data": {
      "image/png": "[encoded data removed]",
      "text/plain": [
       "<Figure size 640x480 with 1 Axes>"
      ]
     },
     "metadata": {},
     "output_type": "display_data"
    }
   ],
   "source": [
    "sns.histplot(data=data, x=\"tiempo_espera\", binwidth=20)"
   ]
  },
  {
   "cell_type": "markdown",
   "metadata": {},
   "source": [
    "### Correlacion entre las variables "
   ]
  },
  {
   "cell_type": "code",
   "execution_count": 18,
   "metadata": {
    "scrolled": false
   },
   "outputs": [
    {
     "data": {
      "text/plain": [
       "<AxesSubplot:>"
      ]
     },
     "execution_count": 18,
     "metadata": {},
     "output_type": "execute_result"
    },
    {
     "data": {
      "image/png": "[encoded data removed]",
      "text/plain": [
       "<Figure size 640x480 with 2 Axes>"
      ]
     },
     "metadata": {},
     "output_type": "display_data"
    }
   ],
   "source": [
    "corr = data.corr()\n",
    "sns.heatmap(corr, annot=True, )"
   ]
  },
  {
   "cell_type": "markdown",
   "metadata": {},
   "source": [
    "**Conclusion:** \n",
    "- Existe una fuerte correlacion positiva entre el numero de llamadas y la duracion de la llamada\n",
    "- Cuando la duracion de la llamda aumenta, el tiempo de espera tambien. \n",
    "pero se identifica una mayor correlacion entre la cantidad de llamdas y el tiempo de espera."
   ]
  },
  {
   "cell_type": "markdown",
   "metadata": {},
   "source": [
    "### calcular la proporción de clientes por operadores."
   ]
  },
  {
   "cell_type": "markdown",
   "metadata": {},
   "source": [
    "**Para llamadas entrantes**"
   ]
  },
  {
   "cell_type": "code",
   "execution_count": 19,
   "metadata": {},
   "outputs": [
    {
     "data": {
      "text/plain": [
       "False    12103\n",
       "True      6893\n",
       "Name: is_missed_call, dtype: int64"
      ]
     },
     "execution_count": 19,
     "metadata": {},
     "output_type": "execute_result"
    }
   ],
   "source": [
    "#dataset para llamadas entrantes\n",
    "call_in = data[data['direction'] == 'in']\n",
    "call_in['is_missed_call'].value_counts()"
   ]
  },
  {
   "cell_type": "code",
   "execution_count": 20,
   "metadata": {},
   "outputs": [
    {
     "data": {
      "text/plain": [
       "False    15419\n",
       "True     12782\n",
       "Name: is_missed_call, dtype: int64"
      ]
     },
     "execution_count": 20,
     "metadata": {},
     "output_type": "execute_result"
    }
   ],
   "source": [
    "#dataset para llamadas salientes\n",
    "call_out = data[data['direction'] == 'out']\n",
    "call_out['is_missed_call'].value_counts()"
   ]
  },
  {
   "cell_type": "code",
   "execution_count": 21,
   "metadata": {},
   "outputs": [
    {
     "data": {
      "text/plain": [
       "out    28201\n",
       "in     18996\n",
       "Name: direction, dtype: int64"
      ]
     },
     "execution_count": 21,
     "metadata": {},
     "output_type": "execute_result"
    }
   ],
   "source": [
    "data['direction'].value_counts()"
   ]
  },
  {
   "cell_type": "code",
   "execution_count": 22,
   "metadata": {},
   "outputs": [
    {
     "name": "stdout",
     "output_type": "stream",
     "text": [
      "Número de clientes por operador:\n",
      "901884.0    309\n",
      "901880.0    283\n",
      "885876.0    279\n",
      "893804.0    271\n",
      "887276.0    259\n",
      "           ... \n",
      "930692.0      1\n",
      "956664.0      1\n",
      "905478.0      1\n",
      "932246.0      1\n",
      "891250.0      1\n",
      "Name: operator_id, Length: 1092, dtype: int64\n",
      "\n",
      "Proporción de clientes por operador:\n",
      "901884.0    0.007584\n",
      "901880.0    0.006946\n",
      "885876.0    0.006848\n",
      "893804.0    0.006652\n",
      "887276.0    0.006357\n",
      "              ...   \n",
      "930692.0    0.000025\n",
      "956664.0    0.000025\n",
      "905478.0    0.000025\n",
      "932246.0    0.000025\n",
      "891250.0    0.000025\n",
      "Name: operator_id, Length: 1092, dtype: float64\n"
     ]
    }
   ],
   "source": [
    "# Contar el número de clientes por operador\n",
    "customer_count = data['operator_id'].value_counts()\n",
    "\n",
    "# Calcular la proporción de clientes por operador\n",
    "customer_proportion = customer_count / customer_count.sum()\n",
    "\n",
    "print(\"Número de clientes por operador:\")\n",
    "print(customer_count)\n",
    "\n",
    "print(\"\\nProporción de clientes por operador:\")\n",
    "print(customer_proportion)"
   ]
  },
  {
   "cell_type": "code",
   "execution_count": 24,
   "metadata": {},
   "outputs": [
    {
     "data": {
      "text/html": [
       "<div>\n",
       "<style scoped>\n",
       "    .dataframe tbody tr th:only-of-type {\n",
       "        vertical-align: middle;\n",
       "    }\n",
       "\n",
       "    .dataframe tbody tr th {\n",
       "        vertical-align: top;\n",
       "    }\n",
       "\n",
       "    .dataframe thead th {\n",
       "        text-align: right;\n",
       "    }\n",
       "</style>\n",
       "<table border=\"1\" class=\"dataframe\">\n",
       "  <thead>\n",
       "    <tr style=\"text-align: right;\">\n",
       "      <th></th>\n",
       "      <th>user_id</th>\n",
       "      <th>date</th>\n",
       "      <th>direction</th>\n",
       "      <th>internal</th>\n",
       "      <th>operator_id</th>\n",
       "      <th>is_missed_call</th>\n",
       "      <th>calls_count</th>\n",
       "      <th>call_duration</th>\n",
       "      <th>total_call_duration</th>\n",
       "      <th>tiempo_espera</th>\n",
       "    </tr>\n",
       "  </thead>\n",
       "  <tbody>\n",
       "    <tr>\n",
       "      <th>0</th>\n",
       "      <td>166377</td>\n",
       "      <td>2019-08-04 00:00:00+03:00</td>\n",
       "      <td>in</td>\n",
       "      <td>False</td>\n",
       "      <td>NaN</td>\n",
       "      <td>True</td>\n",
       "      <td>2</td>\n",
       "      <td>0</td>\n",
       "      <td>4</td>\n",
       "      <td>4</td>\n",
       "    </tr>\n",
       "    <tr>\n",
       "      <th>1</th>\n",
       "      <td>166377</td>\n",
       "      <td>2019-08-04 00:00:00+03:00</td>\n",
       "      <td>out</td>\n",
       "      <td>True</td>\n",
       "      <td>880022.0</td>\n",
       "      <td>True</td>\n",
       "      <td>3</td>\n",
       "      <td>0</td>\n",
       "      <td>5</td>\n",
       "      <td>5</td>\n",
       "    </tr>\n",
       "    <tr>\n",
       "      <th>2</th>\n",
       "      <td>166377</td>\n",
       "      <td>2019-08-04 00:00:00+03:00</td>\n",
       "      <td>out</td>\n",
       "      <td>True</td>\n",
       "      <td>880020.0</td>\n",
       "      <td>True</td>\n",
       "      <td>1</td>\n",
       "      <td>0</td>\n",
       "      <td>1</td>\n",
       "      <td>1</td>\n",
       "    </tr>\n",
       "    <tr>\n",
       "      <th>3</th>\n",
       "      <td>166377</td>\n",
       "      <td>2019-08-04 00:00:00+03:00</td>\n",
       "      <td>out</td>\n",
       "      <td>True</td>\n",
       "      <td>880020.0</td>\n",
       "      <td>False</td>\n",
       "      <td>1</td>\n",
       "      <td>10</td>\n",
       "      <td>18</td>\n",
       "      <td>8</td>\n",
       "    </tr>\n",
       "    <tr>\n",
       "      <th>4</th>\n",
       "      <td>166377</td>\n",
       "      <td>2019-08-04 00:00:00+03:00</td>\n",
       "      <td>out</td>\n",
       "      <td>False</td>\n",
       "      <td>880022.0</td>\n",
       "      <td>True</td>\n",
       "      <td>3</td>\n",
       "      <td>0</td>\n",
       "      <td>25</td>\n",
       "      <td>25</td>\n",
       "    </tr>\n",
       "  </tbody>\n",
       "</table>\n",
       "</div>"
      ],
      "text/plain": [
       "   user_id                      date direction internal  operator_id  \\\n",
       "0   166377 2019-08-04 00:00:00+03:00        in    False          NaN   \n",
       "1   166377 2019-08-04 00:00:00+03:00       out     True     880022.0   \n",
       "2   166377 2019-08-04 00:00:00+03:00       out     True     880020.0   \n",
       "3   166377 2019-08-04 00:00:00+03:00       out     True     880020.0   \n",
       "4   166377 2019-08-04 00:00:00+03:00       out    False     880022.0   \n",
       "\n",
       "   is_missed_call  calls_count  call_duration  total_call_duration  \\\n",
       "0            True            2              0                    4   \n",
       "1            True            3              0                    5   \n",
       "2            True            1              0                    1   \n",
       "3           False            1             10                   18   \n",
       "4            True            3              0                   25   \n",
       "\n",
       "   tiempo_espera  \n",
       "0              4  \n",
       "1              5  \n",
       "2              1  \n",
       "3              8  \n",
       "4             25  "
      ]
     },
     "execution_count": 24,
     "metadata": {},
     "output_type": "execute_result"
    }
   ],
   "source": [
    "data.head()"
   ]
  },
  {
   "cell_type": "markdown",
   "metadata": {},
   "source": [
    "### Dispersion de la cantidad de llamadas"
   ]
  },
  {
   "cell_type": "code",
   "execution_count": 25,
   "metadata": {},
   "outputs": [
    {
     "data": {
      "text/plain": [
       "(array([4.6103e+04, 6.6800e+02, 1.1200e+02, 7.5000e+01, 6.0000e+01,\n",
       "        5.8000e+01, 4.0000e+01, 2.2000e+01, 1.0000e+01, 7.0000e+00,\n",
       "        1.0000e+01, 8.0000e+00, 5.0000e+00, 2.0000e+00, 5.0000e+00,\n",
       "        3.0000e+00, 1.0000e+00, 3.0000e+00, 0.0000e+00, 2.0000e+00,\n",
       "        0.0000e+00, 0.0000e+00, 1.0000e+00, 0.0000e+00, 0.0000e+00,\n",
       "        0.0000e+00, 0.0000e+00, 1.0000e+00, 0.0000e+00, 0.0000e+00,\n",
       "        0.0000e+00, 0.0000e+00, 0.0000e+00, 0.0000e+00, 0.0000e+00,\n",
       "        0.0000e+00, 0.0000e+00, 0.0000e+00, 0.0000e+00, 0.0000e+00,\n",
       "        0.0000e+00, 0.0000e+00, 0.0000e+00, 0.0000e+00, 0.0000e+00,\n",
       "        0.0000e+00, 0.0000e+00, 0.0000e+00, 0.0000e+00, 1.0000e+00]),\n",
       " array([1.00000e+00, 9.73200e+01, 1.93640e+02, 2.89960e+02, 3.86280e+02,\n",
       "        4.82600e+02, 5.78920e+02, 6.75240e+02, 7.71560e+02, 8.67880e+02,\n",
       "        9.64200e+02, 1.06052e+03, 1.15684e+03, 1.25316e+03, 1.34948e+03,\n",
       "        1.44580e+03, 1.54212e+03, 1.63844e+03, 1.73476e+03, 1.83108e+03,\n",
       "        1.92740e+03, 2.02372e+03, 2.12004e+03, 2.21636e+03, 2.31268e+03,\n",
       "        2.40900e+03, 2.50532e+03, 2.60164e+03, 2.69796e+03, 2.79428e+03,\n",
       "        2.89060e+03, 2.98692e+03, 3.08324e+03, 3.17956e+03, 3.27588e+03,\n",
       "        3.37220e+03, 3.46852e+03, 3.56484e+03, 3.66116e+03, 3.75748e+03,\n",
       "        3.85380e+03, 3.95012e+03, 4.04644e+03, 4.14276e+03, 4.23908e+03,\n",
       "        4.33540e+03, 4.43172e+03, 4.52804e+03, 4.62436e+03, 4.72068e+03,\n",
       "        4.81700e+03]),\n",
       " <BarContainer object of 50 artists>)"
      ]
     },
     "execution_count": 25,
     "metadata": {},
     "output_type": "execute_result"
    },
    {
     "data": {
      "image/png": "[encoded data removed]",
      "text/plain": [
       "<Figure size 640x480 with 1 Axes>"
      ]
     },
     "metadata": {},
     "output_type": "display_data"
    }
   ],
   "source": [
    "#Diagrama de dispersion\n",
    "plt.hist(data['calls_count'], bins=50)"
   ]
  },
  {
   "cell_type": "code",
   "execution_count": 26,
   "metadata": {},
   "outputs": [
    {
     "data": {
      "text/plain": [
       "<matplotlib.collections.PathCollection at 0x7ff71839b760>"
      ]
     },
     "execution_count": 26,
     "metadata": {},
     "output_type": "execute_result"
    },
    {
     "data": {
      "image/png": "[encoded data removed]",
      "text/plain": [
       "<Figure size 640x480 with 1 Axes>"
      ]
     },
     "metadata": {},
     "output_type": "display_data"
    }
   ],
   "source": [
    "x_values = pd.Series(range(0, len(data['calls_count'])))\n",
    "plt.scatter(x_values, data['calls_count'])"
   ]
  },
  {
   "cell_type": "code",
   "execution_count": 27,
   "metadata": {},
   "outputs": [
    {
     "name": "stdout",
     "output_type": "stream",
     "text": [
      "[  4.  64. 171.]\n"
     ]
    }
   ],
   "source": [
    "print(np.percentile(data['calls_count'], [50, 95, 99]))"
   ]
  },
  {
   "cell_type": "markdown",
   "metadata": {},
   "source": [
    "No más del 5% de los usuarios realizaron mas 64 llamadas y no más del 1% más de $171.\n",
    "\n",
    "el promedio es de 17"
   ]
  },
  {
   "cell_type": "markdown",
   "metadata": {},
   "source": [
    "### calcular los percentiles(95,99), para identificar el tiempo atipico de espera, y el numero de llamadas salientes y perdidas"
   ]
  },
  {
   "cell_type": "code",
   "execution_count": 28,
   "metadata": {},
   "outputs": [
    {
     "data": {
      "text/plain": [
       "<matplotlib.collections.PathCollection at 0x7ff71836c6d0>"
      ]
     },
     "execution_count": 28,
     "metadata": {},
     "output_type": "execute_result"
    },
    {
     "data": {
      "image/png": "[encoded data removed]",
      "text/plain": [
       "<Figure size 640x480 with 1 Axes>"
      ]
     },
     "metadata": {},
     "output_type": "display_data"
    }
   ],
   "source": [
    "x_value = pd.Series(range(0, len(data['tiempo_espera'])))\n",
    "plt.scatter(x_value, data['tiempo_espera'])"
   ]
  },
  {
   "cell_type": "code",
   "execution_count": 29,
   "metadata": {},
   "outputs": [
    {
     "name": "stdout",
     "output_type": "stream",
     "text": [
      "[  59.   1200.   3270.24]\n"
     ]
    }
   ],
   "source": [
    "print(np.percentile(data['tiempo_espera'], [50, 95, 99]))"
   ]
  },
  {
   "cell_type": "markdown",
   "metadata": {},
   "source": [
    "**Conclusion:**"
   ]
  },
  {
   "cell_type": "code",
   "execution_count": 30,
   "metadata": {},
   "outputs": [
    {
     "data": {
      "text/html": [
       "<div>\n",
       "<style scoped>\n",
       "    .dataframe tbody tr th:only-of-type {\n",
       "        vertical-align: middle;\n",
       "    }\n",
       "\n",
       "    .dataframe tbody tr th {\n",
       "        vertical-align: top;\n",
       "    }\n",
       "\n",
       "    .dataframe thead th {\n",
       "        text-align: right;\n",
       "    }\n",
       "</style>\n",
       "<table border=\"1\" class=\"dataframe\">\n",
       "  <thead>\n",
       "    <tr style=\"text-align: right;\">\n",
       "      <th></th>\n",
       "      <th>user_id</th>\n",
       "      <th>operator_id</th>\n",
       "      <th>calls_count</th>\n",
       "      <th>call_duration</th>\n",
       "      <th>total_call_duration</th>\n",
       "      <th>tiempo_espera</th>\n",
       "    </tr>\n",
       "  </thead>\n",
       "  <tbody>\n",
       "    <tr>\n",
       "      <th>count</th>\n",
       "      <td>47197.000000</td>\n",
       "      <td>40742.000000</td>\n",
       "      <td>47197.000000</td>\n",
       "      <td>47197.000000</td>\n",
       "      <td>47197.000000</td>\n",
       "      <td>47197.000000</td>\n",
       "    </tr>\n",
       "    <tr>\n",
       "      <th>mean</th>\n",
       "      <td>167299.450050</td>\n",
       "      <td>916658.887634</td>\n",
       "      <td>17.032799</td>\n",
       "      <td>899.392504</td>\n",
       "      <td>1200.211030</td>\n",
       "      <td>300.818527</td>\n",
       "    </tr>\n",
       "    <tr>\n",
       "      <th>std</th>\n",
       "      <td>599.003852</td>\n",
       "      <td>21243.446041</td>\n",
       "      <td>64.740154</td>\n",
       "      <td>3843.152137</td>\n",
       "      <td>4530.085895</td>\n",
       "      <td>1152.272269</td>\n",
       "    </tr>\n",
       "    <tr>\n",
       "      <th>min</th>\n",
       "      <td>166377.000000</td>\n",
       "      <td>879896.000000</td>\n",
       "      <td>1.000000</td>\n",
       "      <td>0.000000</td>\n",
       "      <td>0.000000</td>\n",
       "      <td>0.000000</td>\n",
       "    </tr>\n",
       "    <tr>\n",
       "      <th>25%</th>\n",
       "      <td>166800.000000</td>\n",
       "      <td>900826.000000</td>\n",
       "      <td>2.000000</td>\n",
       "      <td>0.000000</td>\n",
       "      <td>55.000000</td>\n",
       "      <td>19.000000</td>\n",
       "    </tr>\n",
       "    <tr>\n",
       "      <th>50%</th>\n",
       "      <td>167172.000000</td>\n",
       "      <td>914010.000000</td>\n",
       "      <td>4.000000</td>\n",
       "      <td>51.000000</td>\n",
       "      <td>232.000000</td>\n",
       "      <td>59.000000</td>\n",
       "    </tr>\n",
       "    <tr>\n",
       "      <th>75%</th>\n",
       "      <td>167827.000000</td>\n",
       "      <td>937732.000000</td>\n",
       "      <td>13.000000</td>\n",
       "      <td>612.000000</td>\n",
       "      <td>951.000000</td>\n",
       "      <td>211.000000</td>\n",
       "    </tr>\n",
       "    <tr>\n",
       "      <th>max</th>\n",
       "      <td>168606.000000</td>\n",
       "      <td>973286.000000</td>\n",
       "      <td>4817.000000</td>\n",
       "      <td>144395.000000</td>\n",
       "      <td>166155.000000</td>\n",
       "      <td>46474.000000</td>\n",
       "    </tr>\n",
       "  </tbody>\n",
       "</table>\n",
       "</div>"
      ],
      "text/plain": [
       "             user_id    operator_id   calls_count  call_duration  \\\n",
       "count   47197.000000   40742.000000  47197.000000   47197.000000   \n",
       "mean   167299.450050  916658.887634     17.032799     899.392504   \n",
       "std       599.003852   21243.446041     64.740154    3843.152137   \n",
       "min    166377.000000  879896.000000      1.000000       0.000000   \n",
       "25%    166800.000000  900826.000000      2.000000       0.000000   \n",
       "50%    167172.000000  914010.000000      4.000000      51.000000   \n",
       "75%    167827.000000  937732.000000     13.000000     612.000000   \n",
       "max    168606.000000  973286.000000   4817.000000  144395.000000   \n",
       "\n",
       "       total_call_duration  tiempo_espera  \n",
       "count         47197.000000   47197.000000  \n",
       "mean           1200.211030     300.818527  \n",
       "std            4530.085895    1152.272269  \n",
       "min               0.000000       0.000000  \n",
       "25%              55.000000      19.000000  \n",
       "50%             232.000000      59.000000  \n",
       "75%             951.000000     211.000000  \n",
       "max          166155.000000   46474.000000  "
      ]
     },
     "execution_count": 30,
     "metadata": {},
     "output_type": "execute_result"
    }
   ],
   "source": [
    "data.describe()"
   ]
  },
  {
   "cell_type": "code",
   "execution_count": 31,
   "metadata": {},
   "outputs": [
    {
     "data": {
      "text/plain": [
       "user_id                   0\n",
       "date                      0\n",
       "direction                 0\n",
       "internal                 49\n",
       "operator_id            6251\n",
       "is_missed_call            0\n",
       "calls_count               0\n",
       "call_duration             0\n",
       "total_call_duration       0\n",
       "tiempo_espera             0\n",
       "dtype: int64"
      ]
     },
     "execution_count": 31,
     "metadata": {},
     "output_type": "execute_result"
    }
   ],
   "source": [
    "# dataset solo para llamdas entrantes perdidas\n",
    "call_in_per = call_in[call_in['is_missed_call'] == True]\n",
    "call_in_per.isna().sum()"
   ]
  },
  {
   "cell_type": "markdown",
   "metadata": {},
   "source": [
    "**Conclusion:** Las llamadas entrantes perdidas, son 6893 de las cuales 6251 no tienen un operador asignado lo que se da a entender que la mayoria de llamdas perdidas entrantes es por que no se le asigna un operador"
   ]
  },
  {
   "cell_type": "code",
   "execution_count": null,
   "metadata": {},
   "outputs": [],
   "source": [
    "Con las 642 llamadas entrantes perdidas, con operador asignado vamos a trabajar."
   ]
  },
  {
   "cell_type": "code",
   "execution_count": null,
   "metadata": {},
   "outputs": [],
   "source": []
  },
  {
   "cell_type": "code",
   "execution_count": 65,
   "metadata": {},
   "outputs": [],
   "source": [
    "# Determinar la cantidad de llamadas entrantes perdidas para cada operador \n",
    "\n",
    "llamad_entr_perdidas = (\n",
    "    call_in_per.drop(['user_id', 'date', 'direction', 'internal', 'is_missed_call', 'total_call_duration', 'tiempo_espera'], axis=1)\n",
    "    .groupby('operator_id', as_index=False)\n",
    "    .agg({'calls_count': 'sum'})\n",
    ")\n",
    "\n",
    "llamad_entr_perdidas.columns = ['operador_id', 'cant_llamadas_perd']\n"
   ]
  },
  {
   "cell_type": "code",
   "execution_count": 66,
   "metadata": {},
   "outputs": [
    {
     "data": {
      "text/plain": [
       "(array([199.,  20.,   6.,   7.,   4.,   0.,   2.,   0.,   0.,   1.]),\n",
       " array([ 1. ,  5.5, 10. , 14.5, 19. , 23.5, 28. , 32.5, 37. , 41.5, 46. ]),\n",
       " <BarContainer object of 10 artists>)"
      ]
     },
     "execution_count": 66,
     "metadata": {},
     "output_type": "execute_result"
    },
    {
     "data": {
      "image/png": "[encoded data removed]",
      "text/plain": [
       "<Figure size 640x480 with 1 Axes>"
      ]
     },
     "metadata": {},
     "output_type": "display_data"
    }
   ],
   "source": [
    "plt.hist(llamad_entr_perdidas['cant_llamadas_perd'])"
   ]
  },
  {
   "cell_type": "code",
   "execution_count": 67,
   "metadata": {},
   "outputs": [
    {
     "data": {
      "text/plain": [
       "<matplotlib.collections.PathCollection at 0x7ff7107159a0>"
      ]
     },
     "execution_count": 67,
     "metadata": {},
     "output_type": "execute_result"
    },
    {
     "data": {
      "image/png": "[encoded data removed]",
      "text/plain": [
       "<Figure size 640x480 with 1 Axes>"
      ]
     },
     "metadata": {},
     "output_type": "display_data"
    }
   ],
   "source": [
    "#Diagrama de dispersion para las llamadas perdidas\n",
    "x_valu = pd.Series(range(0,len(llamad_entr_perdidas)))\n",
    "\n",
    "plt.scatter(x_valu, llamad_entr_perdidas['cant_llamadas_perd'])"
   ]
  },
  {
   "cell_type": "code",
   "execution_count": 68,
   "metadata": {},
   "outputs": [
    {
     "name": "stdout",
     "output_type": "stream",
     "text": [
      "[ 9.   15.1  26.72]\n"
     ]
    }
   ],
   "source": [
    "print(np.percentile(llamad_entr_perdidas['cant_llamadas_perd'], [90, 95, 99]))"
   ]
  },
  {
   "cell_type": "markdown",
   "metadata": {},
   "source": [
    "**Conclusion:** Determinamos que los operadores con mas de 15 llamadas perdidas, se consideraran ineficaces."
   ]
  },
  {
   "cell_type": "markdown",
   "metadata": {},
   "source": [
    "<div class=\"alert alert-block alert-warning\">\n",
    "<b>Comentario del revisor</b> <a class=\"tocSkip\"></a>\n",
    "\n",
    "El análisis de la proporción de clientes por operador y la distribución de las llamadas perdidas está bien planteado, pero hay un error significativo en el uso de los gráficos de dispersión. Estos gráficos deben utilizarse para mostrar la relación entre dos variables continuas, mientras que aquí estás usando el índice del registro como el eje X, lo cual no tiene relevancia analítica. Esto puede llevar a interpretaciones incorrectas.\n",
    "\n",
    "Te sugiero que sustituyas estos gráficos por opciones más apropiadas, como histogramas o diagramas de caja, que permitirán visualizar mejor la distribución de las llamadas perdidas o el tiempo de espera por operador. De esta manera, tu análisis será más preciso y comprensible.\n",
    "\n",
    "¡Sigue adelante y ajusta las visualizaciones para que reflejen mejor tus hallazgos!\n",
    "</div>\n"
   ]
  },
  {
   "cell_type": "markdown",
   "metadata": {},
   "source": [
    "### Identificar operadores ineficientes en cuando al tiempo de espera y calcular percentiles"
   ]
  },
  {
   "cell_type": "code",
   "execution_count": 34,
   "metadata": {},
   "outputs": [
    {
     "data": {
      "text/plain": [
       "user_id                 0\n",
       "date                    0\n",
       "direction               0\n",
       "internal               54\n",
       "operator_id            68\n",
       "is_missed_call          0\n",
       "calls_count             0\n",
       "call_duration           0\n",
       "total_call_duration     0\n",
       "tiempo_espera           0\n",
       "dtype: int64"
      ]
     },
     "execution_count": 34,
     "metadata": {},
     "output_type": "execute_result"
    }
   ],
   "source": [
    "#Filtramos para llamadas entrantes contestadas\n",
    "\n",
    "call_in_conts = call_in[call_in['is_missed_call'] == False]\n",
    "call_in_conts.isna().sum()"
   ]
  },
  {
   "cell_type": "code",
   "execution_count": 35,
   "metadata": {},
   "outputs": [
    {
     "data": {
      "text/html": [
       "<div>\n",
       "<style scoped>\n",
       "    .dataframe tbody tr th:only-of-type {\n",
       "        vertical-align: middle;\n",
       "    }\n",
       "\n",
       "    .dataframe tbody tr th {\n",
       "        vertical-align: top;\n",
       "    }\n",
       "\n",
       "    .dataframe thead th {\n",
       "        text-align: right;\n",
       "    }\n",
       "</style>\n",
       "<table border=\"1\" class=\"dataframe\">\n",
       "  <thead>\n",
       "    <tr style=\"text-align: right;\">\n",
       "      <th></th>\n",
       "      <th>user_id</th>\n",
       "      <th>date</th>\n",
       "      <th>direction</th>\n",
       "      <th>internal</th>\n",
       "      <th>operator_id</th>\n",
       "      <th>is_missed_call</th>\n",
       "      <th>calls_count</th>\n",
       "      <th>call_duration</th>\n",
       "      <th>total_call_duration</th>\n",
       "      <th>tiempo_espera</th>\n",
       "    </tr>\n",
       "  </thead>\n",
       "  <tbody>\n",
       "    <tr>\n",
       "      <th>698</th>\n",
       "      <td>166399</td>\n",
       "      <td>2019-08-04 00:00:00+03:00</td>\n",
       "      <td>in</td>\n",
       "      <td>False</td>\n",
       "      <td>NaN</td>\n",
       "      <td>False</td>\n",
       "      <td>1</td>\n",
       "      <td>10</td>\n",
       "      <td>55</td>\n",
       "      <td>45</td>\n",
       "    </tr>\n",
       "    <tr>\n",
       "      <th>704</th>\n",
       "      <td>166399</td>\n",
       "      <td>2019-08-04 00:00:00+03:00</td>\n",
       "      <td>in</td>\n",
       "      <td>False</td>\n",
       "      <td>NaN</td>\n",
       "      <td>False</td>\n",
       "      <td>1</td>\n",
       "      <td>68</td>\n",
       "      <td>115</td>\n",
       "      <td>47</td>\n",
       "    </tr>\n",
       "    <tr>\n",
       "      <th>1924</th>\n",
       "      <td>166406</td>\n",
       "      <td>2019-08-04 00:00:00+03:00</td>\n",
       "      <td>in</td>\n",
       "      <td>NaN</td>\n",
       "      <td>879898.0</td>\n",
       "      <td>False</td>\n",
       "      <td>1</td>\n",
       "      <td>2</td>\n",
       "      <td>9</td>\n",
       "      <td>7</td>\n",
       "    </tr>\n",
       "    <tr>\n",
       "      <th>4136</th>\n",
       "      <td>166503</td>\n",
       "      <td>2019-08-04 00:00:00+03:00</td>\n",
       "      <td>in</td>\n",
       "      <td>False</td>\n",
       "      <td>NaN</td>\n",
       "      <td>False</td>\n",
       "      <td>1</td>\n",
       "      <td>374</td>\n",
       "      <td>405</td>\n",
       "      <td>31</td>\n",
       "    </tr>\n",
       "    <tr>\n",
       "      <th>6210</th>\n",
       "      <td>166541</td>\n",
       "      <td>2019-08-04 00:00:00+03:00</td>\n",
       "      <td>in</td>\n",
       "      <td>NaN</td>\n",
       "      <td>908960.0</td>\n",
       "      <td>False</td>\n",
       "      <td>1</td>\n",
       "      <td>393</td>\n",
       "      <td>423</td>\n",
       "      <td>30</td>\n",
       "    </tr>\n",
       "    <tr>\n",
       "      <th>...</th>\n",
       "      <td>...</td>\n",
       "      <td>...</td>\n",
       "      <td>...</td>\n",
       "      <td>...</td>\n",
       "      <td>...</td>\n",
       "      <td>...</td>\n",
       "      <td>...</td>\n",
       "      <td>...</td>\n",
       "      <td>...</td>\n",
       "      <td>...</td>\n",
       "    </tr>\n",
       "    <tr>\n",
       "      <th>50946</th>\n",
       "      <td>168252</td>\n",
       "      <td>2019-08-04 00:00:00+03:00</td>\n",
       "      <td>in</td>\n",
       "      <td>False</td>\n",
       "      <td>NaN</td>\n",
       "      <td>False</td>\n",
       "      <td>45</td>\n",
       "      <td>23765</td>\n",
       "      <td>23897</td>\n",
       "      <td>132</td>\n",
       "    </tr>\n",
       "    <tr>\n",
       "      <th>51021</th>\n",
       "      <td>168253</td>\n",
       "      <td>2019-08-04 00:00:00+03:00</td>\n",
       "      <td>in</td>\n",
       "      <td>NaN</td>\n",
       "      <td>952948.0</td>\n",
       "      <td>False</td>\n",
       "      <td>2</td>\n",
       "      <td>61</td>\n",
       "      <td>63</td>\n",
       "      <td>2</td>\n",
       "    </tr>\n",
       "    <tr>\n",
       "      <th>51505</th>\n",
       "      <td>168307</td>\n",
       "      <td>2019-08-04 00:00:00+03:00</td>\n",
       "      <td>in</td>\n",
       "      <td>NaN</td>\n",
       "      <td>945046.0</td>\n",
       "      <td>False</td>\n",
       "      <td>1</td>\n",
       "      <td>745</td>\n",
       "      <td>748</td>\n",
       "      <td>3</td>\n",
       "    </tr>\n",
       "    <tr>\n",
       "      <th>51680</th>\n",
       "      <td>168336</td>\n",
       "      <td>2019-08-04 00:00:00+03:00</td>\n",
       "      <td>in</td>\n",
       "      <td>False</td>\n",
       "      <td>NaN</td>\n",
       "      <td>False</td>\n",
       "      <td>1</td>\n",
       "      <td>169</td>\n",
       "      <td>174</td>\n",
       "      <td>5</td>\n",
       "    </tr>\n",
       "    <tr>\n",
       "      <th>53799</th>\n",
       "      <td>168598</td>\n",
       "      <td>2019-08-04 00:00:00+03:00</td>\n",
       "      <td>in</td>\n",
       "      <td>NaN</td>\n",
       "      <td>958394.0</td>\n",
       "      <td>False</td>\n",
       "      <td>1</td>\n",
       "      <td>11</td>\n",
       "      <td>17</td>\n",
       "      <td>6</td>\n",
       "    </tr>\n",
       "  </tbody>\n",
       "</table>\n",
       "<p>122 rows × 10 columns</p>\n",
       "</div>"
      ],
      "text/plain": [
       "       user_id                      date direction internal  operator_id  \\\n",
       "698     166399 2019-08-04 00:00:00+03:00        in    False          NaN   \n",
       "704     166399 2019-08-04 00:00:00+03:00        in    False          NaN   \n",
       "1924    166406 2019-08-04 00:00:00+03:00        in      NaN     879898.0   \n",
       "4136    166503 2019-08-04 00:00:00+03:00        in    False          NaN   \n",
       "6210    166541 2019-08-04 00:00:00+03:00        in      NaN     908960.0   \n",
       "...        ...                       ...       ...      ...          ...   \n",
       "50946   168252 2019-08-04 00:00:00+03:00        in    False          NaN   \n",
       "51021   168253 2019-08-04 00:00:00+03:00        in      NaN     952948.0   \n",
       "51505   168307 2019-08-04 00:00:00+03:00        in      NaN     945046.0   \n",
       "51680   168336 2019-08-04 00:00:00+03:00        in    False          NaN   \n",
       "53799   168598 2019-08-04 00:00:00+03:00        in      NaN     958394.0   \n",
       "\n",
       "       is_missed_call  calls_count  call_duration  total_call_duration  \\\n",
       "698             False            1             10                   55   \n",
       "704             False            1             68                  115   \n",
       "1924            False            1              2                    9   \n",
       "4136            False            1            374                  405   \n",
       "6210            False            1            393                  423   \n",
       "...               ...          ...            ...                  ...   \n",
       "50946           False           45          23765                23897   \n",
       "51021           False            2             61                   63   \n",
       "51505           False            1            745                  748   \n",
       "51680           False            1            169                  174   \n",
       "53799           False            1             11                   17   \n",
       "\n",
       "       tiempo_espera  \n",
       "698               45  \n",
       "704               47  \n",
       "1924               7  \n",
       "4136              31  \n",
       "6210              30  \n",
       "...              ...  \n",
       "50946            132  \n",
       "51021              2  \n",
       "51505              3  \n",
       "51680              5  \n",
       "53799              6  \n",
       "\n",
       "[122 rows x 10 columns]"
      ]
     },
     "execution_count": 35,
     "metadata": {},
     "output_type": "execute_result"
    }
   ],
   "source": [
    "call_in_conts[call_in_conts.isnull().any(axis=1)]"
   ]
  },
  {
   "cell_type": "code",
   "execution_count": 36,
   "metadata": {},
   "outputs": [
    {
     "name": "stdout",
     "output_type": "stream",
     "text": [
      "     operador_id  tiempo_espera  cantidad_llamadas\n",
      "335     919790.0          52875               1578\n",
      "288     913938.0          40413               4752\n",
      "334     919554.0          37848               1171\n",
      "333     919552.0          37022               1088\n",
      "445     931458.0          35049               2066\n",
      "..           ...            ...                ...\n",
      "662     952114.0              3                  1\n",
      "64      891948.0              3                  1\n",
      "674     952954.0              2                  2\n",
      "582     940828.0              2                  1\n",
      "636     948282.0              1                  1\n",
      "\n",
      "[753 rows x 3 columns]\n"
     ]
    }
   ],
   "source": [
    "callByOperation = (\n",
    "    call_in_conts.drop(['user_id', 'date', 'direction', 'internal', 'is_missed_call', 'total_call_duration'], axis=1)\n",
    "    .groupby('operator_id', as_index=False)\n",
    "    .agg({'tiempo_espera': 'sum', 'calls_count': 'sum'})\n",
    ")\n",
    "\n",
    "callByOperation.columns = ['operador_id', 'tiempo_espera', 'cantidad_llamadas']\n",
    "\n",
    "print(callByOperation.sort_values(by='tiempo_espera', ascending=False))"
   ]
  },
  {
   "cell_type": "code",
   "execution_count": 37,
   "metadata": {},
   "outputs": [
    {
     "data": {
      "text/plain": [
       "(array([696.,  35.,  10.,   2.,   2.,   1.,   3.,   3.,   0.,   1.]),\n",
       " array([1.00000e+00, 5.28840e+03, 1.05758e+04, 1.58632e+04, 2.11506e+04,\n",
       "        2.64380e+04, 3.17254e+04, 3.70128e+04, 4.23002e+04, 4.75876e+04,\n",
       "        5.28750e+04]),\n",
       " <BarContainer object of 10 artists>)"
      ]
     },
     "execution_count": 37,
     "metadata": {},
     "output_type": "execute_result"
    },
    {
     "data": {
      "image/png": "[encoded data removed]",
      "text/plain": [
       "<Figure size 640x480 with 1 Axes>"
      ]
     },
     "metadata": {},
     "output_type": "display_data"
    }
   ],
   "source": [
    "plt.hist(callByOperation['tiempo_espera'])"
   ]
  },
  {
   "cell_type": "code",
   "execution_count": 38,
   "metadata": {},
   "outputs": [
    {
     "data": {
      "text/plain": [
       "<matplotlib.collections.PathCollection at 0x7ff710895dc0>"
      ]
     },
     "execution_count": 38,
     "metadata": {},
     "output_type": "execute_result"
    },
    {
     "data": {
      "image/png": "[encoded data removed]",
      "text/plain": [
       "<Figure size 640x480 with 1 Axes>"
      ]
     },
     "metadata": {},
     "output_type": "display_data"
    }
   ],
   "source": [
    "#Diagrama de dispersion para el tiempo de espera\n",
    "x_valu = pd.Series(range(0,len(callByOperation)))\n",
    "\n",
    "plt.scatter(x_valu, callByOperation['tiempo_espera'])"
   ]
  },
  {
   "cell_type": "code",
   "execution_count": 39,
   "metadata": {},
   "outputs": [
    {
     "name": "stdout",
     "output_type": "stream",
     "text": [
      "[ 3992.    7093.8  27322.44]\n"
     ]
    }
   ],
   "source": [
    "print(np.percentile(callByOperation['tiempo_espera'], [90, 95, 99]))"
   ]
  },
  {
   "cell_type": "markdown",
   "metadata": {},
   "source": [
    "**Conclusion:** \n",
    "- El 10% tiene un tiempo de espera superior a 3992.\n",
    "- el 5% de los operadores tiene un tiempo de espera mayor a 7093\n",
    "- El 1% de los operadores tiene un tiempo de espera mayor a 27322.44\n",
    "\n",
    "Se define que cada operador que tarde mas de 3993 segundos en espera en una sola llamada, se considerara un operador ineficaz"
   ]
  },
  {
   "cell_type": "code",
   "execution_count": 40,
   "metadata": {},
   "outputs": [],
   "source": [
    "#Definimos la proporcion entre el tiempo de espera por llamada de cada operador\n",
    "callByOperation['proporcion'] = callByOperation['tiempo_espera'] / callByOperation['cantidad_llamadas']"
   ]
  },
  {
   "cell_type": "code",
   "execution_count": 41,
   "metadata": {},
   "outputs": [
    {
     "data": {
      "text/plain": [
       "<matplotlib.collections.PathCollection at 0x7ff7107fd160>"
      ]
     },
     "execution_count": 41,
     "metadata": {},
     "output_type": "execute_result"
    },
    {
     "data": {
      "image/png": "[encoded data removed]",
      "text/plain": [
       "<Figure size 640x480 with 1 Axes>"
      ]
     },
     "metadata": {},
     "output_type": "display_data"
    }
   ],
   "source": [
    "#Diagrama de dispersion para el tiempo de espera proporcion\n",
    "valu = pd.Series(range(0,len(callByOperation)))\n",
    "\n",
    "plt.scatter(valu, callByOperation['proporcion'])"
   ]
  },
  {
   "cell_type": "code",
   "execution_count": 42,
   "metadata": {},
   "outputs": [
    {
     "name": "stdout",
     "output_type": "stream",
     "text": [
      "[33.67333333 41.5        55.4       ]\n"
     ]
    }
   ],
   "source": [
    "print(np.percentile(callByOperation['proporcion'], [90, 95, 99]))"
   ]
  },
  {
   "cell_type": "markdown",
   "metadata": {},
   "source": [
    "**Conclusión:** el 5% de los operadores tardan mas de 41.5 segundos en responder, por lo que tomaremos ese percentil para definir que un operador ineficaz es el que se demora mas de 41 segundos en responder cada llamada."
   ]
  },
  {
   "cell_type": "markdown",
   "metadata": {},
   "source": [
    "<div class=\"alert alert-block alert-success\">\n",
    "<b>Comentario del revisor</b> <a class=\"tocSkip\"></a>\n",
    "\n",
    "Has identificado operadores ineficaces de manera clara utilizando percentiles, lo cual es un enfoque adecuado. La definición de umbrales, como los 3993 segundos y los 41 segundos por llamada, está bien fundamentada. Buen uso de gráficos para ilustrar la distribución del tiempo de espera.\n",
    "\n",
    "Considera explicar brevemente cómo manejarás los valores nulos en `internal` y `operator_id` o justificar si decides no hacerlo. ¡Gran trabajo en esta sección!\n",
    "</div>\n"
   ]
  },
  {
   "cell_type": "markdown",
   "metadata": {},
   "source": [
    "## Hipotesis"
   ]
  },
  {
   "cell_type": "markdown",
   "metadata": {},
   "source": [
    "### \"Los operadores con mas cantidad de llamadas contestadas tienden a realizar menos llamadas\""
   ]
  },
  {
   "cell_type": "code",
   "execution_count": 53,
   "metadata": {},
   "outputs": [
    {
     "data": {
      "text/html": [
       "<div>\n",
       "<style scoped>\n",
       "    .dataframe tbody tr th:only-of-type {\n",
       "        vertical-align: middle;\n",
       "    }\n",
       "\n",
       "    .dataframe tbody tr th {\n",
       "        vertical-align: top;\n",
       "    }\n",
       "\n",
       "    .dataframe thead th {\n",
       "        text-align: right;\n",
       "    }\n",
       "</style>\n",
       "<table border=\"1\" class=\"dataframe\">\n",
       "  <thead>\n",
       "    <tr style=\"text-align: right;\">\n",
       "      <th></th>\n",
       "      <th>operador_id</th>\n",
       "      <th>cant_llamadas_conts</th>\n",
       "      <th>cant_llamadas_realiz</th>\n",
       "    </tr>\n",
       "  </thead>\n",
       "  <tbody>\n",
       "    <tr>\n",
       "      <th>0</th>\n",
       "      <td>879896.0</td>\n",
       "      <td>58</td>\n",
       "      <td>870</td>\n",
       "    </tr>\n",
       "    <tr>\n",
       "      <th>1</th>\n",
       "      <td>879898.0</td>\n",
       "      <td>104</td>\n",
       "      <td>7201</td>\n",
       "    </tr>\n",
       "  </tbody>\n",
       "</table>\n",
       "</div>"
      ],
      "text/plain": [
       "   operador_id  cant_llamadas_conts  cant_llamadas_realiz\n",
       "0     879896.0                   58                   870\n",
       "1     879898.0                  104                  7201"
      ]
     },
     "execution_count": 53,
     "metadata": {},
     "output_type": "execute_result"
    }
   ],
   "source": [
    "#Cantidad de llamadas contestadas y cantidad de llamadas realizadas\n",
    "llamadas_contestadas = (\n",
    "    call_in_conts.drop(['user_id', 'date', 'direction', 'internal', 'is_missed_call', 'total_call_duration', 'tiempo_espera'], axis=1)\n",
    "    .groupby('operator_id', as_index=False)\n",
    "    .agg({'calls_count': 'sum'})\n",
    ")\n",
    "\n",
    "llamadas_contestadas.columns = ['operador_id', 'cant_llamadas_conts']\n",
    "\n",
    "# llamadas realizadas\n",
    "llamadas_realizadas = (\n",
    "    call_out.drop(['user_id', 'date', 'direction', 'internal', 'is_missed_call', 'total_call_duration', 'tiempo_espera'], axis=1)\n",
    "    .groupby('operator_id', as_index=False)\n",
    "    .agg({'calls_count': 'sum'})\n",
    ")\n",
    "\n",
    "llamadas_realizadas.columns = ['operador_id', 'cant_llamadas_realiz']\n",
    "\n",
    "#Unimos los df\n",
    "\n",
    "df_unido = llamadas_contestadas.merge(llamadas_realizadas, on='operador_id')\n",
    "df_unido.head(2)"
   ]
  },
  {
   "cell_type": "code",
   "execution_count": 56,
   "metadata": {},
   "outputs": [
    {
     "name": "stdout",
     "output_type": "stream",
     "text": [
      "Coeficiente de correlación de Pearson: 0.19787910332745287\n",
      "Valor p: 3.3770230475592894e-06\n",
      "Existe una relación significativa entre la cantidad de llamadas contestadas y las llamadas realizadas.\n"
     ]
    }
   ],
   "source": [
    "# Calcular la correlación de Pearson \n",
    "correlation, p_value = pearsonr(df_unido['cant_llamadas_conts'], df_unido['cant_llamadas_realiz']) \n",
    "print(f\"Coeficiente de correlación de Pearson: {correlation}\") \n",
    "print(f\"Valor p: {p_value}\") \n",
    "\n",
    "# Interpretación de los resultados \n",
    "if p_value < 0.05: print(\"Existe una relación significativa entre la cantidad de llamadas contestadas y las llamadas realizadas.\") \n",
    "else: print(\"No hay evidencia suficiente para concluir que existe una relación significativa.\")"
   ]
  },
  {
   "cell_type": "markdown",
   "metadata": {},
   "source": [
    "<div class=\"alert alert-block alert-success\">\n",
    "<b>Comentario del revisor</b> <a class=\"tocSkip\"></a>\n",
    "\n",
    "Has implementado correctamente la prueba de hipótesis utilizando la correlación de Pearson para evaluar la relación entre las llamadas contestadas y las llamadas realizadas por operador. El coeficiente de correlación de 0.198 y el valor p muy bajo indican una relación significativa, aunque la correlación es débil. Sería útil interpretar el posible significado de esta relación débil: ¿podría haber otros factores influyendo en esta dinámica? Además, podrías considerar explorar más contextos o hipótesis adicionales para fortalecer el análisis.\n",
    "</div>\n"
   ]
  },
  {
   "cell_type": "markdown",
   "metadata": {},
   "source": [
    "### \"Los operadores con tiempos de espera más largos tienden a tener más llamadas perdidas."
   ]
  },
  {
   "cell_type": "code",
   "execution_count": 57,
   "metadata": {},
   "outputs": [],
   "source": [
    "#Calcular tiempo de espera por operador\n",
    "tiempo_espera_operador = (\n",
    "    call_in_conts.drop(['user_id', 'date', 'direction', 'internal', 'is_missed_call', 'total_call_duration', 'calls_count'], axis=1)\n",
    "    .groupby('operator_id', as_index=False)\n",
    "    .agg({'tiempo_espera': 'sum'})\n",
    ")\n",
    "\n",
    "tiempo_espera_operador.columns = ['operador_id', 'tiempo_espera']\n",
    "\n",
    "# Calcular cantidad de llamadas perdidas por operador\n",
    "#Filtrar el dataset\n",
    "call_in_perd = call_in[call_in['is_missed_call'] == True]\n",
    "llamadas_per_operador = (\n",
    "    call_in_perd.drop(['user_id', 'date', 'direction', 'internal', 'is_missed_call', 'total_call_duration', 'tiempo_espera'], axis=1)\n",
    "    .groupby('operator_id', as_index=False)\n",
    "    .agg({'calls_count': 'sum'})\n",
    ")\n",
    "\n",
    "llamadas_per_operador.columns = ['operador_id', 'cant_llamadas_per']\n"
   ]
  },
  {
   "cell_type": "code",
   "execution_count": 62,
   "metadata": {},
   "outputs": [],
   "source": [
    "#Unir los df\n",
    "df_uni = tiempo_espera_operador.merge(llamadas_per_operador, on='operador_id')\n"
   ]
  },
  {
   "cell_type": "code",
   "execution_count": 63,
   "metadata": {},
   "outputs": [
    {
     "name": "stdout",
     "output_type": "stream",
     "text": [
      "Coeficiente de correlación de Pearson: 0.36677010028080115\n",
      "Valor p: 5.443777667528006e-09\n",
      "Existe una relación significativa entre el tiempo de espera y el número de llamadas perdidas.\n"
     ]
    }
   ],
   "source": [
    "# Calcular la correlación de Pearson \n",
    "correlation, p_value = pearsonr(df_uni['tiempo_espera'], df_uni['cant_llamadas_per']) \n",
    "print(f\"Coeficiente de correlación de Pearson: {correlation}\") \n",
    "print(f\"Valor p: {p_value}\") \n",
    "\n",
    "# Interpretación de los resultados \n",
    "if p_value < 0.05: print(\"Existe una relación significativa entre el tiempo de espera y el número de llamadas perdidas.\") \n",
    "else: print(\"No hay evidencia suficiente para concluir que existe una relación significativa.\")"
   ]
  },
  {
   "cell_type": "markdown",
   "metadata": {},
   "source": [
    "<div class=\"alert alert-block alert-success\">\n",
    "<b>Comentario del revisor</b> <a class=\"tocSkip\"></a>\n",
    "\n",
    "La segunda hipótesis está bien respaldada con una correlación positiva moderada (0.367) y un valor p extremadamente bajo, indicando una relación significativa entre el tiempo de espera y las llamadas perdidas. Este hallazgo es relevante y podría tener importantes implicaciones operativas. Te sugiero profundizar en cómo esta relación podría guiar las acciones correctivas, como la mejora de la eficiencia de los operadores. También podrías incluir una breve discusión sobre la variabilidad y si ciertas condiciones pueden amplificar esta relación.\n",
    "</div>\n"
   ]
  },
  {
   "cell_type": "markdown",
   "metadata": {},
   "source": [
    "## Conclusiones"
   ]
  },
  {
   "cell_type": "markdown",
   "metadata": {},
   "source": [
    "- Determinamos que los operadores con mas de 15 llamadas perdidas, se consideraran ineficaces.\n",
    "- Se define que cada operador que tarde mas de 3993 segundos en espera en una sola llamada, se considerara un operador ineficaz.\n",
    "- El 5% de los operadores tardan mas de 41.5 segundos en responder, por lo que tomaremos ese percentil para definir que un operador ineficaz es el que se demora mas de 41 segundos en tiempo de espera de cada llamada.\n",
    "\n",
    "Hipotesis:\n",
    "\n",
    "Si existe una relacion significativa en las dos hipotesis.\n",
    "- Los operadores con mas cantidad de llamadas contestadas tienden a realizar menos llamadas.\n",
    "- Los operadores con tiempos de espera más largos tienden a tener más llamadas perdidas"
   ]
  },
  {
   "cell_type": "markdown",
   "metadata": {},
   "source": [
    "<div class=\"alert alert-block alert-warning\">\n",
    "<b>Comentario del revisor</b> <a class=\"tocSkip\"></a>\n",
    "\n",
    "<b>Atención</b> ⚠️ - Para mejorar la claridad y profundidad de tus conclusiones finales, considera las siguientes pautas:\n",
    "\n",
    "<ul>\n",
    "    <li><b>Resumen de los Hallazgos Clave:</b> Incluye brevemente tus descubrimientos más importantes.</li>\n",
    "    <li><b>Impacto de tus Elecciones de Procesamiento de Datos:</b> Reflexiona sobre cómo tus decisiones influyeron en los resultados.</li>\n",
    "    <li><b>Relación con los Objetivos Iniciales:</b> Vincula tus hallazgos con los objetivos del proyecto.</li>\n",
    "    <li><b>Relevancia de los Hallazgos:</b> Discute la importancia de tus resultados para la empresa o usuarios.</li>\n",
    "    <li><b>Sugerencias y Recomendaciones:</b> Ofrece cualquier consejo basado en tus análisis.</li>\n",
    "    <li><b>Reflexiones Finales:</b> Concluye con tus pensamientos finales y aprendizajes del proyecto.</li>\n",
    "</ul>\n",
    "\n",
    "Recuerda que una conclusión efectiva resume tus hallazgos y proporciona insights y reflexiones sobre su impacto y relevancia. ¡Sigue así y éxito en la etapa final!\n",
    "</div>"
   ]
  },
  {
   "cell_type": "markdown",
   "metadata": {},
   "source": [
    "# Comentario del Revisor"
   ]
  },
  {
   "cell_type": "markdown",
   "metadata": {},
   "source": [
    "<div class=\"alert alert-block alert-success\">\n",
    "<b>Comentario del revisor</b> <a class=\"tocSkip\"></a>\n",
    "\n",
    "¡Excelente trabajo en tu análisis detallado del desempeño de los operadores en el servicio de telefonía virtual CallMeMaybe! Tu proyecto abarca un enfoque integral desde el preprocesamiento de datos hasta la comprobación de hipótesis, lo cual es crucial para identificar la ineficacia operativa.\n",
    "\n",
    "### Puntos fuertes:\n",
    "- **Objetivo claro**: Has definido claramente qué se considera un operador ineficaz y los criterios que utilizas, como llamadas perdidas y tiempos de espera.\n",
    "- **Preprocesamiento exhaustivo**: Identificaste y manejaste duplicados y convertiste las fechas correctamente, lo que muestra un buen manejo del preprocesamiento.\n",
    "- **Análisis descriptivo y visualizaciones**: Los histogramas y gráficos de dispersión son útiles para visualizar distribuciones y entender patrones en los datos.\n",
    "- **Uso de estadística**: Aplicaste adecuadamente la correlación de Pearson para evaluar las relaciones entre variables importantes, y proporcionaste interpretaciones claras.\n",
    "\n",
    "### Áreas de mejora:\n",
    "1. **Claridad y estructura**: Puedes mejorar la estructura del análisis dividiendo el contenido en secciones más detalladas con subtítulos claros para facilitar la lectura. Por ejemplo, podrías tener una sección dedicada a “Identificación de operadores ineficaces” y otra a “Pruebas de hipótesis”.\n",
    "2. **Explicación de criterios**: Aunque defines los operadores ineficaces basándote en ciertos umbrales (15 llamadas perdidas, 3993 segundos de espera, y 41 segundos de tiempo de respuesta), podrías justificar mejor estos umbrales explicando por qué fueron seleccionados o cómo afectan el desempeño general.\n",
    "3. **Interpretación de resultados**: Aunque el uso de correlaciones es correcto, sería útil profundizar en la interpretación de los resultados, especialmente si la relación encontrada es débil o moderada. ¿Qué implicaciones tiene para la operativa de la empresa?\n",
    "4. **Limitaciones y recomendaciones**: Considera agregar una sección sobre las limitaciones del estudio, como la disponibilidad de datos solo para un día en el dataset principal o las posibles variaciones estacionales en el volumen de llamadas. También podrías ofrecer recomendaciones prácticas para mejorar la eficiencia de los operadores.\n",
    "\n",
    "### Sugerencias adicionales:\n",
    "- **Optimización del código**: Podrías limpiar el código eliminando líneas repetitivas o comentarios que ya no sean necesarios, para mantenerlo más legible.\n",
    "- **Ampliar el análisis**: Si es posible, podrías realizar un análisis de tendencias temporales para observar cómo cambian los patrones de llamadas a lo largo del tiempo o evaluar si hay operadores que consistentemente son ineficaces.\n",
    "\n",
    "En general, tu proyecto muestra un análisis sólido y bien pensado. ¡Buen trabajo, y sigue adelante con esta excelente metodología analítica!\n",
    "</div>\n"
   ]
  },
  {
   "cell_type": "code",
   "execution_count": null,
   "metadata": {},
   "outputs": [],
   "source": []
  }
 ],
 "metadata": {
  "ExecuteTimeLog": [
   {
    "duration": 277,
    "start_time": "2024-11-02T03:37:22.807Z"
   },
   {
    "duration": 550,
    "start_time": "2024-11-02T03:38:37.912Z"
   },
   {
    "duration": 59,
    "start_time": "2024-11-02T03:39:07.302Z"
   },
   {
    "duration": 7,
    "start_time": "2024-11-02T03:44:27.028Z"
   },
   {
    "duration": 5,
    "start_time": "2024-11-02T03:44:39.945Z"
   },
   {
    "duration": 15,
    "start_time": "2024-11-02T03:44:48.707Z"
   },
   {
    "duration": 9,
    "start_time": "2024-11-02T03:46:12.649Z"
   },
   {
    "duration": 310,
    "start_time": "2024-11-03T16:11:02.680Z"
   },
   {
    "duration": 494,
    "start_time": "2024-11-03T16:11:03.749Z"
   },
   {
    "duration": 11,
    "start_time": "2024-11-03T16:11:24.696Z"
   },
   {
    "duration": 4,
    "start_time": "2024-11-03T16:11:42.997Z"
   },
   {
    "duration": 10,
    "start_time": "2024-11-03T16:13:04.756Z"
   },
   {
    "duration": 5,
    "start_time": "2024-11-03T16:13:28.365Z"
   },
   {
    "duration": 57,
    "start_time": "2024-11-03T16:31:59.738Z"
   },
   {
    "duration": 70,
    "start_time": "2024-11-03T16:34:07.635Z"
   },
   {
    "duration": 67,
    "start_time": "2024-11-03T16:34:30.622Z"
   },
   {
    "duration": 61,
    "start_time": "2024-11-03T16:34:40.032Z"
   },
   {
    "duration": 60,
    "start_time": "2024-11-03T16:35:00.297Z"
   },
   {
    "duration": 66,
    "start_time": "2024-11-03T16:35:05.160Z"
   },
   {
    "duration": 59,
    "start_time": "2024-11-03T16:35:42.158Z"
   },
   {
    "duration": 60,
    "start_time": "2024-11-03T17:02:28.306Z"
   },
   {
    "duration": 46,
    "start_time": "2024-11-03T17:02:35.770Z"
   },
   {
    "duration": 42,
    "start_time": "2024-11-03T17:05:08.224Z"
   },
   {
    "duration": 49,
    "start_time": "2024-11-03T17:05:46.232Z"
   },
   {
    "duration": 16,
    "start_time": "2024-11-03T17:06:33.337Z"
   },
   {
    "duration": 23,
    "start_time": "2024-11-03T17:07:19.308Z"
   },
   {
    "duration": 57,
    "start_time": "2024-11-03T17:08:23.748Z"
   },
   {
    "duration": 56,
    "start_time": "2024-11-03T17:08:38.048Z"
   },
   {
    "duration": 60,
    "start_time": "2024-11-03T17:08:55.055Z"
   },
   {
    "duration": 7,
    "start_time": "2024-11-03T17:10:02.229Z"
   },
   {
    "duration": 23,
    "start_time": "2024-11-03T17:10:08.971Z"
   },
   {
    "duration": 17,
    "start_time": "2024-11-03T17:11:21.851Z"
   },
   {
    "duration": 4,
    "start_time": "2024-11-03T17:11:48.228Z"
   },
   {
    "duration": 14,
    "start_time": "2024-11-03T17:18:50.279Z"
   },
   {
    "duration": 13,
    "start_time": "2024-11-03T17:19:01.404Z"
   },
   {
    "duration": 4,
    "start_time": "2024-11-03T17:19:22.163Z"
   },
   {
    "duration": 3,
    "start_time": "2024-11-03T17:19:31.975Z"
   },
   {
    "duration": 5,
    "start_time": "2024-11-03T17:19:33.385Z"
   },
   {
    "duration": 4,
    "start_time": "2024-11-03T17:19:42.006Z"
   },
   {
    "duration": 4,
    "start_time": "2024-11-03T17:19:46.142Z"
   },
   {
    "duration": 317,
    "start_time": "2024-11-03T17:19:50.071Z"
   },
   {
    "duration": 313,
    "start_time": "2024-11-03T17:20:00.974Z"
   },
   {
    "duration": 69,
    "start_time": "2024-11-03T17:20:01.289Z"
   },
   {
    "duration": 4,
    "start_time": "2024-11-03T17:20:01.360Z"
   },
   {
    "duration": 15,
    "start_time": "2024-11-03T17:20:01.366Z"
   },
   {
    "duration": 14,
    "start_time": "2024-11-03T17:20:01.383Z"
   },
   {
    "duration": 12,
    "start_time": "2024-11-03T17:20:01.398Z"
   },
   {
    "duration": 17,
    "start_time": "2024-11-03T17:21:01.697Z"
   },
   {
    "duration": 28,
    "start_time": "2024-11-03T17:21:09.495Z"
   },
   {
    "duration": 13,
    "start_time": "2024-11-03T17:21:21.901Z"
   },
   {
    "duration": 33,
    "start_time": "2024-11-03T17:25:26.243Z"
   },
   {
    "duration": 12,
    "start_time": "2024-11-03T17:25:29.768Z"
   },
   {
    "duration": 4,
    "start_time": "2024-11-03T17:27:30.396Z"
   },
   {
    "duration": 174,
    "start_time": "2024-11-03T17:27:37.435Z"
   },
   {
    "duration": 2,
    "start_time": "2024-11-03T17:28:28.909Z"
   },
   {
    "duration": 233,
    "start_time": "2024-11-03T17:28:35.254Z"
   },
   {
    "duration": 11,
    "start_time": "2024-11-03T17:28:39.412Z"
   },
   {
    "duration": 9,
    "start_time": "2024-11-03T17:29:01.989Z"
   },
   {
    "duration": 5,
    "start_time": "2024-11-03T17:30:41.970Z"
   },
   {
    "duration": 218,
    "start_time": "2024-11-03T17:30:58.429Z"
   },
   {
    "duration": 11,
    "start_time": "2024-11-03T17:35:55.559Z"
   },
   {
    "duration": 10,
    "start_time": "2024-11-03T17:36:01.909Z"
   },
   {
    "duration": 16,
    "start_time": "2024-11-03T17:36:03.554Z"
   },
   {
    "duration": 237,
    "start_time": "2024-11-03T17:36:38.458Z"
   },
   {
    "duration": 11,
    "start_time": "2024-11-03T17:51:50.932Z"
   },
   {
    "duration": 1984,
    "start_time": "2024-11-03T17:52:06.610Z"
   },
   {
    "duration": 10,
    "start_time": "2024-11-03T17:52:35.987Z"
   },
   {
    "duration": 8,
    "start_time": "2024-11-03T17:52:57.090Z"
   },
   {
    "duration": 6,
    "start_time": "2024-11-03T17:53:09.096Z"
   },
   {
    "duration": 8,
    "start_time": "2024-11-03T17:53:22.227Z"
   },
   {
    "duration": 11,
    "start_time": "2024-11-03T17:54:55.335Z"
   },
   {
    "duration": 8,
    "start_time": "2024-11-03T18:03:20.432Z"
   },
   {
    "duration": 253,
    "start_time": "2024-11-03T18:13:58.420Z"
   },
   {
    "duration": 9,
    "start_time": "2024-11-03T18:14:05.562Z"
   },
   {
    "duration": 7,
    "start_time": "2024-11-03T18:14:23.494Z"
   },
   {
    "duration": 119,
    "start_time": "2024-11-03T18:14:46.467Z"
   },
   {
    "duration": 4,
    "start_time": "2024-11-03T18:15:29.307Z"
   },
   {
    "duration": 4,
    "start_time": "2024-11-03T18:16:46.723Z"
   },
   {
    "duration": 5,
    "start_time": "2024-11-03T18:17:03.612Z"
   },
   {
    "duration": 4,
    "start_time": "2024-11-03T18:18:18.340Z"
   },
   {
    "duration": 404,
    "start_time": "2024-11-03T18:20:12.522Z"
   },
   {
    "duration": 6,
    "start_time": "2024-11-03T18:20:25.429Z"
   },
   {
    "duration": 450,
    "start_time": "2024-11-03T18:22:14.947Z"
   },
   {
    "duration": 10,
    "start_time": "2024-11-03T18:23:18.361Z"
   },
   {
    "duration": 684,
    "start_time": "2024-11-03T18:23:33.815Z"
   },
   {
    "duration": 785,
    "start_time": "2024-11-03T18:28:32.051Z"
   },
   {
    "duration": 188,
    "start_time": "2024-11-03T18:29:08.524Z"
   },
   {
    "duration": 186,
    "start_time": "2024-11-03T18:31:11.753Z"
   },
   {
    "duration": 17,
    "start_time": "2024-11-03T18:41:57.601Z"
   },
   {
    "duration": 92,
    "start_time": "2024-11-03T18:42:51.731Z"
   },
   {
    "duration": 91,
    "start_time": "2024-11-03T18:43:33.051Z"
   },
   {
    "duration": 91,
    "start_time": "2024-11-03T18:45:02.446Z"
   },
   {
    "duration": 2339,
    "start_time": "2024-11-03T18:46:05.866Z"
   },
   {
    "duration": 101,
    "start_time": "2024-11-03T18:47:21.672Z"
   },
   {
    "duration": 125,
    "start_time": "2024-11-03T18:47:39.974Z"
   },
   {
    "duration": 23,
    "start_time": "2024-11-03T18:48:29.191Z"
   },
   {
    "duration": 22,
    "start_time": "2024-11-03T18:48:29.723Z"
   },
   {
    "duration": 179,
    "start_time": "2024-11-03T19:00:35.474Z"
   },
   {
    "duration": 262,
    "start_time": "2024-11-03T19:00:43.189Z"
   },
   {
    "duration": 547,
    "start_time": "2024-11-03T19:02:10.659Z"
   },
   {
    "duration": 15,
    "start_time": "2024-11-03T19:07:48.785Z"
   },
   {
    "duration": 189,
    "start_time": "2024-11-03T19:08:45.531Z"
   },
   {
    "duration": 13,
    "start_time": "2024-11-03T19:09:02.070Z"
   },
   {
    "duration": 520,
    "start_time": "2024-11-03T19:09:23.220Z"
   },
   {
    "duration": 8,
    "start_time": "2024-11-03T19:18:00.502Z"
   },
   {
    "duration": 6,
    "start_time": "2024-11-03T19:19:19.278Z"
   },
   {
    "duration": 18,
    "start_time": "2024-11-03T19:19:26.486Z"
   },
   {
    "duration": 11,
    "start_time": "2024-11-03T19:20:18.451Z"
   },
   {
    "duration": 10,
    "start_time": "2024-11-03T19:21:45.068Z"
   },
   {
    "duration": 7,
    "start_time": "2024-11-03T19:24:38.272Z"
   },
   {
    "duration": 2764,
    "start_time": "2024-11-04T02:37:05.782Z"
   },
   {
    "duration": 92,
    "start_time": "2024-11-04T02:37:08.548Z"
   },
   {
    "duration": 30,
    "start_time": "2024-11-04T02:37:08.642Z"
   },
   {
    "duration": 23,
    "start_time": "2024-11-04T02:37:08.673Z"
   },
   {
    "duration": 31,
    "start_time": "2024-11-04T02:37:08.698Z"
   },
   {
    "duration": 312,
    "start_time": "2024-11-04T02:37:08.731Z"
   },
   {
    "duration": 21,
    "start_time": "2024-11-04T02:37:09.045Z"
   },
   {
    "duration": 16,
    "start_time": "2024-11-04T02:37:09.068Z"
   },
   {
    "duration": 11,
    "start_time": "2024-11-04T02:37:09.088Z"
   },
   {
    "duration": 169,
    "start_time": "2024-11-04T02:37:09.100Z"
   },
   {
    "duration": 5,
    "start_time": "2024-11-04T02:37:09.270Z"
   },
   {
    "duration": 5,
    "start_time": "2024-11-04T02:37:09.278Z"
   },
   {
    "duration": 5,
    "start_time": "2024-11-04T02:37:09.285Z"
   },
   {
    "duration": 33,
    "start_time": "2024-11-04T02:37:09.294Z"
   },
   {
    "duration": 206,
    "start_time": "2024-11-04T02:37:09.329Z"
   },
   {
    "duration": 346,
    "start_time": "2024-11-04T02:37:09.537Z"
   },
   {
    "duration": 2439,
    "start_time": "2024-11-04T02:37:09.885Z"
   },
   {
    "duration": 534,
    "start_time": "2024-11-04T02:37:12.326Z"
   },
   {
    "duration": 13,
    "start_time": "2024-11-04T02:37:12.862Z"
   },
   {
    "duration": 10,
    "start_time": "2024-11-04T02:37:12.878Z"
   },
   {
    "duration": 7,
    "start_time": "2024-11-04T02:37:12.890Z"
   },
   {
    "duration": 8,
    "start_time": "2024-11-04T02:37:12.899Z"
   },
   {
    "duration": 25,
    "start_time": "2024-11-04T02:37:12.908Z"
   },
   {
    "duration": 11,
    "start_time": "2024-11-04T02:37:12.935Z"
   },
   {
    "duration": 102,
    "start_time": "2024-11-04T02:45:31.659Z"
   },
   {
    "duration": 102,
    "start_time": "2024-11-04T02:45:44.410Z"
   },
   {
    "duration": 159,
    "start_time": "2024-11-04T02:45:51.338Z"
   },
   {
    "duration": 259,
    "start_time": "2024-11-04T02:46:02.594Z"
   },
   {
    "duration": 554,
    "start_time": "2024-11-04T02:46:23.270Z"
   },
   {
    "duration": 335,
    "start_time": "2024-11-04T02:46:40.678Z"
   },
   {
    "duration": 5,
    "start_time": "2024-11-04T02:47:12.869Z"
   },
   {
    "duration": 1080,
    "start_time": "2024-11-04T02:47:19.775Z"
   },
   {
    "duration": 544,
    "start_time": "2024-11-04T02:47:45.885Z"
   },
   {
    "duration": 3,
    "start_time": "2024-11-04T03:00:41.666Z"
   },
   {
    "duration": 94,
    "start_time": "2024-11-04T03:01:13.653Z"
   },
   {
    "duration": 132,
    "start_time": "2024-11-04T03:01:41.289Z"
   },
   {
    "duration": 16,
    "start_time": "2024-11-04T03:02:24.263Z"
   },
   {
    "duration": 15,
    "start_time": "2024-11-04T03:02:44.418Z"
   },
   {
    "duration": 196,
    "start_time": "2024-11-04T03:03:35.729Z"
   },
   {
    "duration": 373,
    "start_time": "2024-11-04T03:05:29.991Z"
   },
   {
    "duration": 16,
    "start_time": "2024-11-04T03:08:01.928Z"
   },
   {
    "duration": 3,
    "start_time": "2024-11-04T03:08:16.339Z"
   },
   {
    "duration": 5,
    "start_time": "2024-11-04T03:08:23.491Z"
   },
   {
    "duration": 4,
    "start_time": "2024-11-04T03:12:41.482Z"
   },
   {
    "duration": 4,
    "start_time": "2024-11-04T03:12:55.197Z"
   },
   {
    "duration": 194,
    "start_time": "2024-11-04T03:20:01.575Z"
   },
   {
    "duration": 29,
    "start_time": "2024-11-04T03:21:07.010Z"
   },
   {
    "duration": 5,
    "start_time": "2024-11-04T03:22:45.618Z"
   },
   {
    "duration": 4,
    "start_time": "2024-11-04T03:23:17.458Z"
   },
   {
    "duration": 4,
    "start_time": "2024-11-04T03:23:49.996Z"
   },
   {
    "duration": 2543,
    "start_time": "2024-11-04T03:52:52.109Z"
   },
   {
    "duration": 88,
    "start_time": "2024-11-04T03:52:54.655Z"
   },
   {
    "duration": 30,
    "start_time": "2024-11-04T03:52:54.745Z"
   },
   {
    "duration": 17,
    "start_time": "2024-11-04T03:52:54.777Z"
   },
   {
    "duration": 11,
    "start_time": "2024-11-04T03:52:54.797Z"
   },
   {
    "duration": 296,
    "start_time": "2024-11-04T03:52:54.811Z"
   },
   {
    "duration": 21,
    "start_time": "2024-11-04T03:52:55.108Z"
   },
   {
    "duration": 23,
    "start_time": "2024-11-04T03:52:55.130Z"
   },
   {
    "duration": 8,
    "start_time": "2024-11-04T03:52:55.154Z"
   },
   {
    "duration": 156,
    "start_time": "2024-11-04T03:52:55.163Z"
   },
   {
    "duration": 4,
    "start_time": "2024-11-04T03:52:55.321Z"
   },
   {
    "duration": 16,
    "start_time": "2024-11-04T03:52:55.327Z"
   },
   {
    "duration": 5,
    "start_time": "2024-11-04T03:52:55.344Z"
   },
   {
    "duration": 9,
    "start_time": "2024-11-04T03:52:55.352Z"
   },
   {
    "duration": 213,
    "start_time": "2024-11-04T03:52:55.363Z"
   },
   {
    "duration": 364,
    "start_time": "2024-11-04T03:52:55.578Z"
   },
   {
    "duration": 2378,
    "start_time": "2024-11-04T03:52:55.944Z"
   },
   {
    "duration": 561,
    "start_time": "2024-11-04T03:52:58.326Z"
   },
   {
    "duration": 13,
    "start_time": "2024-11-04T03:52:58.889Z"
   },
   {
    "duration": 9,
    "start_time": "2024-11-04T03:52:58.903Z"
   },
   {
    "duration": 8,
    "start_time": "2024-11-04T03:52:58.914Z"
   },
   {
    "duration": 6,
    "start_time": "2024-11-04T03:52:58.924Z"
   },
   {
    "duration": 22,
    "start_time": "2024-11-04T03:52:58.931Z"
   },
   {
    "duration": 9,
    "start_time": "2024-11-04T03:52:58.955Z"
   },
   {
    "duration": 148,
    "start_time": "2024-11-04T03:52:58.966Z"
   },
   {
    "duration": 206,
    "start_time": "2024-11-04T03:52:59.116Z"
   },
   {
    "duration": 7,
    "start_time": "2024-11-04T03:52:59.327Z"
   },
   {
    "duration": 205,
    "start_time": "2024-11-04T03:52:59.337Z"
   },
   {
    "duration": 4,
    "start_time": "2024-11-04T03:52:59.544Z"
   },
   {
    "duration": 22,
    "start_time": "2024-11-04T03:52:59.551Z"
   },
   {
    "duration": 11,
    "start_time": "2024-11-04T03:54:09.771Z"
   },
   {
    "duration": 8,
    "start_time": "2024-11-04T03:54:54.743Z"
   },
   {
    "duration": 221,
    "start_time": "2024-11-04T03:55:46.677Z"
   },
   {
    "duration": 14,
    "start_time": "2024-11-04T03:56:07.633Z"
   },
   {
    "duration": 6,
    "start_time": "2024-11-04T03:56:29.650Z"
   },
   {
    "duration": 23,
    "start_time": "2024-11-04T03:58:33.335Z"
   },
   {
    "duration": 23,
    "start_time": "2024-11-04T03:59:04.878Z"
   },
   {
    "duration": 5,
    "start_time": "2024-11-04T04:01:13.148Z"
   },
   {
    "duration": 16,
    "start_time": "2024-11-04T04:01:29.491Z"
   },
   {
    "duration": 4,
    "start_time": "2024-11-04T04:01:41.637Z"
   },
   {
    "duration": 6,
    "start_time": "2024-11-04T04:02:08.052Z"
   },
   {
    "duration": 7,
    "start_time": "2024-11-04T04:02:50.295Z"
   },
   {
    "duration": 9,
    "start_time": "2024-11-04T04:03:13.807Z"
   },
   {
    "duration": 33,
    "start_time": "2024-11-04T04:05:56.651Z"
   },
   {
    "duration": 790,
    "start_time": "2024-11-04T04:07:20.895Z"
   },
   {
    "duration": 67,
    "start_time": "2024-11-04T04:07:21.687Z"
   },
   {
    "duration": 30,
    "start_time": "2024-11-04T04:07:21.755Z"
   },
   {
    "duration": 18,
    "start_time": "2024-11-04T04:07:21.788Z"
   },
   {
    "duration": 39,
    "start_time": "2024-11-04T04:07:21.808Z"
   },
   {
    "duration": 296,
    "start_time": "2024-11-04T04:07:21.848Z"
   },
   {
    "duration": 32,
    "start_time": "2024-11-04T04:07:22.146Z"
   },
   {
    "duration": 5,
    "start_time": "2024-11-04T04:07:22.179Z"
   },
   {
    "duration": 8,
    "start_time": "2024-11-04T04:07:22.186Z"
   },
   {
    "duration": 154,
    "start_time": "2024-11-04T04:07:22.197Z"
   },
   {
    "duration": 4,
    "start_time": "2024-11-04T04:07:22.353Z"
   },
   {
    "duration": 5,
    "start_time": "2024-11-04T04:07:22.358Z"
   },
   {
    "duration": 5,
    "start_time": "2024-11-04T04:07:22.364Z"
   },
   {
    "duration": 8,
    "start_time": "2024-11-04T04:07:22.371Z"
   },
   {
    "duration": 227,
    "start_time": "2024-11-04T04:07:22.381Z"
   },
   {
    "duration": 357,
    "start_time": "2024-11-04T04:07:22.610Z"
   },
   {
    "duration": 2435,
    "start_time": "2024-11-04T04:07:22.968Z"
   },
   {
    "duration": 495,
    "start_time": "2024-11-04T04:07:25.404Z"
   },
   {
    "duration": 10,
    "start_time": "2024-11-04T04:07:25.901Z"
   },
   {
    "duration": 10,
    "start_time": "2024-11-04T04:07:25.913Z"
   },
   {
    "duration": 6,
    "start_time": "2024-11-04T04:07:25.924Z"
   },
   {
    "duration": 6,
    "start_time": "2024-11-04T04:07:25.932Z"
   },
   {
    "duration": 11,
    "start_time": "2024-11-04T04:07:25.942Z"
   },
   {
    "duration": 9,
    "start_time": "2024-11-04T04:07:25.955Z"
   },
   {
    "duration": 139,
    "start_time": "2024-11-04T04:07:25.966Z"
   },
   {
    "duration": 200,
    "start_time": "2024-11-04T04:07:26.106Z"
   },
   {
    "duration": 3,
    "start_time": "2024-11-04T04:07:26.308Z"
   },
   {
    "duration": 205,
    "start_time": "2024-11-04T04:07:26.315Z"
   },
   {
    "duration": 4,
    "start_time": "2024-11-04T04:07:26.522Z"
   },
   {
    "duration": 34,
    "start_time": "2024-11-04T04:07:26.528Z"
   },
   {
    "duration": 11,
    "start_time": "2024-11-04T04:07:26.563Z"
   },
   {
    "duration": 8,
    "start_time": "2024-11-04T04:07:26.575Z"
   },
   {
    "duration": 5,
    "start_time": "2024-11-04T04:07:26.585Z"
   },
   {
    "duration": 132,
    "start_time": "2024-11-04T04:08:11.598Z"
   },
   {
    "duration": 2570,
    "start_time": "2024-11-04T15:59:33.907Z"
   },
   {
    "duration": 100,
    "start_time": "2024-11-04T15:59:36.479Z"
   },
   {
    "duration": 30,
    "start_time": "2024-11-04T15:59:36.581Z"
   },
   {
    "duration": 17,
    "start_time": "2024-11-04T15:59:36.614Z"
   },
   {
    "duration": 11,
    "start_time": "2024-11-04T15:59:36.632Z"
   },
   {
    "duration": 274,
    "start_time": "2024-11-04T15:59:36.645Z"
   },
   {
    "duration": 33,
    "start_time": "2024-11-04T15:59:36.921Z"
   },
   {
    "duration": 19,
    "start_time": "2024-11-04T15:59:36.956Z"
   },
   {
    "duration": 9,
    "start_time": "2024-11-04T15:59:36.977Z"
   },
   {
    "duration": 193,
    "start_time": "2024-11-04T15:59:36.990Z"
   },
   {
    "duration": 4,
    "start_time": "2024-11-04T15:59:37.185Z"
   },
   {
    "duration": 5,
    "start_time": "2024-11-04T15:59:37.191Z"
   },
   {
    "duration": 4,
    "start_time": "2024-11-04T15:59:37.198Z"
   },
   {
    "duration": 10,
    "start_time": "2024-11-04T15:59:37.204Z"
   },
   {
    "duration": 165,
    "start_time": "2024-11-04T15:59:37.216Z"
   },
   {
    "duration": 353,
    "start_time": "2024-11-04T15:59:37.383Z"
   },
   {
    "duration": 2194,
    "start_time": "2024-11-04T15:59:37.740Z"
   },
   {
    "duration": 633,
    "start_time": "2024-11-04T15:59:39.935Z"
   },
   {
    "duration": 10,
    "start_time": "2024-11-04T15:59:40.570Z"
   },
   {
    "duration": 10,
    "start_time": "2024-11-04T15:59:40.582Z"
   },
   {
    "duration": 9,
    "start_time": "2024-11-04T15:59:40.593Z"
   },
   {
    "duration": 7,
    "start_time": "2024-11-04T15:59:40.603Z"
   },
   {
    "duration": 12,
    "start_time": "2024-11-04T15:59:40.612Z"
   },
   {
    "duration": 44,
    "start_time": "2024-11-04T15:59:40.626Z"
   },
   {
    "duration": 132,
    "start_time": "2024-11-04T15:59:40.672Z"
   },
   {
    "duration": 198,
    "start_time": "2024-11-04T15:59:40.806Z"
   },
   {
    "duration": 4,
    "start_time": "2024-11-04T15:59:41.006Z"
   },
   {
    "duration": 201,
    "start_time": "2024-11-04T15:59:41.014Z"
   },
   {
    "duration": 4,
    "start_time": "2024-11-04T15:59:41.217Z"
   },
   {
    "duration": 23,
    "start_time": "2024-11-04T15:59:41.222Z"
   },
   {
    "duration": 28,
    "start_time": "2024-11-04T15:59:41.247Z"
   },
   {
    "duration": 7,
    "start_time": "2024-11-04T15:59:41.277Z"
   },
   {
    "duration": 6,
    "start_time": "2024-11-04T15:59:41.286Z"
   },
   {
    "duration": 8,
    "start_time": "2024-11-04T16:01:30.568Z"
   },
   {
    "duration": 6,
    "start_time": "2024-11-04T16:02:39.538Z"
   },
   {
    "duration": 9,
    "start_time": "2024-11-04T16:03:18.738Z"
   },
   {
    "duration": 6,
    "start_time": "2024-11-04T16:04:12.666Z"
   },
   {
    "duration": 9,
    "start_time": "2024-11-04T16:06:56.582Z"
   },
   {
    "duration": 7,
    "start_time": "2024-11-04T16:09:40.936Z"
   },
   {
    "duration": 5,
    "start_time": "2024-11-04T16:10:00.168Z"
   },
   {
    "duration": 5,
    "start_time": "2024-11-04T16:10:14.607Z"
   },
   {
    "duration": 5,
    "start_time": "2024-11-04T16:11:20.693Z"
   },
   {
    "duration": 5,
    "start_time": "2024-11-04T16:11:22.582Z"
   },
   {
    "duration": 4,
    "start_time": "2024-11-04T16:12:49.345Z"
   },
   {
    "duration": 15,
    "start_time": "2024-11-04T16:12:58.327Z"
   },
   {
    "duration": 8,
    "start_time": "2024-11-04T16:13:11.614Z"
   },
   {
    "duration": 2541,
    "start_time": "2024-11-04T18:58:38.473Z"
   },
   {
    "duration": 94,
    "start_time": "2024-11-04T18:58:45.424Z"
   },
   {
    "duration": 31,
    "start_time": "2024-11-04T18:58:50.384Z"
   },
   {
    "duration": 30,
    "start_time": "2024-11-04T18:58:52.307Z"
   },
   {
    "duration": 833,
    "start_time": "2024-11-04T18:59:02.338Z"
   },
   {
    "duration": 67,
    "start_time": "2024-11-04T18:59:03.173Z"
   },
   {
    "duration": 30,
    "start_time": "2024-11-04T18:59:03.242Z"
   },
   {
    "duration": 19,
    "start_time": "2024-11-04T18:59:03.274Z"
   },
   {
    "duration": 31,
    "start_time": "2024-11-04T18:59:03.297Z"
   },
   {
    "duration": 294,
    "start_time": "2024-11-04T18:59:03.330Z"
   },
   {
    "duration": 31,
    "start_time": "2024-11-04T18:59:03.626Z"
   },
   {
    "duration": 7,
    "start_time": "2024-11-04T18:59:03.659Z"
   },
   {
    "duration": 11,
    "start_time": "2024-11-04T18:59:03.668Z"
   },
   {
    "duration": 153,
    "start_time": "2024-11-04T18:59:03.682Z"
   },
   {
    "duration": 5,
    "start_time": "2024-11-04T18:59:03.837Z"
   },
   {
    "duration": 5,
    "start_time": "2024-11-04T18:59:04.453Z"
   },
   {
    "duration": 5,
    "start_time": "2024-11-04T18:59:04.460Z"
   },
   {
    "duration": 9,
    "start_time": "2024-11-04T18:59:04.466Z"
   },
   {
    "duration": 138,
    "start_time": "2024-11-04T18:59:04.710Z"
   },
   {
    "duration": 355,
    "start_time": "2024-11-04T18:59:04.850Z"
   },
   {
    "duration": 2363,
    "start_time": "2024-11-04T18:59:05.207Z"
   },
   {
    "duration": 496,
    "start_time": "2024-11-04T18:59:07.572Z"
   },
   {
    "duration": 10,
    "start_time": "2024-11-04T18:59:08.072Z"
   },
   {
    "duration": 9,
    "start_time": "2024-11-04T18:59:08.083Z"
   },
   {
    "duration": 7,
    "start_time": "2024-11-04T18:59:08.093Z"
   },
   {
    "duration": 22,
    "start_time": "2024-11-04T18:59:08.102Z"
   },
   {
    "duration": 12,
    "start_time": "2024-11-04T18:59:08.125Z"
   },
   {
    "duration": 9,
    "start_time": "2024-11-04T18:59:08.138Z"
   },
   {
    "duration": 150,
    "start_time": "2024-11-04T18:59:08.149Z"
   },
   {
    "duration": 202,
    "start_time": "2024-11-04T18:59:08.301Z"
   },
   {
    "duration": 4,
    "start_time": "2024-11-04T18:59:08.505Z"
   },
   {
    "duration": 195,
    "start_time": "2024-11-04T18:59:08.525Z"
   },
   {
    "duration": 4,
    "start_time": "2024-11-04T18:59:08.723Z"
   },
   {
    "duration": 23,
    "start_time": "2024-11-04T18:59:08.729Z"
   },
   {
    "duration": 7,
    "start_time": "2024-11-04T18:59:08.754Z"
   },
   {
    "duration": 1075,
    "start_time": "2024-11-04T18:59:08.762Z"
   },
   {
    "duration": 0,
    "start_time": "2024-11-04T18:59:09.838Z"
   },
   {
    "duration": 0,
    "start_time": "2024-11-04T18:59:09.840Z"
   },
   {
    "duration": 0,
    "start_time": "2024-11-04T18:59:09.841Z"
   },
   {
    "duration": 0,
    "start_time": "2024-11-04T18:59:09.843Z"
   },
   {
    "duration": 0,
    "start_time": "2024-11-04T18:59:09.845Z"
   },
   {
    "duration": 0,
    "start_time": "2024-11-04T18:59:09.846Z"
   },
   {
    "duration": 4,
    "start_time": "2024-11-04T19:02:12.919Z"
   },
   {
    "duration": 5,
    "start_time": "2024-11-04T19:02:38.498Z"
   },
   {
    "duration": 4,
    "start_time": "2024-11-04T19:03:28.337Z"
   },
   {
    "duration": 4,
    "start_time": "2024-11-04T19:03:41.352Z"
   },
   {
    "duration": 9,
    "start_time": "2024-11-04T19:06:24.686Z"
   },
   {
    "duration": 10,
    "start_time": "2024-11-04T19:08:39.303Z"
   },
   {
    "duration": 14,
    "start_time": "2024-11-04T19:12:01.524Z"
   },
   {
    "duration": 14,
    "start_time": "2024-11-04T19:12:12.747Z"
   },
   {
    "duration": 6,
    "start_time": "2024-11-04T19:14:34.526Z"
   },
   {
    "duration": 9,
    "start_time": "2024-11-04T19:15:16.923Z"
   },
   {
    "duration": 10,
    "start_time": "2024-11-04T19:15:42.492Z"
   },
   {
    "duration": 23,
    "start_time": "2024-11-04T19:15:56.475Z"
   },
   {
    "duration": 16,
    "start_time": "2024-11-04T19:17:53.807Z"
   },
   {
    "duration": 93,
    "start_time": "2024-11-04T19:21:03.744Z"
   },
   {
    "duration": 89,
    "start_time": "2024-11-04T19:21:18.117Z"
   },
   {
    "duration": 88,
    "start_time": "2024-11-04T19:21:26.716Z"
   },
   {
    "duration": 17,
    "start_time": "2024-11-04T19:24:26.834Z"
   },
   {
    "duration": 153,
    "start_time": "2024-11-04T19:24:46.107Z"
   },
   {
    "duration": 13,
    "start_time": "2024-11-04T19:25:11.187Z"
   },
   {
    "duration": 12,
    "start_time": "2024-11-04T19:25:28.484Z"
   },
   {
    "duration": 12,
    "start_time": "2024-11-04T19:25:53.369Z"
   },
   {
    "duration": 110,
    "start_time": "2024-11-04T19:27:11.139Z"
   },
   {
    "duration": 104,
    "start_time": "2024-11-04T19:28:19.469Z"
   },
   {
    "duration": 4,
    "start_time": "2024-11-04T19:29:04.895Z"
   },
   {
    "duration": 2558,
    "start_time": "2024-11-05T02:57:39.219Z"
   },
   {
    "duration": 98,
    "start_time": "2024-11-05T02:57:41.780Z"
   },
   {
    "duration": 29,
    "start_time": "2024-11-05T02:57:41.880Z"
   },
   {
    "duration": 25,
    "start_time": "2024-11-05T02:57:41.911Z"
   },
   {
    "duration": 11,
    "start_time": "2024-11-05T02:57:41.938Z"
   },
   {
    "duration": 297,
    "start_time": "2024-11-05T02:57:41.950Z"
   },
   {
    "duration": 31,
    "start_time": "2024-11-05T02:57:42.249Z"
   },
   {
    "duration": 5,
    "start_time": "2024-11-05T02:57:42.282Z"
   },
   {
    "duration": 34,
    "start_time": "2024-11-05T02:57:42.290Z"
   },
   {
    "duration": 129,
    "start_time": "2024-11-05T02:57:42.325Z"
   },
   {
    "duration": 5,
    "start_time": "2024-11-05T02:57:42.455Z"
   },
   {
    "duration": 4,
    "start_time": "2024-11-05T02:57:42.461Z"
   },
   {
    "duration": 4,
    "start_time": "2024-11-05T02:57:42.467Z"
   },
   {
    "duration": 8,
    "start_time": "2024-11-05T02:57:42.476Z"
   },
   {
    "duration": 170,
    "start_time": "2024-11-05T02:57:42.485Z"
   },
   {
    "duration": 359,
    "start_time": "2024-11-05T02:57:42.657Z"
   },
   {
    "duration": 2389,
    "start_time": "2024-11-05T02:57:43.025Z"
   },
   {
    "duration": 548,
    "start_time": "2024-11-05T02:57:45.416Z"
   },
   {
    "duration": 11,
    "start_time": "2024-11-05T02:57:45.967Z"
   },
   {
    "duration": 11,
    "start_time": "2024-11-05T02:57:45.981Z"
   },
   {
    "duration": 7,
    "start_time": "2024-11-05T02:57:45.994Z"
   },
   {
    "duration": 8,
    "start_time": "2024-11-05T02:57:46.003Z"
   },
   {
    "duration": 13,
    "start_time": "2024-11-05T02:57:46.013Z"
   },
   {
    "duration": 9,
    "start_time": "2024-11-05T02:57:46.030Z"
   },
   {
    "duration": 140,
    "start_time": "2024-11-05T02:57:46.041Z"
   },
   {
    "duration": 197,
    "start_time": "2024-11-05T02:57:46.183Z"
   },
   {
    "duration": 5,
    "start_time": "2024-11-05T02:57:46.382Z"
   },
   {
    "duration": 203,
    "start_time": "2024-11-05T02:57:46.388Z"
   },
   {
    "duration": 4,
    "start_time": "2024-11-05T02:57:46.593Z"
   },
   {
    "duration": 35,
    "start_time": "2024-11-05T02:57:46.599Z"
   },
   {
    "duration": 7,
    "start_time": "2024-11-05T02:57:46.635Z"
   },
   {
    "duration": 4,
    "start_time": "2024-11-05T02:57:46.644Z"
   },
   {
    "duration": 1136,
    "start_time": "2024-11-05T02:57:46.650Z"
   },
   {
    "duration": 0,
    "start_time": "2024-11-05T02:57:47.788Z"
   },
   {
    "duration": 0,
    "start_time": "2024-11-05T02:57:47.789Z"
   },
   {
    "duration": 0,
    "start_time": "2024-11-05T02:57:47.790Z"
   },
   {
    "duration": 0,
    "start_time": "2024-11-05T02:57:47.791Z"
   },
   {
    "duration": 0,
    "start_time": "2024-11-05T02:57:47.792Z"
   },
   {
    "duration": 0,
    "start_time": "2024-11-05T02:57:47.793Z"
   },
   {
    "duration": 0,
    "start_time": "2024-11-05T02:57:47.795Z"
   },
   {
    "duration": 0,
    "start_time": "2024-11-05T02:57:47.796Z"
   },
   {
    "duration": 0,
    "start_time": "2024-11-05T02:57:47.797Z"
   },
   {
    "duration": 0,
    "start_time": "2024-11-05T02:57:47.798Z"
   },
   {
    "duration": 0,
    "start_time": "2024-11-05T02:57:47.799Z"
   },
   {
    "duration": 0,
    "start_time": "2024-11-05T02:57:47.824Z"
   },
   {
    "duration": 9,
    "start_time": "2024-11-05T02:58:08.933Z"
   },
   {
    "duration": 16,
    "start_time": "2024-11-05T02:58:11.482Z"
   },
   {
    "duration": 11,
    "start_time": "2024-11-05T02:58:57.938Z"
   },
   {
    "duration": 103,
    "start_time": "2024-11-05T02:59:03.199Z"
   },
   {
    "duration": 99,
    "start_time": "2024-11-05T02:59:06.062Z"
   },
   {
    "duration": 4,
    "start_time": "2024-11-05T02:59:11.096Z"
   },
   {
    "duration": 8,
    "start_time": "2024-11-05T02:59:40.911Z"
   },
   {
    "duration": 86,
    "start_time": "2024-11-05T03:01:22.300Z"
   },
   {
    "duration": 9,
    "start_time": "2024-11-05T03:01:40.868Z"
   },
   {
    "duration": 7,
    "start_time": "2024-11-05T03:01:50.833Z"
   },
   {
    "duration": 13,
    "start_time": "2024-11-05T03:01:56.940Z"
   },
   {
    "duration": 13,
    "start_time": "2024-11-05T03:02:27.246Z"
   },
   {
    "duration": 5,
    "start_time": "2024-11-05T03:02:59.394Z"
   },
   {
    "duration": 3,
    "start_time": "2024-11-05T03:05:13.279Z"
   },
   {
    "duration": 4,
    "start_time": "2024-11-05T03:06:35.535Z"
   },
   {
    "duration": 12,
    "start_time": "2024-11-05T03:07:29.844Z"
   },
   {
    "duration": 4,
    "start_time": "2024-11-05T03:10:29.779Z"
   },
   {
    "duration": 11,
    "start_time": "2024-11-05T03:10:31.365Z"
   },
   {
    "duration": 4,
    "start_time": "2024-11-05T03:11:54.671Z"
   },
   {
    "duration": 10,
    "start_time": "2024-11-05T03:13:00.032Z"
   },
   {
    "duration": 4,
    "start_time": "2024-11-05T03:13:02.340Z"
   },
   {
    "duration": 10,
    "start_time": "2024-11-05T03:13:03.932Z"
   },
   {
    "duration": 109,
    "start_time": "2024-11-05T03:13:57.994Z"
   },
   {
    "duration": 3,
    "start_time": "2024-11-05T03:14:53.161Z"
   },
   {
    "duration": 14,
    "start_time": "2024-11-05T03:30:57.286Z"
   },
   {
    "duration": 14,
    "start_time": "2024-11-05T03:32:38.973Z"
   },
   {
    "duration": 3,
    "start_time": "2024-11-05T03:36:19.884Z"
   },
   {
    "duration": 2502,
    "start_time": "2024-11-05T04:15:04.061Z"
   },
   {
    "duration": 90,
    "start_time": "2024-11-05T04:15:06.566Z"
   },
   {
    "duration": 37,
    "start_time": "2024-11-05T04:15:06.658Z"
   },
   {
    "duration": 17,
    "start_time": "2024-11-05T04:15:06.699Z"
   },
   {
    "duration": 10,
    "start_time": "2024-11-05T04:15:06.718Z"
   },
   {
    "duration": 295,
    "start_time": "2024-11-05T04:15:06.730Z"
   },
   {
    "duration": 31,
    "start_time": "2024-11-05T04:15:07.027Z"
   },
   {
    "duration": 5,
    "start_time": "2024-11-05T04:15:07.060Z"
   },
   {
    "duration": 25,
    "start_time": "2024-11-05T04:15:07.067Z"
   },
   {
    "duration": 142,
    "start_time": "2024-11-05T04:15:07.096Z"
   },
   {
    "duration": 4,
    "start_time": "2024-11-05T04:15:07.240Z"
   },
   {
    "duration": 4,
    "start_time": "2024-11-05T04:15:07.246Z"
   },
   {
    "duration": 5,
    "start_time": "2024-11-05T04:15:07.251Z"
   },
   {
    "duration": 29,
    "start_time": "2024-11-05T04:15:07.258Z"
   },
   {
    "duration": 142,
    "start_time": "2024-11-05T04:15:07.289Z"
   },
   {
    "duration": 353,
    "start_time": "2024-11-05T04:15:07.433Z"
   },
   {
    "duration": 2206,
    "start_time": "2024-11-05T04:15:07.788Z"
   },
   {
    "duration": 631,
    "start_time": "2024-11-05T04:15:09.996Z"
   },
   {
    "duration": 10,
    "start_time": "2024-11-05T04:15:10.629Z"
   },
   {
    "duration": 10,
    "start_time": "2024-11-05T04:15:10.641Z"
   },
   {
    "duration": 7,
    "start_time": "2024-11-05T04:15:10.652Z"
   },
   {
    "duration": 6,
    "start_time": "2024-11-05T04:15:10.661Z"
   },
   {
    "duration": 18,
    "start_time": "2024-11-05T04:15:10.669Z"
   },
   {
    "duration": 8,
    "start_time": "2024-11-05T04:15:10.690Z"
   },
   {
    "duration": 146,
    "start_time": "2024-11-05T04:15:10.699Z"
   },
   {
    "duration": 198,
    "start_time": "2024-11-05T04:15:10.847Z"
   },
   {
    "duration": 4,
    "start_time": "2024-11-05T04:15:11.047Z"
   },
   {
    "duration": 206,
    "start_time": "2024-11-05T04:15:11.055Z"
   },
   {
    "duration": 4,
    "start_time": "2024-11-05T04:15:11.263Z"
   },
   {
    "duration": 32,
    "start_time": "2024-11-05T04:15:11.268Z"
   },
   {
    "duration": 7,
    "start_time": "2024-11-05T04:15:11.302Z"
   },
   {
    "duration": 4,
    "start_time": "2024-11-05T04:15:11.310Z"
   },
   {
    "duration": 942,
    "start_time": "2024-11-05T04:15:11.315Z"
   },
   {
    "duration": 0,
    "start_time": "2024-11-05T04:15:12.260Z"
   },
   {
    "duration": 0,
    "start_time": "2024-11-05T04:15:12.261Z"
   },
   {
    "duration": 0,
    "start_time": "2024-11-05T04:15:12.262Z"
   },
   {
    "duration": 0,
    "start_time": "2024-11-05T04:15:12.263Z"
   },
   {
    "duration": 0,
    "start_time": "2024-11-05T04:15:12.264Z"
   },
   {
    "duration": 0,
    "start_time": "2024-11-05T04:15:12.265Z"
   },
   {
    "duration": 0,
    "start_time": "2024-11-05T04:15:12.267Z"
   },
   {
    "duration": 0,
    "start_time": "2024-11-05T04:15:12.268Z"
   },
   {
    "duration": 0,
    "start_time": "2024-11-05T04:15:12.269Z"
   },
   {
    "duration": 0,
    "start_time": "2024-11-05T04:15:12.286Z"
   },
   {
    "duration": 0,
    "start_time": "2024-11-05T04:15:12.287Z"
   },
   {
    "duration": 0,
    "start_time": "2024-11-05T04:15:12.288Z"
   },
   {
    "duration": 0,
    "start_time": "2024-11-05T04:15:12.290Z"
   },
   {
    "duration": 0,
    "start_time": "2024-11-05T04:15:12.291Z"
   },
   {
    "duration": 0,
    "start_time": "2024-11-05T04:15:12.292Z"
   },
   {
    "duration": 0,
    "start_time": "2024-11-05T04:15:12.293Z"
   },
   {
    "duration": 13,
    "start_time": "2024-11-05T04:18:03.139Z"
   },
   {
    "duration": 14,
    "start_time": "2024-11-05T04:18:05.520Z"
   },
   {
    "duration": 10,
    "start_time": "2024-11-05T04:18:08.387Z"
   },
   {
    "duration": 99,
    "start_time": "2024-11-05T04:18:11.421Z"
   },
   {
    "duration": 102,
    "start_time": "2024-11-05T04:18:14.334Z"
   },
   {
    "duration": 4,
    "start_time": "2024-11-05T04:18:18.899Z"
   },
   {
    "duration": 4,
    "start_time": "2024-11-05T04:18:22.779Z"
   },
   {
    "duration": 104,
    "start_time": "2024-11-05T04:18:24.170Z"
   },
   {
    "duration": 4,
    "start_time": "2024-11-05T04:18:27.643Z"
   },
   {
    "duration": 7,
    "start_time": "2024-11-05T04:18:45.134Z"
   },
   {
    "duration": 12,
    "start_time": "2024-11-05T04:24:38.357Z"
   },
   {
    "duration": 11,
    "start_time": "2024-11-05T04:25:48.941Z"
   },
   {
    "duration": 8,
    "start_time": "2024-11-05T04:25:56.314Z"
   },
   {
    "duration": 8,
    "start_time": "2024-11-05T04:26:15.962Z"
   },
   {
    "duration": 18,
    "start_time": "2024-11-05T04:27:53.978Z"
   },
   {
    "duration": 7,
    "start_time": "2024-11-05T04:28:27.399Z"
   },
   {
    "duration": 5,
    "start_time": "2024-11-05T04:28:36.995Z"
   },
   {
    "duration": 18,
    "start_time": "2024-11-05T04:29:03.835Z"
   },
   {
    "duration": 11,
    "start_time": "2024-11-05T04:29:54.368Z"
   },
   {
    "duration": 17,
    "start_time": "2024-11-05T04:31:16.157Z"
   },
   {
    "duration": 5,
    "start_time": "2024-11-05T04:31:39.678Z"
   },
   {
    "duration": 7,
    "start_time": "2024-11-05T04:32:01.748Z"
   },
   {
    "duration": 6,
    "start_time": "2024-11-05T04:32:10.442Z"
   },
   {
    "duration": 11,
    "start_time": "2024-11-05T04:45:59.178Z"
   },
   {
    "duration": 12,
    "start_time": "2024-11-05T04:46:14.906Z"
   },
   {
    "duration": 22,
    "start_time": "2024-11-05T04:47:27.021Z"
   },
   {
    "duration": 5,
    "start_time": "2024-11-05T04:47:47.716Z"
   },
   {
    "duration": 11,
    "start_time": "2024-11-05T04:47:56.076Z"
   },
   {
    "duration": 5,
    "start_time": "2024-11-05T04:48:03.429Z"
   },
   {
    "duration": 5,
    "start_time": "2024-11-05T04:49:05.606Z"
   },
   {
    "duration": 5,
    "start_time": "2024-11-05T04:56:13.193Z"
   },
   {
    "duration": 7,
    "start_time": "2024-11-05T05:03:35.373Z"
   },
   {
    "duration": 105,
    "start_time": "2024-11-05T05:06:00.083Z"
   },
   {
    "duration": 88,
    "start_time": "2024-11-05T05:06:13.715Z"
   },
   {
    "duration": 4,
    "start_time": "2024-11-05T05:06:21.314Z"
   }
  ],
  "kernelspec": {
   "display_name": "Python 3 (ipykernel)",
   "language": "python",
   "name": "python3"
  },
  "language_info": {
   "codemirror_mode": {
    "name": "ipython",
    "version": 3
   },
   "file_extension": ".py",
   "mimetype": "text/x-python",
   "name": "python",
   "nbconvert_exporter": "python",
   "pygments_lexer": "ipython3",
   "version": "3.9.19"
  },
  "toc": {
   "base_numbering": 1,
   "nav_menu": {},
   "number_sections": true,
   "sideBar": true,
   "skip_h1_title": true,
   "title_cell": "Table of Contents",
   "title_sidebar": "Contents",
   "toc_cell": false,
   "toc_position": {
    "height": "calc(100% - 180px)",
    "left": "10px",
    "top": "150px",
    "width": "211.682px"
   },
   "toc_section_display": true,
   "toc_window_display": true
  }
 },
 "nbformat": 4,
 "nbformat_minor": 2
}
